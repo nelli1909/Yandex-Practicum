{
 "cells": [
  {
   "cell_type": "markdown",
   "id": "ca536e61",
   "metadata": {
    "deletable": false,
    "editable": false,
    "id": "c81daeeb"
   },
   "source": [
    "# Исследование надежности заемщиков\n"
   ]
  },
  {
   "cell_type": "markdown",
   "id": "54a2eac3",
   "metadata": {
    "deletable": false,
    "editable": false,
    "id": "827c20bf"
   },
   "source": [
    "Во второй части проекта вы выполните шаги 3 и 4. Их вручную проверит ревьюер.\n",
    "Чтобы вам не пришлось писать код заново для шагов 1 и 2, мы добавили авторские решения в ячейки с кодом. \n",
    "\n"
   ]
  },
  {
   "cell_type": "markdown",
   "id": "ab0811bc",
   "metadata": {},
   "source": [
    "## Цели исследования:\n",
    "\n",
    "Проанализировать, влияет ли семейное положение и количество детей клиента на факт погашения кредита в срок. Входные данные от банка — статистика о платёжеспособности клиентов"
   ]
  },
  {
   "cell_type": "markdown",
   "id": "acb6c563",
   "metadata": {
    "deletable": false,
    "editable": false,
    "id": "744d7639"
   },
   "source": [
    "## Откройте таблицу и изучите общую информацию о данных"
   ]
  },
  {
   "cell_type": "markdown",
   "id": "30725c44",
   "metadata": {
    "deletable": false,
    "editable": false,
    "id": "e7a14c31"
   },
   "source": [
    "**Задание 1. Импортируйте библиотеку pandas. Считайте данные из csv-файла в датафрейм и сохраните в переменную `data`. Путь к файлу:**\n",
    "\n",
    "`/datasets/data.csv`"
   ]
  },
  {
   "cell_type": "code",
   "execution_count": 2,
   "id": "c92b3c97",
   "metadata": {
    "deletable": false,
    "id": "7bcf75c9"
   },
   "outputs": [],
   "source": [
    "import pandas as pd\n",
    "\n",
    "try:\n",
    "    data = pd.read_csv('/datasets/data.csv')\n",
    "except:\n",
    "    data = pd.read_csv('https://code.s3.yandex.net/datasets/data.csv')"
   ]
  },
  {
   "cell_type": "markdown",
   "id": "7e3093f3",
   "metadata": {
    "deletable": false,
    "editable": false,
    "id": "b8038fe3"
   },
   "source": [
    "**Задание 2. Выведите первые 20 строчек датафрейма `data` на экран.**"
   ]
  },
  {
   "cell_type": "code",
   "execution_count": 3,
   "id": "59423556",
   "metadata": {
    "deletable": false,
    "id": "2a7cab99",
    "outputId": "1a8f3ef2-d323-4ec2-ddf7-89670b5944c4"
   },
   "outputs": [
    {
     "data": {
      "text/html": [
       "<div>\n",
       "<style scoped>\n",
       "    .dataframe tbody tr th:only-of-type {\n",
       "        vertical-align: middle;\n",
       "    }\n",
       "\n",
       "    .dataframe tbody tr th {\n",
       "        vertical-align: top;\n",
       "    }\n",
       "\n",
       "    .dataframe thead th {\n",
       "        text-align: right;\n",
       "    }\n",
       "</style>\n",
       "<table border=\"1\" class=\"dataframe\">\n",
       "  <thead>\n",
       "    <tr style=\"text-align: right;\">\n",
       "      <th></th>\n",
       "      <th>children</th>\n",
       "      <th>days_employed</th>\n",
       "      <th>dob_years</th>\n",
       "      <th>education</th>\n",
       "      <th>education_id</th>\n",
       "      <th>family_status</th>\n",
       "      <th>family_status_id</th>\n",
       "      <th>gender</th>\n",
       "      <th>income_type</th>\n",
       "      <th>debt</th>\n",
       "      <th>total_income</th>\n",
       "      <th>purpose</th>\n",
       "    </tr>\n",
       "  </thead>\n",
       "  <tbody>\n",
       "    <tr>\n",
       "      <th>0</th>\n",
       "      <td>1</td>\n",
       "      <td>-8437.673028</td>\n",
       "      <td>42</td>\n",
       "      <td>высшее</td>\n",
       "      <td>0</td>\n",
       "      <td>женат / замужем</td>\n",
       "      <td>0</td>\n",
       "      <td>F</td>\n",
       "      <td>сотрудник</td>\n",
       "      <td>0</td>\n",
       "      <td>253875.639453</td>\n",
       "      <td>покупка жилья</td>\n",
       "    </tr>\n",
       "    <tr>\n",
       "      <th>1</th>\n",
       "      <td>1</td>\n",
       "      <td>-4024.803754</td>\n",
       "      <td>36</td>\n",
       "      <td>среднее</td>\n",
       "      <td>1</td>\n",
       "      <td>женат / замужем</td>\n",
       "      <td>0</td>\n",
       "      <td>F</td>\n",
       "      <td>сотрудник</td>\n",
       "      <td>0</td>\n",
       "      <td>112080.014102</td>\n",
       "      <td>приобретение автомобиля</td>\n",
       "    </tr>\n",
       "    <tr>\n",
       "      <th>2</th>\n",
       "      <td>0</td>\n",
       "      <td>-5623.422610</td>\n",
       "      <td>33</td>\n",
       "      <td>Среднее</td>\n",
       "      <td>1</td>\n",
       "      <td>женат / замужем</td>\n",
       "      <td>0</td>\n",
       "      <td>M</td>\n",
       "      <td>сотрудник</td>\n",
       "      <td>0</td>\n",
       "      <td>145885.952297</td>\n",
       "      <td>покупка жилья</td>\n",
       "    </tr>\n",
       "    <tr>\n",
       "      <th>3</th>\n",
       "      <td>3</td>\n",
       "      <td>-4124.747207</td>\n",
       "      <td>32</td>\n",
       "      <td>среднее</td>\n",
       "      <td>1</td>\n",
       "      <td>женат / замужем</td>\n",
       "      <td>0</td>\n",
       "      <td>M</td>\n",
       "      <td>сотрудник</td>\n",
       "      <td>0</td>\n",
       "      <td>267628.550329</td>\n",
       "      <td>дополнительное образование</td>\n",
       "    </tr>\n",
       "    <tr>\n",
       "      <th>4</th>\n",
       "      <td>0</td>\n",
       "      <td>340266.072047</td>\n",
       "      <td>53</td>\n",
       "      <td>среднее</td>\n",
       "      <td>1</td>\n",
       "      <td>гражданский брак</td>\n",
       "      <td>1</td>\n",
       "      <td>F</td>\n",
       "      <td>пенсионер</td>\n",
       "      <td>0</td>\n",
       "      <td>158616.077870</td>\n",
       "      <td>сыграть свадьбу</td>\n",
       "    </tr>\n",
       "    <tr>\n",
       "      <th>5</th>\n",
       "      <td>0</td>\n",
       "      <td>-926.185831</td>\n",
       "      <td>27</td>\n",
       "      <td>высшее</td>\n",
       "      <td>0</td>\n",
       "      <td>гражданский брак</td>\n",
       "      <td>1</td>\n",
       "      <td>M</td>\n",
       "      <td>компаньон</td>\n",
       "      <td>0</td>\n",
       "      <td>255763.565419</td>\n",
       "      <td>покупка жилья</td>\n",
       "    </tr>\n",
       "    <tr>\n",
       "      <th>6</th>\n",
       "      <td>0</td>\n",
       "      <td>-2879.202052</td>\n",
       "      <td>43</td>\n",
       "      <td>высшее</td>\n",
       "      <td>0</td>\n",
       "      <td>женат / замужем</td>\n",
       "      <td>0</td>\n",
       "      <td>F</td>\n",
       "      <td>компаньон</td>\n",
       "      <td>0</td>\n",
       "      <td>240525.971920</td>\n",
       "      <td>операции с жильем</td>\n",
       "    </tr>\n",
       "    <tr>\n",
       "      <th>7</th>\n",
       "      <td>0</td>\n",
       "      <td>-152.779569</td>\n",
       "      <td>50</td>\n",
       "      <td>СРЕДНЕЕ</td>\n",
       "      <td>1</td>\n",
       "      <td>женат / замужем</td>\n",
       "      <td>0</td>\n",
       "      <td>M</td>\n",
       "      <td>сотрудник</td>\n",
       "      <td>0</td>\n",
       "      <td>135823.934197</td>\n",
       "      <td>образование</td>\n",
       "    </tr>\n",
       "    <tr>\n",
       "      <th>8</th>\n",
       "      <td>2</td>\n",
       "      <td>-6929.865299</td>\n",
       "      <td>35</td>\n",
       "      <td>ВЫСШЕЕ</td>\n",
       "      <td>0</td>\n",
       "      <td>гражданский брак</td>\n",
       "      <td>1</td>\n",
       "      <td>F</td>\n",
       "      <td>сотрудник</td>\n",
       "      <td>0</td>\n",
       "      <td>95856.832424</td>\n",
       "      <td>на проведение свадьбы</td>\n",
       "    </tr>\n",
       "    <tr>\n",
       "      <th>9</th>\n",
       "      <td>0</td>\n",
       "      <td>-2188.756445</td>\n",
       "      <td>41</td>\n",
       "      <td>среднее</td>\n",
       "      <td>1</td>\n",
       "      <td>женат / замужем</td>\n",
       "      <td>0</td>\n",
       "      <td>M</td>\n",
       "      <td>сотрудник</td>\n",
       "      <td>0</td>\n",
       "      <td>144425.938277</td>\n",
       "      <td>покупка жилья для семьи</td>\n",
       "    </tr>\n",
       "    <tr>\n",
       "      <th>10</th>\n",
       "      <td>2</td>\n",
       "      <td>-4171.483647</td>\n",
       "      <td>36</td>\n",
       "      <td>высшее</td>\n",
       "      <td>0</td>\n",
       "      <td>женат / замужем</td>\n",
       "      <td>0</td>\n",
       "      <td>M</td>\n",
       "      <td>компаньон</td>\n",
       "      <td>0</td>\n",
       "      <td>113943.491460</td>\n",
       "      <td>покупка недвижимости</td>\n",
       "    </tr>\n",
       "    <tr>\n",
       "      <th>11</th>\n",
       "      <td>0</td>\n",
       "      <td>-792.701887</td>\n",
       "      <td>40</td>\n",
       "      <td>среднее</td>\n",
       "      <td>1</td>\n",
       "      <td>женат / замужем</td>\n",
       "      <td>0</td>\n",
       "      <td>F</td>\n",
       "      <td>сотрудник</td>\n",
       "      <td>0</td>\n",
       "      <td>77069.234271</td>\n",
       "      <td>покупка коммерческой недвижимости</td>\n",
       "    </tr>\n",
       "    <tr>\n",
       "      <th>12</th>\n",
       "      <td>0</td>\n",
       "      <td>NaN</td>\n",
       "      <td>65</td>\n",
       "      <td>среднее</td>\n",
       "      <td>1</td>\n",
       "      <td>гражданский брак</td>\n",
       "      <td>1</td>\n",
       "      <td>M</td>\n",
       "      <td>пенсионер</td>\n",
       "      <td>0</td>\n",
       "      <td>NaN</td>\n",
       "      <td>сыграть свадьбу</td>\n",
       "    </tr>\n",
       "    <tr>\n",
       "      <th>13</th>\n",
       "      <td>0</td>\n",
       "      <td>-1846.641941</td>\n",
       "      <td>54</td>\n",
       "      <td>неоконченное высшее</td>\n",
       "      <td>2</td>\n",
       "      <td>женат / замужем</td>\n",
       "      <td>0</td>\n",
       "      <td>F</td>\n",
       "      <td>сотрудник</td>\n",
       "      <td>0</td>\n",
       "      <td>130458.228857</td>\n",
       "      <td>приобретение автомобиля</td>\n",
       "    </tr>\n",
       "    <tr>\n",
       "      <th>14</th>\n",
       "      <td>0</td>\n",
       "      <td>-1844.956182</td>\n",
       "      <td>56</td>\n",
       "      <td>высшее</td>\n",
       "      <td>0</td>\n",
       "      <td>гражданский брак</td>\n",
       "      <td>1</td>\n",
       "      <td>F</td>\n",
       "      <td>компаньон</td>\n",
       "      <td>1</td>\n",
       "      <td>165127.911772</td>\n",
       "      <td>покупка жилой недвижимости</td>\n",
       "    </tr>\n",
       "    <tr>\n",
       "      <th>15</th>\n",
       "      <td>1</td>\n",
       "      <td>-972.364419</td>\n",
       "      <td>26</td>\n",
       "      <td>среднее</td>\n",
       "      <td>1</td>\n",
       "      <td>женат / замужем</td>\n",
       "      <td>0</td>\n",
       "      <td>F</td>\n",
       "      <td>сотрудник</td>\n",
       "      <td>0</td>\n",
       "      <td>116820.904450</td>\n",
       "      <td>строительство собственной недвижимости</td>\n",
       "    </tr>\n",
       "    <tr>\n",
       "      <th>16</th>\n",
       "      <td>0</td>\n",
       "      <td>-1719.934226</td>\n",
       "      <td>35</td>\n",
       "      <td>среднее</td>\n",
       "      <td>1</td>\n",
       "      <td>женат / замужем</td>\n",
       "      <td>0</td>\n",
       "      <td>F</td>\n",
       "      <td>сотрудник</td>\n",
       "      <td>0</td>\n",
       "      <td>289202.704229</td>\n",
       "      <td>недвижимость</td>\n",
       "    </tr>\n",
       "    <tr>\n",
       "      <th>17</th>\n",
       "      <td>0</td>\n",
       "      <td>-2369.999720</td>\n",
       "      <td>33</td>\n",
       "      <td>высшее</td>\n",
       "      <td>0</td>\n",
       "      <td>гражданский брак</td>\n",
       "      <td>1</td>\n",
       "      <td>M</td>\n",
       "      <td>сотрудник</td>\n",
       "      <td>0</td>\n",
       "      <td>90410.586745</td>\n",
       "      <td>строительство недвижимости</td>\n",
       "    </tr>\n",
       "    <tr>\n",
       "      <th>18</th>\n",
       "      <td>0</td>\n",
       "      <td>400281.136913</td>\n",
       "      <td>53</td>\n",
       "      <td>среднее</td>\n",
       "      <td>1</td>\n",
       "      <td>вдовец / вдова</td>\n",
       "      <td>2</td>\n",
       "      <td>F</td>\n",
       "      <td>пенсионер</td>\n",
       "      <td>0</td>\n",
       "      <td>56823.777243</td>\n",
       "      <td>на покупку подержанного автомобиля</td>\n",
       "    </tr>\n",
       "    <tr>\n",
       "      <th>19</th>\n",
       "      <td>0</td>\n",
       "      <td>-10038.818549</td>\n",
       "      <td>48</td>\n",
       "      <td>СРЕДНЕЕ</td>\n",
       "      <td>1</td>\n",
       "      <td>в разводе</td>\n",
       "      <td>3</td>\n",
       "      <td>F</td>\n",
       "      <td>сотрудник</td>\n",
       "      <td>0</td>\n",
       "      <td>242831.107982</td>\n",
       "      <td>на покупку своего автомобиля</td>\n",
       "    </tr>\n",
       "  </tbody>\n",
       "</table>\n",
       "</div>"
      ],
      "text/plain": [
       "    children  days_employed  dob_years            education  education_id  \\\n",
       "0          1   -8437.673028         42               высшее             0   \n",
       "1          1   -4024.803754         36              среднее             1   \n",
       "2          0   -5623.422610         33              Среднее             1   \n",
       "3          3   -4124.747207         32              среднее             1   \n",
       "4          0  340266.072047         53              среднее             1   \n",
       "5          0    -926.185831         27               высшее             0   \n",
       "6          0   -2879.202052         43               высшее             0   \n",
       "7          0    -152.779569         50              СРЕДНЕЕ             1   \n",
       "8          2   -6929.865299         35               ВЫСШЕЕ             0   \n",
       "9          0   -2188.756445         41              среднее             1   \n",
       "10         2   -4171.483647         36               высшее             0   \n",
       "11         0    -792.701887         40              среднее             1   \n",
       "12         0            NaN         65              среднее             1   \n",
       "13         0   -1846.641941         54  неоконченное высшее             2   \n",
       "14         0   -1844.956182         56               высшее             0   \n",
       "15         1    -972.364419         26              среднее             1   \n",
       "16         0   -1719.934226         35              среднее             1   \n",
       "17         0   -2369.999720         33               высшее             0   \n",
       "18         0  400281.136913         53              среднее             1   \n",
       "19         0  -10038.818549         48              СРЕДНЕЕ             1   \n",
       "\n",
       "       family_status  family_status_id gender income_type  debt  \\\n",
       "0    женат / замужем                 0      F   сотрудник     0   \n",
       "1    женат / замужем                 0      F   сотрудник     0   \n",
       "2    женат / замужем                 0      M   сотрудник     0   \n",
       "3    женат / замужем                 0      M   сотрудник     0   \n",
       "4   гражданский брак                 1      F   пенсионер     0   \n",
       "5   гражданский брак                 1      M   компаньон     0   \n",
       "6    женат / замужем                 0      F   компаньон     0   \n",
       "7    женат / замужем                 0      M   сотрудник     0   \n",
       "8   гражданский брак                 1      F   сотрудник     0   \n",
       "9    женат / замужем                 0      M   сотрудник     0   \n",
       "10   женат / замужем                 0      M   компаньон     0   \n",
       "11   женат / замужем                 0      F   сотрудник     0   \n",
       "12  гражданский брак                 1      M   пенсионер     0   \n",
       "13   женат / замужем                 0      F   сотрудник     0   \n",
       "14  гражданский брак                 1      F   компаньон     1   \n",
       "15   женат / замужем                 0      F   сотрудник     0   \n",
       "16   женат / замужем                 0      F   сотрудник     0   \n",
       "17  гражданский брак                 1      M   сотрудник     0   \n",
       "18    вдовец / вдова                 2      F   пенсионер     0   \n",
       "19         в разводе                 3      F   сотрудник     0   \n",
       "\n",
       "     total_income                                 purpose  \n",
       "0   253875.639453                           покупка жилья  \n",
       "1   112080.014102                 приобретение автомобиля  \n",
       "2   145885.952297                           покупка жилья  \n",
       "3   267628.550329              дополнительное образование  \n",
       "4   158616.077870                         сыграть свадьбу  \n",
       "5   255763.565419                           покупка жилья  \n",
       "6   240525.971920                       операции с жильем  \n",
       "7   135823.934197                             образование  \n",
       "8    95856.832424                   на проведение свадьбы  \n",
       "9   144425.938277                 покупка жилья для семьи  \n",
       "10  113943.491460                    покупка недвижимости  \n",
       "11   77069.234271       покупка коммерческой недвижимости  \n",
       "12            NaN                         сыграть свадьбу  \n",
       "13  130458.228857                 приобретение автомобиля  \n",
       "14  165127.911772              покупка жилой недвижимости  \n",
       "15  116820.904450  строительство собственной недвижимости  \n",
       "16  289202.704229                            недвижимость  \n",
       "17   90410.586745              строительство недвижимости  \n",
       "18   56823.777243      на покупку подержанного автомобиля  \n",
       "19  242831.107982            на покупку своего автомобиля  "
      ]
     },
     "execution_count": 3,
     "metadata": {},
     "output_type": "execute_result"
    }
   ],
   "source": [
    "data.head(20)"
   ]
  },
  {
   "cell_type": "markdown",
   "id": "8fd0ebac",
   "metadata": {
    "deletable": false,
    "editable": false,
    "id": "1c12e233"
   },
   "source": [
    "**Задание 3. Выведите основную информацию о датафрейме с помощью метода `info()`.**"
   ]
  },
  {
   "cell_type": "code",
   "execution_count": 4,
   "id": "d5df8c81",
   "metadata": {
    "deletable": false,
    "id": "2b757bca",
    "outputId": "15376089-8dad-46c9-b520-c05248d43158"
   },
   "outputs": [
    {
     "name": "stdout",
     "output_type": "stream",
     "text": [
      "<class 'pandas.core.frame.DataFrame'>\n",
      "RangeIndex: 21525 entries, 0 to 21524\n",
      "Data columns (total 12 columns):\n",
      " #   Column            Non-Null Count  Dtype  \n",
      "---  ------            --------------  -----  \n",
      " 0   children          21525 non-null  int64  \n",
      " 1   days_employed     19351 non-null  float64\n",
      " 2   dob_years         21525 non-null  int64  \n",
      " 3   education         21525 non-null  object \n",
      " 4   education_id      21525 non-null  int64  \n",
      " 5   family_status     21525 non-null  object \n",
      " 6   family_status_id  21525 non-null  int64  \n",
      " 7   gender            21525 non-null  object \n",
      " 8   income_type       21525 non-null  object \n",
      " 9   debt              21525 non-null  int64  \n",
      " 10  total_income      19351 non-null  float64\n",
      " 11  purpose           21525 non-null  object \n",
      "dtypes: float64(2), int64(5), object(5)\n",
      "memory usage: 2.0+ MB\n"
     ]
    }
   ],
   "source": [
    "data.info()"
   ]
  },
  {
   "cell_type": "markdown",
   "id": "01623bb6",
   "metadata": {
    "deletable": false,
    "editable": false,
    "id": "333ec665"
   },
   "source": [
    "## Предобработка данных"
   ]
  },
  {
   "cell_type": "markdown",
   "id": "33072282",
   "metadata": {
    "deletable": false,
    "editable": false,
    "id": "02d92d53"
   },
   "source": [
    "### Удаление пропусков"
   ]
  },
  {
   "cell_type": "markdown",
   "id": "a7d3e279",
   "metadata": {
    "deletable": false,
    "editable": false,
    "id": "cd84967c"
   },
   "source": [
    "**Задание 4. Выведите количество пропущенных значений для каждого столбца. Используйте комбинацию двух методов.**"
   ]
  },
  {
   "cell_type": "code",
   "execution_count": 5,
   "id": "d25b677c",
   "metadata": {
    "deletable": false,
    "id": "7f9b2309",
    "outputId": "81f4d817-781c-465c-ed15-91ce4446810d"
   },
   "outputs": [
    {
     "data": {
      "text/plain": [
       "children               0\n",
       "days_employed       2174\n",
       "dob_years              0\n",
       "education              0\n",
       "education_id           0\n",
       "family_status          0\n",
       "family_status_id       0\n",
       "gender                 0\n",
       "income_type            0\n",
       "debt                   0\n",
       "total_income        2174\n",
       "purpose                0\n",
       "dtype: int64"
      ]
     },
     "execution_count": 5,
     "metadata": {},
     "output_type": "execute_result"
    }
   ],
   "source": [
    "data.isna().sum()"
   ]
  },
  {
   "cell_type": "markdown",
   "id": "008b9e67",
   "metadata": {
    "deletable": false,
    "editable": false,
    "id": "db86e27b"
   },
   "source": [
    "**Задание 5. В двух столбцах есть пропущенные значения. Один из них — `days_employed`. Пропуски в этом столбце вы обработаете на следующем этапе. Другой столбец с пропущенными значениями — `total_income` — хранит данные о доходах. На сумму дохода сильнее всего влияет тип занятости, поэтому заполнить пропуски в этом столбце нужно медианным значением по каждому типу из столбца `income_type`. Например, у человека с типом занятости `сотрудник` пропуск в столбце `total_income` должен быть заполнен медианным доходом среди всех записей с тем же типом.**"
   ]
  },
  {
   "cell_type": "code",
   "execution_count": 6,
   "id": "ad33f438",
   "metadata": {
    "deletable": false,
    "id": "42006a93"
   },
   "outputs": [],
   "source": [
    "for t in data['income_type'].unique():\n",
    "    data.loc[(data['income_type'] == t) & (data['total_income'].isna()), 'total_income'] = \\\n",
    "    data.loc[(data['income_type'] == t), 'total_income'].median()"
   ]
  },
  {
   "cell_type": "markdown",
   "id": "309bb55a",
   "metadata": {
    "deletable": false,
    "editable": false,
    "id": "89da5ece"
   },
   "source": [
    "### Обработка аномальных значений"
   ]
  },
  {
   "cell_type": "markdown",
   "id": "2c3c9e90",
   "metadata": {
    "deletable": false,
    "editable": false,
    "id": "57964554"
   },
   "source": [
    "**Задание 6. В данных могут встречаться артефакты (аномалии) — значения, которые не отражают действительность и появились по какой-то ошибке. таким артефактом будет отрицательное количество дней трудового стажа в столбце `days_employed`. Для реальных данных это нормально. Обработайте значения в этом столбце: замените все отрицательные значения положительными с помощью метода `abs()`.**"
   ]
  },
  {
   "cell_type": "code",
   "execution_count": 7,
   "id": "d638edef",
   "metadata": {
    "deletable": false,
    "id": "f6f055bf"
   },
   "outputs": [],
   "source": [
    "data['days_employed'] = data['days_employed'].abs()"
   ]
  },
  {
   "cell_type": "markdown",
   "id": "3c8002c6",
   "metadata": {
    "deletable": false,
    "editable": false,
    "id": "6107dd2f"
   },
   "source": [
    "**Задание 7. Для каждого типа занятости выведите медианное значение трудового стажа `days_employed` в днях.**"
   ]
  },
  {
   "cell_type": "code",
   "execution_count": 8,
   "id": "c5e71b7e",
   "metadata": {
    "deletable": false,
    "id": "85a5faf6",
    "outputId": "801ef80e-522b-4668-f34e-565af7432bcf"
   },
   "outputs": [
    {
     "data": {
      "text/plain": [
       "income_type\n",
       "безработный        366413.652744\n",
       "в декрете            3296.759962\n",
       "госслужащий          2689.368353\n",
       "компаньон            1547.382223\n",
       "пенсионер          365213.306266\n",
       "предприниматель       520.848083\n",
       "сотрудник            1574.202821\n",
       "студент               578.751554\n",
       "Name: days_employed, dtype: float64"
      ]
     },
     "execution_count": 8,
     "metadata": {},
     "output_type": "execute_result"
    }
   ],
   "source": [
    "data.groupby('income_type')['days_employed'].agg('median')"
   ]
  },
  {
   "cell_type": "markdown",
   "id": "cf53e837",
   "metadata": {
    "deletable": false,
    "editable": false,
    "id": "38d1a030"
   },
   "source": [
    "У двух типов (безработные и пенсионеры) получатся аномально большие значения. Исправить такие значения сложно, поэтому оставьте их как есть. Тем более этот столбец не понадобится вам для исследования."
   ]
  },
  {
   "cell_type": "markdown",
   "id": "353ff1f9",
   "metadata": {
    "deletable": false,
    "editable": false,
    "id": "d8a9f147"
   },
   "source": [
    "**Задание 8. Выведите перечень уникальных значений столбца `children`.**"
   ]
  },
  {
   "cell_type": "code",
   "execution_count": 9,
   "id": "344f6757",
   "metadata": {
    "deletable": false,
    "id": "ef5056eb",
    "outputId": "6975b15c-7f95-4697-d16d-a0c79b657b03"
   },
   "outputs": [
    {
     "data": {
      "text/plain": [
       "array([ 1,  0,  3,  2, -1,  4, 20,  5])"
      ]
     },
     "execution_count": 9,
     "metadata": {},
     "output_type": "execute_result"
    }
   ],
   "source": [
    "data['children'].unique()"
   ]
  },
  {
   "cell_type": "markdown",
   "id": "7a1444c6",
   "metadata": {
    "deletable": false,
    "editable": false,
    "id": "40b9ebf2"
   },
   "source": [
    "**Задание 9. В столбце `children` есть два аномальных значения. Удалите строки, в которых встречаются такие аномальные значения из датафрейма `data`.**"
   ]
  },
  {
   "cell_type": "code",
   "execution_count": 10,
   "id": "0b638860",
   "metadata": {
    "deletable": false,
    "id": "3ff9801d"
   },
   "outputs": [],
   "source": [
    "data = data[(data['children'] != -1) & (data['children'] != 20)]"
   ]
  },
  {
   "cell_type": "markdown",
   "id": "f8a459b4",
   "metadata": {
    "deletable": false,
    "editable": false,
    "id": "bbc4d0ce"
   },
   "source": [
    "**Задание 10. Ещё раз выведите перечень уникальных значений столбца `children`, чтобы убедиться, что артефакты удалены.**"
   ]
  },
  {
   "cell_type": "code",
   "execution_count": 11,
   "id": "cc1649a3",
   "metadata": {
    "deletable": false,
    "id": "ad4fa8b7",
    "outputId": "b2097101-d49d-44d9-901b-32a65c9463d1"
   },
   "outputs": [
    {
     "data": {
      "text/plain": [
       "array([1, 0, 3, 2, 4, 5])"
      ]
     },
     "execution_count": 11,
     "metadata": {},
     "output_type": "execute_result"
    }
   ],
   "source": [
    "data['children'].unique()"
   ]
  },
  {
   "cell_type": "markdown",
   "id": "66b84709",
   "metadata": {
    "deletable": false,
    "editable": false,
    "id": "75440b63"
   },
   "source": [
    "### Удаление пропусков (продолжение)"
   ]
  },
  {
   "cell_type": "markdown",
   "id": "0c822981",
   "metadata": {
    "deletable": false,
    "editable": false,
    "id": "f4ea573f"
   },
   "source": [
    "**Задание 11. Заполните пропуски в столбце `days_employed` медианными значениями по каждого типа занятости `income_type`.**"
   ]
  },
  {
   "cell_type": "code",
   "execution_count": 12,
   "id": "a052f59e",
   "metadata": {
    "deletable": false,
    "id": "af6b1a7e"
   },
   "outputs": [],
   "source": [
    "for t in data['income_type'].unique():\n",
    "    data.loc[(data['income_type'] == t) & (data['days_employed'].isna()), 'days_employed'] = \\\n",
    "    data.loc[(data['income_type'] == t), 'days_employed'].median()"
   ]
  },
  {
   "cell_type": "markdown",
   "id": "a73d6bc6",
   "metadata": {
    "deletable": false,
    "editable": false,
    "id": "2753f40d"
   },
   "source": [
    "**Задание 12. Убедитесь, что все пропуски заполнены. Проверьте себя и ещё раз выведите количество пропущенных значений для каждого столбца с помощью двух методов.**"
   ]
  },
  {
   "cell_type": "code",
   "execution_count": 13,
   "id": "2255560e",
   "metadata": {
    "deletable": false,
    "id": "55f78bc2",
    "outputId": "8da1e4e1-358e-4e87-98c9-f261bce0a7b2"
   },
   "outputs": [
    {
     "data": {
      "text/plain": [
       "children            0\n",
       "days_employed       0\n",
       "dob_years           0\n",
       "education           0\n",
       "education_id        0\n",
       "family_status       0\n",
       "family_status_id    0\n",
       "gender              0\n",
       "income_type         0\n",
       "debt                0\n",
       "total_income        0\n",
       "purpose             0\n",
       "dtype: int64"
      ]
     },
     "execution_count": 13,
     "metadata": {},
     "output_type": "execute_result"
    }
   ],
   "source": [
    "data.isna().sum()"
   ]
  },
  {
   "cell_type": "markdown",
   "id": "a7bb66bb",
   "metadata": {
    "deletable": false,
    "editable": false,
    "id": "ddc81e43"
   },
   "source": [
    "### Изменение типов данных"
   ]
  },
  {
   "cell_type": "markdown",
   "id": "56909572",
   "metadata": {
    "deletable": false,
    "editable": false,
    "id": "42d19d24"
   },
   "source": [
    "**Задание 13. Замените вещественный тип данных в столбце `total_income` на целочисленный с помощью метода `astype()`.**"
   ]
  },
  {
   "cell_type": "code",
   "execution_count": 14,
   "id": "dc58eb84",
   "metadata": {
    "deletable": false,
    "id": "920b65ad"
   },
   "outputs": [],
   "source": [
    "data['total_income'] = data['total_income'].astype(int)"
   ]
  },
  {
   "cell_type": "markdown",
   "id": "03a9b363",
   "metadata": {
    "deletable": false,
    "editable": false,
    "id": "80c420ba"
   },
   "source": [
    "### Обработка дубликатов"
   ]
  },
  {
   "cell_type": "markdown",
   "id": "0c61d87f",
   "metadata": {
    "deletable": false,
    "editable": false
   },
   "source": [
    "**Задание 14. Обработайте неявные дубликаты в столбце `education`. В этом столбце есть одни и те же значения, но записанные по-разному: с использованием заглавных и строчных букв. Приведите их к нижнему регистру.**"
   ]
  },
  {
   "cell_type": "code",
   "execution_count": 15,
   "id": "704e3578",
   "metadata": {
    "deletable": false
   },
   "outputs": [],
   "source": [
    "data['education'] = data['education'].str.lower()"
   ]
  },
  {
   "cell_type": "markdown",
   "id": "b1ccd13c",
   "metadata": {
    "deletable": false,
    "editable": false,
    "id": "dc587695"
   },
   "source": [
    "**Задание 15. Выведите на экран количество строк-дубликатов в данных. Если такие строки присутствуют, удалите их.**"
   ]
  },
  {
   "cell_type": "code",
   "execution_count": 16,
   "id": "5b6989b8",
   "metadata": {
    "deletable": false,
    "id": "3ee445e4",
    "outputId": "9684deba-1934-42d1-99e1-cda61740f822"
   },
   "outputs": [
    {
     "data": {
      "text/plain": [
       "71"
      ]
     },
     "execution_count": 16,
     "metadata": {},
     "output_type": "execute_result"
    }
   ],
   "source": [
    "data.duplicated().sum()"
   ]
  },
  {
   "cell_type": "code",
   "execution_count": 17,
   "id": "13e39de3",
   "metadata": {
    "deletable": false,
    "id": "8575fe05"
   },
   "outputs": [],
   "source": [
    "data = data.drop_duplicates()"
   ]
  },
  {
   "cell_type": "markdown",
   "id": "8b44cbae",
   "metadata": {
    "deletable": false,
    "editable": false,
    "id": "9904cf55"
   },
   "source": [
    "### Категоризация данных"
   ]
  },
  {
   "cell_type": "markdown",
   "id": "758bc0ce",
   "metadata": {
    "deletable": false,
    "editable": false,
    "id": "72fcc8a2"
   },
   "source": [
    "**Задание 16. На основании диапазонов, указанных ниже, создайте в датафрейме `data` столбец `total_income_category` с категориями:**\n",
    "\n",
    "- 0–30000 — `'E'`;\n",
    "- 30001–50000 — `'D'`;\n",
    "- 50001–200000 — `'C'`;\n",
    "- 200001–1000000 — `'B'`;\n",
    "- 1000001 и выше — `'A'`.\n",
    "\n",
    "\n",
    "**Например, кредитополучателю с доходом 25000 нужно назначить категорию `'E'`, а клиенту, получающему 235000, — `'B'`. Используйте собственную функцию с именем `categorize_income()` и метод `apply()`.**"
   ]
  },
  {
   "cell_type": "code",
   "execution_count": 18,
   "id": "2589ecf0",
   "metadata": {
    "deletable": false,
    "id": "e1771346"
   },
   "outputs": [],
   "source": [
    "def categorize_income(income):\n",
    "    try:\n",
    "        if 0 <= income <= 30000:\n",
    "            return 'E'\n",
    "        elif 30001 <= income <= 50000:\n",
    "            return 'D'\n",
    "        elif 50001 <= income <= 200000:\n",
    "            return 'C'\n",
    "        elif 200001 <= income <= 1000000:\n",
    "            return 'B'\n",
    "        elif income >= 1000001:\n",
    "            return 'A'\n",
    "    except:\n",
    "        pass"
   ]
  },
  {
   "cell_type": "code",
   "execution_count": 19,
   "id": "f10789a0",
   "metadata": {
    "deletable": false,
    "id": "d5f3586d"
   },
   "outputs": [],
   "source": [
    "data['total_income_category'] = data['total_income'].apply(categorize_income)"
   ]
  },
  {
   "cell_type": "markdown",
   "id": "70aa7384",
   "metadata": {
    "deletable": false,
    "editable": false,
    "id": "dde49b5c"
   },
   "source": [
    "**Задание 17. Выведите на экран перечень уникальных целей взятия кредита из столбца `purpose`.**"
   ]
  },
  {
   "cell_type": "code",
   "execution_count": 20,
   "id": "20816115",
   "metadata": {
    "deletable": false,
    "id": "f67ce9b3",
    "outputId": "673c12d9-7d7e-4ae0-9812-c622c89dd244"
   },
   "outputs": [
    {
     "data": {
      "text/plain": [
       "array(['покупка жилья', 'приобретение автомобиля',\n",
       "       'дополнительное образование', 'сыграть свадьбу',\n",
       "       'операции с жильем', 'образование', 'на проведение свадьбы',\n",
       "       'покупка жилья для семьи', 'покупка недвижимости',\n",
       "       'покупка коммерческой недвижимости', 'покупка жилой недвижимости',\n",
       "       'строительство собственной недвижимости', 'недвижимость',\n",
       "       'строительство недвижимости', 'на покупку подержанного автомобиля',\n",
       "       'на покупку своего автомобиля',\n",
       "       'операции с коммерческой недвижимостью',\n",
       "       'строительство жилой недвижимости', 'жилье',\n",
       "       'операции со своей недвижимостью', 'автомобили',\n",
       "       'заняться образованием', 'сделка с подержанным автомобилем',\n",
       "       'получение образования', 'автомобиль', 'свадьба',\n",
       "       'получение дополнительного образования', 'покупка своего жилья',\n",
       "       'операции с недвижимостью', 'получение высшего образования',\n",
       "       'свой автомобиль', 'сделка с автомобилем',\n",
       "       'профильное образование', 'высшее образование',\n",
       "       'покупка жилья для сдачи', 'на покупку автомобиля', 'ремонт жилью',\n",
       "       'заняться высшим образованием'], dtype=object)"
      ]
     },
     "execution_count": 20,
     "metadata": {},
     "output_type": "execute_result"
    }
   ],
   "source": [
    "data['purpose'].unique()"
   ]
  },
  {
   "cell_type": "markdown",
   "id": "bb6b44b3",
   "metadata": {
    "deletable": false,
    "editable": false,
    "id": "85d0aef0"
   },
   "source": [
    "**Задание 18. Создайте функцию, которая на основании данных из столбца `purpose` сформирует новый столбец `purpose_category`, в который войдут следующие категории:**\n",
    "\n",
    "- `'операции с автомобилем'`,\n",
    "- `'операции с недвижимостью'`,\n",
    "- `'проведение свадьбы'`,\n",
    "- `'получение образования'`.\n",
    "\n",
    "**Например, если в столбце `purpose` находится подстрока `'на покупку автомобиля'`, то в столбце `purpose_category` должна появиться строка `'операции с автомобилем'`.**\n",
    "\n",
    "**Используйте собственную функцию с именем `categorize_purpose()` и метод `apply()`. Изучите данные в столбце `purpose` и определите, какие подстроки помогут вам правильно определить категорию.**"
   ]
  },
  {
   "cell_type": "code",
   "execution_count": 21,
   "id": "29a9c7fc",
   "metadata": {
    "deletable": false,
    "id": "e149fab4"
   },
   "outputs": [],
   "source": [
    "def categorize_purpose(row):\n",
    "    try:\n",
    "        if 'автом' in row:\n",
    "            return 'операции с автомобилем'\n",
    "        elif 'жил' in row or 'недвиж' in row:\n",
    "            return 'операции с недвижимостью'\n",
    "        elif 'свад' in row:\n",
    "            return 'проведение свадьбы'\n",
    "        elif 'образов' in row:\n",
    "            return 'получение образования'\n",
    "    except:\n",
    "        return 'нет категории'"
   ]
  },
  {
   "cell_type": "code",
   "execution_count": 22,
   "id": "7011168a",
   "metadata": {
    "deletable": false,
    "id": "bf36e69b"
   },
   "outputs": [],
   "source": [
    "data['purpose_category'] = data['purpose'].apply(categorize_purpose)"
   ]
  },
  {
   "cell_type": "markdown",
   "id": "661c0a26",
   "metadata": {
    "deletable": false,
    "editable": false,
    "id": "09b242bf"
   },
   "source": [
    "### Шаг 3. Исследуйте данные и ответьте на вопросы"
   ]
  },
  {
   "cell_type": "markdown",
   "id": "16044788",
   "metadata": {
    "deletable": false,
    "editable": false,
    "id": "c5d66278"
   },
   "source": [
    "#### 3.1 Есть ли зависимость между количеством детей и возвратом кредита в срок?"
   ]
  },
  {
   "cell_type": "code",
   "execution_count": 23,
   "id": "6fa4fea4",
   "metadata": {
    "deletable": false,
    "id": "2cacfc4a"
   },
   "outputs": [],
   "source": [
    "# Ваш код будет здесь. Вы можете создавать новые ячейки.\n",
    "#Необходимо установить, есть ли связь между наличием долга и количеством детей у заемщика. Предположительно, доля должников будет возрастать с увеличением количества детей в виду возрастающей финансовой нагрузки, среди заемщиков без детей процент будет самым низким"
   ]
  },
  {
   "cell_type": "code",
   "execution_count": 24,
   "id": "31c72964",
   "metadata": {},
   "outputs": [],
   "source": [
    "chidren_category_pivot=data.pivot_table(index=['children'], values='debt', aggfunc={'count', 'sum'})"
   ]
  },
  {
   "cell_type": "code",
   "execution_count": 25,
   "id": "27a5ff3c",
   "metadata": {},
   "outputs": [],
   "source": [
    "chidren_category_pivot=chidren_category_pivot.rename(columns={'count':'total', 'sum':'debt'})"
   ]
  },
  {
   "cell_type": "code",
   "execution_count": 26,
   "id": "ced9b99b",
   "metadata": {},
   "outputs": [],
   "source": [
    "chidren_category_pivot['share']=chidren_category_pivot['debt']/chidren_category_pivot['total']"
   ]
  },
  {
   "cell_type": "code",
   "execution_count": 27,
   "id": "d62415c9",
   "metadata": {},
   "outputs": [],
   "source": [
    "chidren_category_pivot=chidren_category_pivot.sort_values(by='share')"
   ]
  },
  {
   "cell_type": "code",
   "execution_count": 28,
   "id": "a42f9283",
   "metadata": {},
   "outputs": [
    {
     "data": {
      "text/html": [
       "<div>\n",
       "<style scoped>\n",
       "    .dataframe tbody tr th:only-of-type {\n",
       "        vertical-align: middle;\n",
       "    }\n",
       "\n",
       "    .dataframe tbody tr th {\n",
       "        vertical-align: top;\n",
       "    }\n",
       "\n",
       "    .dataframe thead th {\n",
       "        text-align: right;\n",
       "    }\n",
       "</style>\n",
       "<table border=\"1\" class=\"dataframe\">\n",
       "  <thead>\n",
       "    <tr style=\"text-align: right;\">\n",
       "      <th></th>\n",
       "      <th>total</th>\n",
       "      <th>debt</th>\n",
       "      <th>share</th>\n",
       "    </tr>\n",
       "    <tr>\n",
       "      <th>children</th>\n",
       "      <th></th>\n",
       "      <th></th>\n",
       "      <th></th>\n",
       "    </tr>\n",
       "  </thead>\n",
       "  <tbody>\n",
       "    <tr>\n",
       "      <th>5</th>\n",
       "      <td>9</td>\n",
       "      <td>0</td>\n",
       "      <td>0.000000</td>\n",
       "    </tr>\n",
       "    <tr>\n",
       "      <th>0</th>\n",
       "      <td>14091</td>\n",
       "      <td>1063</td>\n",
       "      <td>0.075438</td>\n",
       "    </tr>\n",
       "    <tr>\n",
       "      <th>3</th>\n",
       "      <td>330</td>\n",
       "      <td>27</td>\n",
       "      <td>0.081818</td>\n",
       "    </tr>\n",
       "    <tr>\n",
       "      <th>1</th>\n",
       "      <td>4808</td>\n",
       "      <td>444</td>\n",
       "      <td>0.092346</td>\n",
       "    </tr>\n",
       "    <tr>\n",
       "      <th>2</th>\n",
       "      <td>2052</td>\n",
       "      <td>194</td>\n",
       "      <td>0.094542</td>\n",
       "    </tr>\n",
       "    <tr>\n",
       "      <th>4</th>\n",
       "      <td>41</td>\n",
       "      <td>4</td>\n",
       "      <td>0.097561</td>\n",
       "    </tr>\n",
       "  </tbody>\n",
       "</table>\n",
       "</div>"
      ],
      "text/plain": [
       "          total  debt     share\n",
       "children                       \n",
       "5             9     0  0.000000\n",
       "0         14091  1063  0.075438\n",
       "3           330    27  0.081818\n",
       "1          4808   444  0.092346\n",
       "2          2052   194  0.094542\n",
       "4            41     4  0.097561"
      ]
     },
     "execution_count": 28,
     "metadata": {},
     "output_type": "execute_result"
    }
   ],
   "source": [
    "chidren_category_pivot"
   ]
  },
  {
   "cell_type": "markdown",
   "id": "28ace90b",
   "metadata": {
    "deletable": false,
    "id": "3a6b99ec"
   },
   "source": [
    "**Вывод:** Количество заемщиков с 3-мя и более детьми составляет незначительную долю в общей выборке заемщиков, поэтому на основании этих данных невозможно установить экономическое поведение для данной категории заемщиков. Среди наиболее многочисленных групп, количество должников наименьшее среди заемщиков без детей, что подтверждает изначальную гипотезу, доля должников среди заемщиков с 1-2 детьми приблизительно одинаковая и выше, чем у заемщиков без детей, что скорее всего связано с увеличением экономической нагрузки на семью."
   ]
  },
  {
   "cell_type": "markdown",
   "id": "50b7c292",
   "metadata": {
    "deletable": false,
    "editable": false,
    "id": "97be82ca"
   },
   "source": [
    "#### 3.2 Есть ли зависимость между семейным положением и возвратом кредита в срок?"
   ]
  },
  {
   "cell_type": "code",
   "execution_count": 29,
   "id": "86c767dc",
   "metadata": {
    "deletable": false,
    "id": "dc3f7ee8"
   },
   "outputs": [],
   "source": [
    "# Ваш код будет здесь. Вы можете создавать новые ячейки.\n",
    "#Необходимо установить, влияет ли семейный статус на наличие долга у заемщика. Предположительно, доля должников будет выше среди неженатых/незамужних заемщиков, в виду более молодого возраста, более низкого уровня дохода, уровня ответственности "
   ]
  },
  {
   "cell_type": "code",
   "execution_count": 30,
   "id": "6cc8e098",
   "metadata": {},
   "outputs": [],
   "source": [
    "family_category_pivot=data.pivot_table(index=['family_status'], values='debt', aggfunc={'count', 'sum'})"
   ]
  },
  {
   "cell_type": "code",
   "execution_count": 31,
   "id": "a1f992c4",
   "metadata": {},
   "outputs": [],
   "source": [
    "family_category_pivot=family_category_pivot.rename(columns={'count':'total', 'sum':'debt'})"
   ]
  },
  {
   "cell_type": "code",
   "execution_count": 32,
   "id": "82efde1e",
   "metadata": {},
   "outputs": [],
   "source": [
    "family_category_pivot['share']=family_category_pivot['debt']/family_category_pivot['total']"
   ]
  },
  {
   "cell_type": "code",
   "execution_count": 33,
   "id": "e86ed09b",
   "metadata": {},
   "outputs": [],
   "source": [
    "family_category_pivot=family_category_pivot.sort_values(by='share')"
   ]
  },
  {
   "cell_type": "code",
   "execution_count": 34,
   "id": "3bb2f895",
   "metadata": {},
   "outputs": [
    {
     "name": "stdout",
     "output_type": "stream",
     "text": [
      "                       total  debt     share\n",
      "family_status                               \n",
      "вдовец / вдова           951    63  0.066246\n",
      "в разводе               1189    84  0.070648\n",
      "женат / замужем        12261   927  0.075606\n",
      "гражданский брак        4134   385  0.093130\n",
      "Не женат / не замужем   2796   273  0.097639\n"
     ]
    }
   ],
   "source": [
    "print(family_category_pivot)"
   ]
  },
  {
   "cell_type": "markdown",
   "id": "87d71024",
   "metadata": {
    "deletable": false,
    "id": "1cef7837"
   },
   "source": [
    "**Вывод:** Гипотеза о более высоком уровне должников среди неженатых/незамужних заемщиков подтвердилась, также высокий уровень должников среди заемщиков с семейным статусом \"гражданский брак\" подтверждает предположение о более высоком риске долга среди людей, которые ранее не вступали в брак, при этом низкий уровень задолженностей в категории вдовец / вдова указывает на то, что в эту категорию попадают более взрослые клиенты со стабильным доходом или накоплениями "
   ]
  },
  {
   "cell_type": "markdown",
   "id": "0ab3b937",
   "metadata": {
    "deletable": false,
    "editable": false,
    "id": "1e8b2fca"
   },
   "source": [
    "#### 3.3 Есть ли зависимость между уровнем дохода и возвратом кредита в срок?"
   ]
  },
  {
   "cell_type": "code",
   "execution_count": 35,
   "id": "e28ebfd1",
   "metadata": {
    "deletable": false,
    "id": "cd7e3720"
   },
   "outputs": [],
   "source": [
    "# Ваш код будет здесь. Вы можете создавать новые ячейки.\n",
    "#Необходимо установить, существует ли связь между уровнем дохода и наличием долга по кредиту. Препололагается, что с увеличением дохода доля должников будет снижаться"
   ]
  },
  {
   "cell_type": "code",
   "execution_count": 59,
   "id": "0be92dc1",
   "metadata": {},
   "outputs": [],
   "source": [
    "def income_group(income):\n",
    "    if income=='A':\n",
    "        return '>= 1000001'\n",
    "    elif income=='B':\n",
    "        return '200001-1000000'\n",
    "    elif income=='C':\n",
    "        return '50001-200000'\n",
    "    elif income=='D':\n",
    "        return '30001-50000'\n",
    "    elif income=='E':\n",
    "        return '0-30000'"
   ]
  },
  {
   "cell_type": "code",
   "execution_count": 61,
   "id": "63cb92ae",
   "metadata": {},
   "outputs": [],
   "source": [
    "data['income_group'] = data['total_income_category'].apply(income_group)"
   ]
  },
  {
   "cell_type": "code",
   "execution_count": 63,
   "id": "cc02d575",
   "metadata": {},
   "outputs": [],
   "source": [
    "income_category_pivot=data.pivot_table(index=['total_income_category', 'income_group'], values='debt', aggfunc={'count', 'sum'})"
   ]
  },
  {
   "cell_type": "code",
   "execution_count": 64,
   "id": "ee3b97b1",
   "metadata": {},
   "outputs": [],
   "source": [
    "income_category_pivot=income_category_pivot.rename(columns={'count':'total', 'sum':'debt'})"
   ]
  },
  {
   "cell_type": "code",
   "execution_count": 65,
   "id": "15d89e37",
   "metadata": {},
   "outputs": [],
   "source": [
    "income_category_pivot['share']=income_category_pivot['share']=income_category_pivot['debt']/income_category_pivot['total']"
   ]
  },
  {
   "cell_type": "code",
   "execution_count": 66,
   "id": "905115a8",
   "metadata": {},
   "outputs": [],
   "source": [
    "income_category_pivot=income_category_pivot.sort_values(by='share')"
   ]
  },
  {
   "cell_type": "code",
   "execution_count": 67,
   "id": "c70c20a1",
   "metadata": {},
   "outputs": [
    {
     "data": {
      "text/html": [
       "<div>\n",
       "<style scoped>\n",
       "    .dataframe tbody tr th:only-of-type {\n",
       "        vertical-align: middle;\n",
       "    }\n",
       "\n",
       "    .dataframe tbody tr th {\n",
       "        vertical-align: top;\n",
       "    }\n",
       "\n",
       "    .dataframe thead th {\n",
       "        text-align: right;\n",
       "    }\n",
       "</style>\n",
       "<table border=\"1\" class=\"dataframe\">\n",
       "  <thead>\n",
       "    <tr style=\"text-align: right;\">\n",
       "      <th></th>\n",
       "      <th></th>\n",
       "      <th>total</th>\n",
       "      <th>debt</th>\n",
       "      <th>share</th>\n",
       "    </tr>\n",
       "    <tr>\n",
       "      <th>total_income_category</th>\n",
       "      <th>income_group</th>\n",
       "      <th></th>\n",
       "      <th></th>\n",
       "      <th></th>\n",
       "    </tr>\n",
       "  </thead>\n",
       "  <tbody>\n",
       "    <tr>\n",
       "      <th>D</th>\n",
       "      <th>30001-50000</th>\n",
       "      <td>349</td>\n",
       "      <td>21</td>\n",
       "      <td>0.060172</td>\n",
       "    </tr>\n",
       "    <tr>\n",
       "      <th>B</th>\n",
       "      <th>200001-1000000</th>\n",
       "      <td>5014</td>\n",
       "      <td>354</td>\n",
       "      <td>0.070602</td>\n",
       "    </tr>\n",
       "    <tr>\n",
       "      <th>A</th>\n",
       "      <th>&gt;= 1000001</th>\n",
       "      <td>25</td>\n",
       "      <td>2</td>\n",
       "      <td>0.080000</td>\n",
       "    </tr>\n",
       "    <tr>\n",
       "      <th>C</th>\n",
       "      <th>50001-200000</th>\n",
       "      <td>15921</td>\n",
       "      <td>1353</td>\n",
       "      <td>0.084982</td>\n",
       "    </tr>\n",
       "    <tr>\n",
       "      <th>E</th>\n",
       "      <th>0-30000</th>\n",
       "      <td>22</td>\n",
       "      <td>2</td>\n",
       "      <td>0.090909</td>\n",
       "    </tr>\n",
       "  </tbody>\n",
       "</table>\n",
       "</div>"
      ],
      "text/plain": [
       "                                      total  debt     share\n",
       "total_income_category income_group                         \n",
       "D                     30001-50000       349    21  0.060172\n",
       "B                     200001-1000000   5014   354  0.070602\n",
       "A                     >= 1000001         25     2  0.080000\n",
       "C                     50001-200000    15921  1353  0.084982\n",
       "E                     0-30000            22     2  0.090909"
      ]
     },
     "execution_count": 67,
     "metadata": {},
     "output_type": "execute_result"
    }
   ],
   "source": [
    "income_category_pivot"
   ]
  },
  {
   "cell_type": "markdown",
   "id": "0bbc6040",
   "metadata": {
    "deletable": false,
    "id": "e8593def"
   },
   "source": [
    "**Вывод:** Доля заемщиков  с доходом до 50 тысяч и более 1000000 очень низкая, на основании этих данных, скорее всего, выводы и предположения об экономическом поведении данной категории заемщиков будут некорректны. Среди наиболее многочисленных групп В и С подтверждается гипотеза о том, что с увеличением дохода, доля должников будет снижаться, необходимо дополнить выборку данными о заемщиках категории А, Е, D "
   ]
  },
  {
   "cell_type": "markdown",
   "id": "c4485127",
   "metadata": {
    "deletable": false,
    "editable": false,
    "id": "99ecbd1f"
   },
   "source": [
    "#### 3.4 Как разные цели кредита влияют на его возврат в срок?"
   ]
  },
  {
   "cell_type": "code",
   "execution_count": 41,
   "id": "aa8371b9",
   "metadata": {
    "deletable": false,
    "id": "2b687290"
   },
   "outputs": [],
   "source": [
    "# Ваш код будет здесь. Вы можете создавать новые ячейки.\n",
    "#Необходимо установить долю должников в зависимости от целей кредита, предположительно, наиболее высокий уровень должников будет среди заемов на обучение, так как скорее всего они распространены среди заемщиков без стабильного дохода"
   ]
  },
  {
   "cell_type": "code",
   "execution_count": 42,
   "id": "85006247",
   "metadata": {},
   "outputs": [],
   "source": [
    "purpose_category_pivot=data.pivot_table(index=['purpose_category'], values='debt', aggfunc={'count', 'sum'})"
   ]
  },
  {
   "cell_type": "code",
   "execution_count": 43,
   "id": "f41fac6e",
   "metadata": {},
   "outputs": [],
   "source": [
    "purpose_category_pivot=purpose_category_pivot.rename(columns={'count':'total', 'sum':'debt'})"
   ]
  },
  {
   "cell_type": "code",
   "execution_count": 44,
   "id": "1ab7d28f",
   "metadata": {},
   "outputs": [],
   "source": [
    "purpose_category_pivot['share']=purpose_category_pivot['debt']/purpose_category_pivot['total']"
   ]
  },
  {
   "cell_type": "code",
   "execution_count": 45,
   "id": "0804d13b",
   "metadata": {},
   "outputs": [],
   "source": [
    "purpose_category_pivot=purpose_category_pivot.sort_values(by='share')"
   ]
  },
  {
   "cell_type": "code",
   "execution_count": 46,
   "id": "ef349943",
   "metadata": {},
   "outputs": [
    {
     "name": "stdout",
     "output_type": "stream",
     "text": [
      "                          total  debt     share\n",
      "purpose_category                               \n",
      "операции с недвижимостью  10751   780  0.072551\n",
      "проведение свадьбы         2313   183  0.079118\n",
      "получение образования      3988   369  0.092528\n",
      "операции с автомобилем     4279   400  0.093480\n"
     ]
    }
   ],
   "source": [
    "print(purpose_category_pivot)"
   ]
  },
  {
   "cell_type": "markdown",
   "id": "43074fdb",
   "metadata": {
    "deletable": false,
    "id": "b4bb2ce6"
   },
   "source": [
    "**Вывод:** гипотеза о более высоком уровне задолженностей на образование подтвердилась, также высокий уровень кредитов на проведение операций с автомобилем возможно также связанный с распространением данного типа кредита среди молодых людей без стабильного дохода"
   ]
  },
  {
   "cell_type": "markdown",
   "id": "254f25a5",
   "metadata": {
    "deletable": false,
    "editable": false,
    "id": "09c3ac4c"
   },
   "source": [
    "#### 3.5 Приведите возможные причины появления пропусков в исходных данных."
   ]
  },
  {
   "cell_type": "markdown",
   "id": "98630a6a",
   "metadata": {
    "deletable": false,
    "id": "9da2ceda"
   },
   "source": [
    "*Ответ:* Данные могли не заполнить студенты, у которых не было официального трудоустройства и официального дохода. \n",
    "Безработные и пенсионеры могли пропустить заполнение, так как не имеют дохода и работы на данный момент, а при заполнении информации не очевидно, что нужно указывать предыдущий опыт\n",
    "количество пропусков в столюце стажа и дохода одинаковое, скорее всего, заполнение одного столбца связано с другим\n",
    "Стаж работы рассчитывается автоматически по введенным датам, формат ввода был некорректный"
   ]
  },
  {
   "cell_type": "markdown",
   "id": "3edb5163",
   "metadata": {
    "deletable": false,
    "editable": false,
    "id": "7b0487d6"
   },
   "source": [
    "#### 3.6 Объясните, почему заполнить пропуски медианным значением — лучшее решение для количественных переменных."
   ]
  },
  {
   "cell_type": "markdown",
   "id": "131f20ff",
   "metadata": {
    "deletable": false,
    "id": "7ecf2b8e"
   },
   "source": [
    "*Ответ:* Медианное значение лучше отражает реальные данные, так как в большой выборке возможно присутствие аномальных выбросов, которые не скажутся на медианном значении"
   ]
  },
  {
   "cell_type": "markdown",
   "id": "3f213076",
   "metadata": {
    "deletable": false,
    "editable": false,
    "id": "6db5255a"
   },
   "source": [
    "### Шаг 4: общий вывод."
   ]
  },
  {
   "cell_type": "markdown",
   "id": "bfdbe0bd",
   "metadata": {
    "deletable": false,
    "id": "bad65432"
   },
   "source": [
    "- В работе были проанализированы данные о заемщиках банка в части их уровня дохода, образования семейного статуса, профессии и целей кредита. В изначальной таблице данных был выявлен и обработан высокий процент пропущенных и аномальных значений в столбце стаж \"days_employed\". Скорее всего, он вычисляется автоматически при заполнее дат трудовой деятельности, необходимо при заполнении формы установить правило на формат введения данных, чтобы исключить или минимизировать некорректно заполенные ячейки. На основании одинакого количества пропусков в столбцах стажа и дохода можно предположить, что их заполнение взаимосвязано, что нарушает структуру данных, так как информация об уровне дохода является ключевой для оценки риска возникновения долга, тогда как данные трудового стажа не играют определяющей роли. \n",
    "- Для оценки влияния различных факторов на риск возникновения долга по заему были оценены зависимости процента должников от количества детей, уровня дохода, семейного статуса и целей кредита. \n",
    "- Установлено, что отсутствие детей немного снижает риск возникновения долга, для заемщиков с 1-2 детьми уровень должников одинаковый. При этом в выборке представлены немногочисленные данные по заемщикам из многодетных семей, что не позволяет установить, каким будет выполнение долговых обязательств для этой категории заемщиков. Необходимо дополнить выборку заемщиками с количеством детей от 3-х и более для более точной проверки. \n",
    "- При оценке зависимости доли должников от дохода установлено, что у людей с доходом выше среднего (более 200 тыс. рублей) доля долгов ниже, чем у заемщиков со средним доходом (50-200 тыс. руб), при этом данные о заемщиках с доходом менее 50 тыс рублей и с высоким доходом более 1 млн. рублей очень немногочислены, что не позволяет установить коррелляцию между уровнем доходам и риском возникновения долга для данной категории заемщиков, необходимо расширить выборку заемщиков в данных категориях.\n",
    "- Выявлено, что семейный опыт благополучно влияет на экономическое поведение заемщиков, доля долгов среди женатых/замужних и разведенных людей ниже, чем у холостых, при этом наиболее низкий процент долго среди вдов/вдовцов, вероятно, ввиду более зрелого возраста, отвественного  отношения к финансам и более стабильного уровня дохода\n",
    "- По целям кредита наиболее низкий риск возникновения задолженностей среди кредитов на недвижимость, что скорее всего связано с наиболее осознанным принятием решения о дорогой покупке, также с более детальной проверкой заемщиков перед выдачей кредита на приобретение недвижимости, высокими штрафными санкциями в случае просрочки данного типа кредита. Также наиболее низкая доля долгов на проведение свадеб, что скорее всего, связано с небольшими суммами на проведение этого мероприятия. Наиболее высокий риск возникновения долга среди кредитов на образование и автомобили, что предположительно связано с нестабильным уровнем дохода заемщиков, а также низким порогом проверки заемщиков для получения данного вида кредитов."
   ]
  }
 ],
 "metadata": {
  "ExecuteTimeLog": [
   {
    "duration": 3,
    "start_time": "2023-01-08T16:54:12.610Z"
   },
   {
    "duration": 4,
    "start_time": "2023-01-10T16:51:13.561Z"
   },
   {
    "duration": 7,
    "start_time": "2023-01-10T16:51:41.827Z"
   },
   {
    "duration": 43,
    "start_time": "2023-01-10T16:51:56.362Z"
   },
   {
    "duration": 1025,
    "start_time": "2023-01-10T16:52:12.509Z"
   },
   {
    "duration": 23,
    "start_time": "2023-01-10T16:52:13.536Z"
   },
   {
    "duration": 17,
    "start_time": "2023-01-10T16:52:13.560Z"
   },
   {
    "duration": 11,
    "start_time": "2023-01-10T16:52:13.580Z"
   },
   {
    "duration": 63,
    "start_time": "2023-01-10T16:52:13.593Z"
   },
   {
    "duration": 4,
    "start_time": "2023-01-10T16:52:13.658Z"
   },
   {
    "duration": 11,
    "start_time": "2023-01-10T16:52:13.664Z"
   },
   {
    "duration": 5,
    "start_time": "2023-01-10T16:52:13.677Z"
   },
   {
    "duration": 14,
    "start_time": "2023-01-10T16:52:13.684Z"
   },
   {
    "duration": 5,
    "start_time": "2023-01-10T16:52:13.702Z"
   },
   {
    "duration": 67,
    "start_time": "2023-01-10T16:52:13.708Z"
   },
   {
    "duration": 12,
    "start_time": "2023-01-10T16:52:13.777Z"
   },
   {
    "duration": 4,
    "start_time": "2023-01-10T16:52:13.790Z"
   },
   {
    "duration": 13,
    "start_time": "2023-01-10T16:52:13.796Z"
   },
   {
    "duration": 24,
    "start_time": "2023-01-10T16:52:13.811Z"
   },
   {
    "duration": 17,
    "start_time": "2023-01-10T16:52:13.856Z"
   },
   {
    "duration": 4,
    "start_time": "2023-01-10T16:52:13.875Z"
   },
   {
    "duration": 16,
    "start_time": "2023-01-10T16:52:13.881Z"
   },
   {
    "duration": 7,
    "start_time": "2023-01-10T16:52:13.899Z"
   },
   {
    "duration": 4,
    "start_time": "2023-01-10T16:52:13.908Z"
   },
   {
    "duration": 10,
    "start_time": "2023-01-10T16:52:13.913Z"
   },
   {
    "duration": 2,
    "start_time": "2023-01-10T16:52:13.955Z"
   },
   {
    "duration": 7,
    "start_time": "2023-01-10T16:52:13.959Z"
   },
   {
    "duration": 9,
    "start_time": "2023-01-10T16:52:13.968Z"
   },
   {
    "duration": 2,
    "start_time": "2023-01-10T16:52:13.979Z"
   },
   {
    "duration": 4,
    "start_time": "2023-01-10T16:52:13.983Z"
   },
   {
    "duration": 7,
    "start_time": "2023-01-10T16:52:13.988Z"
   },
   {
    "duration": 8,
    "start_time": "2023-01-10T16:52:19.499Z"
   },
   {
    "duration": 2,
    "start_time": "2023-01-10T16:52:41.460Z"
   },
   {
    "duration": 8,
    "start_time": "2023-01-10T16:52:52.162Z"
   },
   {
    "duration": 23,
    "start_time": "2023-01-10T16:53:19.973Z"
   },
   {
    "duration": 5,
    "start_time": "2023-01-10T16:53:37.768Z"
   },
   {
    "duration": 4,
    "start_time": "2023-01-10T16:57:12.315Z"
   },
   {
    "duration": 5,
    "start_time": "2023-01-10T16:57:36.419Z"
   },
   {
    "duration": 27,
    "start_time": "2023-01-10T17:30:33.577Z"
   },
   {
    "duration": 13,
    "start_time": "2023-01-10T17:30:38.542Z"
   },
   {
    "duration": 5,
    "start_time": "2023-01-10T17:30:39.221Z"
   },
   {
    "duration": 6,
    "start_time": "2023-01-10T17:30:41.496Z"
   },
   {
    "duration": 15,
    "start_time": "2023-01-10T17:53:43.011Z"
   },
   {
    "duration": 5,
    "start_time": "2023-01-10T17:53:43.642Z"
   },
   {
    "duration": 7,
    "start_time": "2023-01-10T17:53:44.587Z"
   },
   {
    "duration": 15,
    "start_time": "2023-01-10T18:33:33.335Z"
   },
   {
    "duration": 5,
    "start_time": "2023-01-10T18:33:53.615Z"
   },
   {
    "duration": 5,
    "start_time": "2023-01-10T18:34:06.115Z"
   },
   {
    "duration": 16,
    "start_time": "2023-01-10T19:32:31.428Z"
   },
   {
    "duration": 5,
    "start_time": "2023-01-10T19:33:12.561Z"
   },
   {
    "duration": 4,
    "start_time": "2023-01-10T19:34:20.007Z"
   },
   {
    "duration": 5,
    "start_time": "2023-01-10T19:34:20.790Z"
   },
   {
    "duration": 3,
    "start_time": "2023-01-10T19:35:01.399Z"
   },
   {
    "duration": 5,
    "start_time": "2023-01-10T19:35:01.928Z"
   },
   {
    "duration": 13,
    "start_time": "2023-01-10T19:40:37.073Z"
   },
   {
    "duration": 4,
    "start_time": "2023-01-10T19:40:55.595Z"
   },
   {
    "duration": 6,
    "start_time": "2023-01-10T19:41:16.732Z"
   },
   {
    "duration": 4,
    "start_time": "2023-01-10T19:42:01.064Z"
   },
   {
    "duration": 6,
    "start_time": "2023-01-10T19:42:02.178Z"
   },
   {
    "duration": 14,
    "start_time": "2023-01-10T19:45:56.114Z"
   },
   {
    "duration": 4,
    "start_time": "2023-01-10T19:47:02.022Z"
   },
   {
    "duration": 5,
    "start_time": "2023-01-10T19:47:36.269Z"
   },
   {
    "duration": 4,
    "start_time": "2023-01-10T19:47:58.167Z"
   },
   {
    "duration": 6,
    "start_time": "2023-01-10T19:48:01.010Z"
   },
   {
    "duration": 8,
    "start_time": "2023-01-10T19:48:49.104Z"
   },
   {
    "duration": 8,
    "start_time": "2023-01-10T19:48:57.221Z"
   },
   {
    "duration": 13,
    "start_time": "2023-01-10T19:49:18.322Z"
   },
   {
    "duration": 8,
    "start_time": "2023-01-10T19:49:18.936Z"
   },
   {
    "duration": 3,
    "start_time": "2023-01-10T19:49:32.260Z"
   },
   {
    "duration": 4,
    "start_time": "2023-01-10T19:50:16.949Z"
   },
   {
    "duration": 4,
    "start_time": "2023-01-10T19:50:17.522Z"
   },
   {
    "duration": 4,
    "start_time": "2023-01-10T19:50:18.091Z"
   },
   {
    "duration": 5,
    "start_time": "2023-01-10T19:50:26.846Z"
   },
   {
    "duration": 3,
    "start_time": "2023-01-10T19:50:48.527Z"
   },
   {
    "duration": 6,
    "start_time": "2023-01-10T19:50:49.121Z"
   },
   {
    "duration": 15,
    "start_time": "2023-01-10T19:52:43.640Z"
   },
   {
    "duration": 4,
    "start_time": "2023-01-10T19:53:46.727Z"
   },
   {
    "duration": 4,
    "start_time": "2023-01-10T19:54:12.611Z"
   },
   {
    "duration": 3,
    "start_time": "2023-01-10T19:54:32.720Z"
   },
   {
    "duration": 5,
    "start_time": "2023-01-10T19:54:33.532Z"
   },
   {
    "duration": 468,
    "start_time": "2023-01-11T15:46:50.207Z"
   },
   {
    "duration": 19,
    "start_time": "2023-01-11T15:46:50.677Z"
   },
   {
    "duration": 20,
    "start_time": "2023-01-11T15:46:50.701Z"
   },
   {
    "duration": 15,
    "start_time": "2023-01-11T15:46:50.724Z"
   },
   {
    "duration": 33,
    "start_time": "2023-01-11T15:46:50.741Z"
   },
   {
    "duration": 3,
    "start_time": "2023-01-11T15:46:50.775Z"
   },
   {
    "duration": 32,
    "start_time": "2023-01-11T15:46:50.780Z"
   },
   {
    "duration": 18,
    "start_time": "2023-01-11T15:46:50.813Z"
   },
   {
    "duration": 12,
    "start_time": "2023-01-11T15:46:50.832Z"
   },
   {
    "duration": 5,
    "start_time": "2023-01-11T15:46:50.845Z"
   },
   {
    "duration": 33,
    "start_time": "2023-01-11T15:46:50.851Z"
   },
   {
    "duration": 8,
    "start_time": "2023-01-11T15:46:50.885Z"
   },
   {
    "duration": 14,
    "start_time": "2023-01-11T15:46:50.896Z"
   },
   {
    "duration": 35,
    "start_time": "2023-01-11T15:46:50.911Z"
   },
   {
    "duration": 20,
    "start_time": "2023-01-11T15:46:50.947Z"
   },
   {
    "duration": 15,
    "start_time": "2023-01-11T15:46:50.969Z"
   },
   {
    "duration": 7,
    "start_time": "2023-01-11T15:46:50.985Z"
   },
   {
    "duration": 36,
    "start_time": "2023-01-11T15:46:50.994Z"
   },
   {
    "duration": 11,
    "start_time": "2023-01-11T15:46:51.032Z"
   },
   {
    "duration": 5,
    "start_time": "2023-01-11T15:46:51.045Z"
   },
   {
    "duration": 10,
    "start_time": "2023-01-11T15:46:51.051Z"
   },
   {
    "duration": 2,
    "start_time": "2023-01-11T15:46:51.063Z"
   },
   {
    "duration": 19,
    "start_time": "2023-01-11T15:46:51.067Z"
   },
   {
    "duration": 2,
    "start_time": "2023-01-11T15:46:51.088Z"
   },
   {
    "duration": 33,
    "start_time": "2023-01-11T15:46:51.091Z"
   },
   {
    "duration": 16,
    "start_time": "2023-01-11T15:46:51.126Z"
   },
   {
    "duration": 8,
    "start_time": "2023-01-11T15:46:51.144Z"
   },
   {
    "duration": 14,
    "start_time": "2023-01-11T15:46:51.153Z"
   },
   {
    "duration": 17,
    "start_time": "2023-01-11T15:46:51.168Z"
   },
   {
    "duration": 3,
    "start_time": "2023-01-11T15:46:51.186Z"
   },
   {
    "duration": 36,
    "start_time": "2023-01-11T15:46:51.191Z"
   },
   {
    "duration": 10,
    "start_time": "2023-01-11T15:46:51.229Z"
   },
   {
    "duration": 13,
    "start_time": "2023-01-11T15:46:51.240Z"
   },
   {
    "duration": 7,
    "start_time": "2023-01-11T15:46:51.254Z"
   },
   {
    "duration": 15,
    "start_time": "2023-01-11T15:46:51.262Z"
   },
   {
    "duration": 2,
    "start_time": "2023-01-11T15:46:51.279Z"
   },
   {
    "duration": 8,
    "start_time": "2023-01-11T15:46:51.283Z"
   },
   {
    "duration": 35,
    "start_time": "2023-01-11T15:46:51.292Z"
   },
   {
    "duration": 8,
    "start_time": "2023-01-11T15:46:51.328Z"
   },
   {
    "duration": 6,
    "start_time": "2023-01-11T15:46:51.339Z"
   },
   {
    "duration": 15,
    "start_time": "2023-01-11T15:46:51.346Z"
   },
   {
    "duration": 3,
    "start_time": "2023-01-11T15:46:51.362Z"
   },
   {
    "duration": 9,
    "start_time": "2023-01-11T15:46:51.366Z"
   },
   {
    "duration": 10,
    "start_time": "2023-01-11T15:46:51.376Z"
   },
   {
    "duration": 11,
    "start_time": "2023-01-11T15:46:51.388Z"
   },
   {
    "duration": 49,
    "start_time": "2023-01-11T15:51:13.326Z"
   },
   {
    "duration": 57,
    "start_time": "2023-01-11T18:03:54.978Z"
   },
   {
    "duration": 566,
    "start_time": "2023-01-11T18:04:10.564Z"
   },
   {
    "duration": 30,
    "start_time": "2023-01-11T18:04:11.133Z"
   },
   {
    "duration": 15,
    "start_time": "2023-01-11T18:04:11.165Z"
   },
   {
    "duration": 10,
    "start_time": "2023-01-11T18:04:11.183Z"
   },
   {
    "duration": 34,
    "start_time": "2023-01-11T18:04:11.194Z"
   },
   {
    "duration": 4,
    "start_time": "2023-01-11T18:04:11.230Z"
   },
   {
    "duration": 10,
    "start_time": "2023-01-11T18:04:11.235Z"
   },
   {
    "duration": 4,
    "start_time": "2023-01-11T18:04:11.247Z"
   },
   {
    "duration": 8,
    "start_time": "2023-01-11T18:04:11.277Z"
   },
   {
    "duration": 4,
    "start_time": "2023-01-11T18:04:11.289Z"
   },
   {
    "duration": 34,
    "start_time": "2023-01-11T18:04:11.295Z"
   },
   {
    "duration": 10,
    "start_time": "2023-01-11T18:04:11.331Z"
   },
   {
    "duration": 35,
    "start_time": "2023-01-11T18:04:11.343Z"
   },
   {
    "duration": 14,
    "start_time": "2023-01-11T18:04:11.380Z"
   },
   {
    "duration": 24,
    "start_time": "2023-01-11T18:04:11.396Z"
   },
   {
    "duration": 18,
    "start_time": "2023-01-11T18:04:11.422Z"
   },
   {
    "duration": 4,
    "start_time": "2023-01-11T18:04:11.441Z"
   },
   {
    "duration": 40,
    "start_time": "2023-01-11T18:04:11.446Z"
   },
   {
    "duration": 10,
    "start_time": "2023-01-11T18:04:11.487Z"
   },
   {
    "duration": 4,
    "start_time": "2023-01-11T18:04:11.499Z"
   },
   {
    "duration": 13,
    "start_time": "2023-01-11T18:04:11.504Z"
   },
   {
    "duration": 7,
    "start_time": "2023-01-11T18:04:11.519Z"
   },
   {
    "duration": 23,
    "start_time": "2023-01-11T18:04:11.527Z"
   },
   {
    "duration": 4,
    "start_time": "2023-01-11T18:04:11.551Z"
   },
   {
    "duration": 5,
    "start_time": "2023-01-11T18:04:11.577Z"
   },
   {
    "duration": 5,
    "start_time": "2023-01-11T18:04:11.583Z"
   },
   {
    "duration": 12,
    "start_time": "2023-01-11T18:04:11.591Z"
   },
   {
    "duration": 4,
    "start_time": "2023-01-11T18:04:11.608Z"
   },
   {
    "duration": 18,
    "start_time": "2023-01-11T18:04:11.614Z"
   },
   {
    "duration": 3,
    "start_time": "2023-01-11T18:04:11.633Z"
   },
   {
    "duration": 6,
    "start_time": "2023-01-11T18:04:11.638Z"
   },
   {
    "duration": 33,
    "start_time": "2023-01-11T18:04:11.646Z"
   },
   {
    "duration": 7,
    "start_time": "2023-01-11T18:04:11.681Z"
   },
   {
    "duration": 4,
    "start_time": "2023-01-11T18:04:11.690Z"
   },
   {
    "duration": 16,
    "start_time": "2023-01-11T18:04:11.695Z"
   },
   {
    "duration": 6,
    "start_time": "2023-01-11T18:04:11.713Z"
   },
   {
    "duration": 8,
    "start_time": "2023-01-11T18:04:11.721Z"
   },
   {
    "duration": 7,
    "start_time": "2023-01-11T18:04:11.731Z"
   },
   {
    "duration": 9,
    "start_time": "2023-01-11T18:04:11.740Z"
   },
   {
    "duration": 3,
    "start_time": "2023-01-11T18:04:11.779Z"
   },
   {
    "duration": 25,
    "start_time": "2023-01-11T18:04:11.784Z"
   },
   {
    "duration": 5,
    "start_time": "2023-01-11T18:04:11.811Z"
   },
   {
    "duration": 7,
    "start_time": "2023-01-11T18:04:11.818Z"
   },
   {
    "duration": 6,
    "start_time": "2023-01-11T18:04:11.827Z"
   },
   {
    "duration": 8,
    "start_time": "2023-01-11T18:04:11.834Z"
   },
   {
    "duration": 9,
    "start_time": "2023-01-11T18:20:48.263Z"
   },
   {
    "duration": 64,
    "start_time": "2023-01-11T18:31:59.489Z"
   },
   {
    "duration": 3,
    "start_time": "2023-01-11T18:32:10.953Z"
   },
   {
    "duration": 301,
    "start_time": "2023-01-11T18:34:28.124Z"
   },
   {
    "duration": 345,
    "start_time": "2023-01-11T18:35:14.453Z"
   },
   {
    "duration": 1177,
    "start_time": "2023-01-11T18:35:57.520Z"
   },
   {
    "duration": 1133,
    "start_time": "2023-01-11T18:36:34.912Z"
   },
   {
    "duration": 1223,
    "start_time": "2023-01-11T18:37:43.768Z"
   },
   {
    "duration": 3,
    "start_time": "2023-01-11T18:38:53.248Z"
   },
   {
    "duration": 1261,
    "start_time": "2023-01-11T18:38:59.461Z"
   },
   {
    "duration": 7,
    "start_time": "2023-01-11T18:40:05.470Z"
   },
   {
    "duration": 4,
    "start_time": "2023-01-11T18:40:22.665Z"
   },
   {
    "duration": 4,
    "start_time": "2023-01-11T18:41:09.916Z"
   },
   {
    "duration": 8,
    "start_time": "2023-01-11T18:41:19.651Z"
   },
   {
    "duration": 11,
    "start_time": "2023-01-11T18:41:30.217Z"
   },
   {
    "duration": 93,
    "start_time": "2023-01-11T18:42:08.870Z"
   },
   {
    "duration": 30,
    "start_time": "2023-01-11T18:42:27.208Z"
   },
   {
    "duration": 4,
    "start_time": "2023-01-11T18:42:28.952Z"
   },
   {
    "duration": 5,
    "start_time": "2023-01-11T18:42:29.560Z"
   },
   {
    "duration": 3,
    "start_time": "2023-01-11T18:42:30.078Z"
   },
   {
    "duration": 9,
    "start_time": "2023-01-11T18:42:31.496Z"
   }
  ],
  "colab": {
   "name": "dpp_template_part2.ipynb",
   "provenance": []
  },
  "kernelspec": {
   "display_name": "Python 3 (ipykernel)",
   "language": "python",
   "name": "python3"
  },
  "language_info": {
   "codemirror_mode": {
    "name": "ipython",
    "version": 3
   },
   "file_extension": ".py",
   "mimetype": "text/x-python",
   "name": "python",
   "nbconvert_exporter": "python",
   "pygments_lexer": "ipython3",
   "version": "3.9.13"
  },
  "toc": {
   "base_numbering": 1,
   "nav_menu": {},
   "number_sections": true,
   "sideBar": true,
   "skip_h1_title": true,
   "title_cell": "Table of Contents",
   "title_sidebar": "Contents",
   "toc_cell": false,
   "toc_position": {},
   "toc_section_display": true,
   "toc_window_display": true
  }
 },
 "nbformat": 4,
 "nbformat_minor": 5
}
