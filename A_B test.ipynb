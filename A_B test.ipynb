{
 "cells": [
  {
   "cell_type": "markdown",
   "metadata": {},
   "source": [
    "**Общая информация**\n",
    "\n",
    "Совместно с маркетинговым отделом были подготовлены ряд гипотез для увеличения прибыли.В ходе проекта проекта приоритезировать предложенные гипотезы, запустить А/В тест и проанализировать полученные результаты. \n",
    "\n",
    "**Задача проекта:** приоритезация гипотез, анализ результатов, полученных в ходе А/В теста\n",
    "\n",
    "\n",
    "**Цель проекта:** принять решение по результатам А/В теста о приостановке или продолжении тестирования, принять решение об успешности тестирования "
   ]
  },
  {
   "cell_type": "markdown",
   "metadata": {},
   "source": [
    "### Импорт данных\n"
   ]
  },
  {
   "cell_type": "code",
   "execution_count": 1,
   "metadata": {},
   "outputs": [],
   "source": [
    "#Загружаем библиотеки\n",
    "import pandas as pd\n",
    "import scipy.stats as stats\n",
    "import datetime as dt\n",
    "import numpy as np\n",
    "import matplotlib.pyplot as plt\n",
    "from pandas.plotting import register_matplotlib_converters\n",
    "import warnings"
   ]
  },
  {
   "cell_type": "code",
   "execution_count": 2,
   "metadata": {},
   "outputs": [],
   "source": [
    "#Загружаем датасет с гипотезами\n",
    "hypothesis=pd.read_csv('/datasets/hypothesis.csv')\n",
    "#Загружаем датасет с данными о заказах\n",
    "orders=pd.read_csv('/datasets/orders.csv')\n",
    "#Загружаем датасет с данными о посещениях сайта\n",
    "visitors=pd.read_csv('/datasets/visitors.csv')"
   ]
  },
  {
   "cell_type": "markdown",
   "metadata": {},
   "source": [
    "### Предобработка данных"
   ]
  },
  {
   "cell_type": "code",
   "execution_count": 3,
   "metadata": {},
   "outputs": [
    {
     "name": "stdout",
     "output_type": "stream",
     "text": [
      "<class 'pandas.core.frame.DataFrame'>\n",
      "RangeIndex: 9 entries, 0 to 8\n",
      "Data columns (total 5 columns):\n",
      " #   Column      Non-Null Count  Dtype \n",
      "---  ------      --------------  ----- \n",
      " 0   Hypothesis  9 non-null      object\n",
      " 1   Reach       9 non-null      int64 \n",
      " 2   Impact      9 non-null      int64 \n",
      " 3   Confidence  9 non-null      int64 \n",
      " 4   Efforts     9 non-null      int64 \n",
      "dtypes: int64(4), object(1)\n",
      "memory usage: 488.0+ bytes\n"
     ]
    }
   ],
   "source": [
    "#Посмотрим общую информацию по таблице\n",
    "hypothesis.info()"
   ]
  },
  {
   "cell_type": "markdown",
   "metadata": {},
   "source": [
    "*В таблице нет пропусков, формат данных корректный*"
   ]
  },
  {
   "cell_type": "code",
   "execution_count": 4,
   "metadata": {},
   "outputs": [],
   "source": [
    "# Приведем название столбцов к нижнему регистру\n",
    "hypothesis.columns=hypothesis.columns.str.lower() "
   ]
  },
  {
   "cell_type": "code",
   "execution_count": 5,
   "metadata": {},
   "outputs": [
    {
     "name": "stdout",
     "output_type": "stream",
     "text": [
      "<class 'pandas.core.frame.DataFrame'>\n",
      "RangeIndex: 1197 entries, 0 to 1196\n",
      "Data columns (total 5 columns):\n",
      " #   Column         Non-Null Count  Dtype \n",
      "---  ------         --------------  ----- \n",
      " 0   transactionId  1197 non-null   int64 \n",
      " 1   visitorId      1197 non-null   int64 \n",
      " 2   date           1197 non-null   object\n",
      " 3   revenue        1197 non-null   int64 \n",
      " 4   group          1197 non-null   object\n",
      "dtypes: int64(3), object(2)\n",
      "memory usage: 46.9+ KB\n"
     ]
    }
   ],
   "source": [
    "#Посмотрим общую информацию по таблице заказов\n",
    "orders.info()"
   ]
  },
  {
   "cell_type": "markdown",
   "metadata": {},
   "source": [
    "*В таблице отсутствуют пропущенные значения, необходимо заменить формат даты*"
   ]
  },
  {
   "cell_type": "code",
   "execution_count": 6,
   "metadata": {},
   "outputs": [],
   "source": [
    "# Переименуем столбцы в основной таблице\n",
    "orders=orders.rename(columns={'transactionId':'transaction_id', 'visitorId':'visitor_id'})"
   ]
  },
  {
   "cell_type": "code",
   "execution_count": 7,
   "metadata": {},
   "outputs": [
    {
     "name": "stdout",
     "output_type": "stream",
     "text": [
      "Количество явных дубликатов в таблице orders: 0\n"
     ]
    }
   ],
   "source": [
    "# Проверим наличие явных дубликатов\n",
    "print('Количество явных дубликатов в таблице orders:', orders.duplicated().sum())"
   ]
  },
  {
   "cell_type": "markdown",
   "metadata": {},
   "source": [
    "*В таблице отсутствуют явные дубликаты*"
   ]
  },
  {
   "cell_type": "code",
   "execution_count": 8,
   "metadata": {},
   "outputs": [
    {
     "name": "stdout",
     "output_type": "stream",
     "text": [
      "Количество неявных дубликатов в таблице orders: 0\n"
     ]
    }
   ],
   "source": [
    "# Проверим наличие неявных дубликатов\n",
    "print('Количество неявных дубликатов в таблице orders:', orders.duplicated(subset=['transaction_id', 'visitor_id']).sum())"
   ]
  },
  {
   "cell_type": "markdown",
   "metadata": {},
   "source": [
    "*В таблице отсутствуют неявные дубликаты по показателям номер заказа/id пользователя*"
   ]
  },
  {
   "cell_type": "code",
   "execution_count": 9,
   "metadata": {},
   "outputs": [
    {
     "name": "stdout",
     "output_type": "stream",
     "text": [
      "Количество заказов в группе А: 557\n",
      "Количество заказов в группе В: 640\n",
      "Количество уникальных заказов: 1197\n"
     ]
    }
   ],
   "source": [
    "# Проверим отсутствие дубликатов заказов в разных группах\n",
    "print('Количество заказов в группе А:', orders.query('group in \"A\"')['transaction_id'].nunique())\n",
    "print('Количество заказов в группе В:', orders.query('group in \"B\"')['transaction_id'].nunique())\n",
    "print('Количество уникальных заказов:', orders['transaction_id'].nunique())"
   ]
  },
  {
   "cell_type": "markdown",
   "metadata": {},
   "source": [
    "*Количество уникальных заказов по группам соответствует общему количеству заказов, дубликатов в группах нет*"
   ]
  },
  {
   "cell_type": "code",
   "execution_count": 10,
   "metadata": {},
   "outputs": [
    {
     "name": "stdout",
     "output_type": "stream",
     "text": [
      "Количество уникальных пользователей в группе А: 503\n",
      "Количество уникальных пользователей в группе В: 586\n",
      "Количество уникальных пользователей: 1031\n",
      "Доля пользователей в группе А: 0.462\n",
      "Доля пользователей в группе В: 0.538\n"
     ]
    }
   ],
   "source": [
    "# Проверим отсутствие дубликатов пользователей в разных группах заказов\n",
    "print('Количество уникальных пользователей в группе А:', orders.query('group in \"A\"')['visitor_id'].nunique())\n",
    "print('Количество уникальных пользователей в группе В:', orders.query('group in \"B\"')['visitor_id'].nunique())\n",
    "print('Количество уникальных пользователей:', orders['visitor_id'].nunique())\n",
    "print('Доля пользователей в группе А:', \"{0:.3f}\".format(orders.query('group in \"A\"')['visitor_id'].nunique()\\\n",
    "      /(orders.query('group in \"A\"')['visitor_id'].nunique()+orders.query('group in \"B\"')['visitor_id'].nunique())))\n",
    "print('Доля пользователей в группе В:', \"{0:.3f}\".format(orders.query('group in \"B\"')['visitor_id'].nunique()\\\n",
    "     /(orders.query('group in \"A\"')['visitor_id'].nunique()+orders.query('group in \"B\"')['visitor_id'].nunique())))"
   ]
  },
  {
   "cell_type": "code",
   "execution_count": 11,
   "metadata": {},
   "outputs": [],
   "source": [
    "#Приведем дату в таблице заказов к формату дата\n",
    "orders['date'] = orders['date'].map(\n",
    "    lambda x: dt.datetime.strptime(x, '%Y-%m-%d'))"
   ]
  },
  {
   "cell_type": "code",
   "execution_count": 12,
   "metadata": {},
   "outputs": [
    {
     "name": "stdout",
     "output_type": "stream",
     "text": [
      "<class 'pandas.core.frame.DataFrame'>\n",
      "RangeIndex: 62 entries, 0 to 61\n",
      "Data columns (total 3 columns):\n",
      " #   Column    Non-Null Count  Dtype \n",
      "---  ------    --------------  ----- \n",
      " 0   date      62 non-null     object\n",
      " 1   group     62 non-null     object\n",
      " 2   visitors  62 non-null     int64 \n",
      "dtypes: int64(1), object(2)\n",
      "memory usage: 1.6+ KB\n"
     ]
    }
   ],
   "source": [
    "#Посмотрим общую информацию по таблице посещений\n",
    "visitors.info()"
   ]
  },
  {
   "cell_type": "markdown",
   "metadata": {},
   "source": [
    "*В таблице отсутствуют пропущенные значения, необходимо заменить форматы даты*"
   ]
  },
  {
   "cell_type": "code",
   "execution_count": 13,
   "metadata": {},
   "outputs": [
    {
     "name": "stdout",
     "output_type": "stream",
     "text": [
      "Количество явных дубликатов в таблице visitors: 0\n"
     ]
    }
   ],
   "source": [
    "# Проверим наличие явных дубликатов дубликатов в таблице посещений\n",
    "print('Количество явных дубликатов в таблице visitors:', visitors.duplicated().sum())"
   ]
  },
  {
   "cell_type": "code",
   "execution_count": 14,
   "metadata": {},
   "outputs": [
    {
     "name": "stdout",
     "output_type": "stream",
     "text": [
      "Количество неявных дубликатов в таблице visitors: 0\n"
     ]
    }
   ],
   "source": [
    "# Проверим наличие неявных дубликатов дубликатов в таблице посещений\n",
    "print('Количество неявных дубликатов в таблице visitors:',visitors.duplicated(subset=['date', 'group']).sum())"
   ]
  },
  {
   "cell_type": "code",
   "execution_count": 15,
   "metadata": {},
   "outputs": [],
   "source": [
    "#Приведем дату в таблице посещений к формату дата\n",
    "visitors['date'] = visitors['date'].map(\n",
    "    lambda x: dt.datetime.strptime(x, '%Y-%m-%d'))"
   ]
  },
  {
   "cell_type": "code",
   "execution_count": 16,
   "metadata": {},
   "outputs": [
    {
     "name": "stdout",
     "output_type": "stream",
     "text": [
      "Период проведения эксперимента таблица order: 2019-08-01 00:00:00-2019-08-31 00:00:00\n",
      "Период проведения эксперимента таблица visitors: 2019-08-01 00:00:00-2019-08-31 00:00:00\n"
     ]
    }
   ],
   "source": [
    "print(f\"Период проведения эксперимента таблица order: {orders['date'].min()}-{orders['date'].max()}\")\n",
    "print(f\"Период проведения эксперимента таблица visitors: \\\n",
    "{visitors['date'].min()}-{visitors['date'].max()}\")"
   ]
  },
  {
   "cell_type": "markdown",
   "metadata": {},
   "source": [
    "*Период проведения эксперимента в обеих таблицах совпадает и составлет 1 месяц*"
   ]
  },
  {
   "cell_type": "markdown",
   "metadata": {},
   "source": [
    "**Выводу по этапу предобработка данных:**\n",
    "\n",
    "- проверено отсутствие пропусков и дубликатов\n",
    "\n",
    "- заменен формат данных в столбцах с датами\n",
    "\n",
    "- выявлено 5% пользователей, попавших в обе группы тестирования \n",
    "\n",
    "- проверены начало и конец тестирования в таблицах с заказами и посещениями"
   ]
  },
  {
   "cell_type": "markdown",
   "metadata": {},
   "source": [
    "\n",
    "### Приоритезация гипотез"
   ]
  },
  {
   "cell_type": "markdown",
   "metadata": {},
   "source": [
    "#### Фреймворк ICE"
   ]
  },
  {
   "cell_type": "code",
   "execution_count": 17,
   "metadata": {},
   "outputs": [
    {
     "data": {
      "text/html": [
       "<div>\n",
       "<style scoped>\n",
       "    .dataframe tbody tr th:only-of-type {\n",
       "        vertical-align: middle;\n",
       "    }\n",
       "\n",
       "    .dataframe tbody tr th {\n",
       "        vertical-align: top;\n",
       "    }\n",
       "\n",
       "    .dataframe thead th {\n",
       "        text-align: right;\n",
       "    }\n",
       "</style>\n",
       "<table border=\"1\" class=\"dataframe\">\n",
       "  <thead>\n",
       "    <tr style=\"text-align: right;\">\n",
       "      <th></th>\n",
       "      <th>hypothesis</th>\n",
       "      <th>ICE</th>\n",
       "      <th>impact</th>\n",
       "    </tr>\n",
       "  </thead>\n",
       "  <tbody>\n",
       "    <tr>\n",
       "      <th>8</th>\n",
       "      <td>Запустить акцию, дающую скидку на товар в день рождения</td>\n",
       "      <td>16.200000</td>\n",
       "      <td>9</td>\n",
       "    </tr>\n",
       "    <tr>\n",
       "      <th>0</th>\n",
       "      <td>Добавить два новых канала привлечения трафика, что позволит привлекать на 30% больше пользователей</td>\n",
       "      <td>13.333333</td>\n",
       "      <td>10</td>\n",
       "    </tr>\n",
       "    <tr>\n",
       "      <th>7</th>\n",
       "      <td>Добавить форму подписки на все основные страницы, чтобы собрать базу клиентов для email-рассылок</td>\n",
       "      <td>11.200000</td>\n",
       "      <td>7</td>\n",
       "    </tr>\n",
       "    <tr>\n",
       "      <th>6</th>\n",
       "      <td>Показать на главной странице баннеры с актуальными акциями и распродажами, чтобы увеличить конверсию</td>\n",
       "      <td>8.000000</td>\n",
       "      <td>3</td>\n",
       "    </tr>\n",
       "    <tr>\n",
       "      <th>2</th>\n",
       "      <td>Добавить блоки рекомендаций товаров на сайт интернет магазина, чтобы повысить конверсию и средний чек заказа</td>\n",
       "      <td>7.000000</td>\n",
       "      <td>3</td>\n",
       "    </tr>\n",
       "    <tr>\n",
       "      <th>1</th>\n",
       "      <td>Запустить собственную службу доставки, что сократит срок доставки заказов</td>\n",
       "      <td>2.000000</td>\n",
       "      <td>5</td>\n",
       "    </tr>\n",
       "    <tr>\n",
       "      <th>5</th>\n",
       "      <td>Добавить страницу отзывов клиентов о магазине, что позволит увеличить количество заказов</td>\n",
       "      <td>1.333333</td>\n",
       "      <td>2</td>\n",
       "    </tr>\n",
       "    <tr>\n",
       "      <th>3</th>\n",
       "      <td>Изменить структура категорий, что увеличит конверсию, т.к. пользователи быстрее найдут нужный товар</td>\n",
       "      <td>1.125000</td>\n",
       "      <td>3</td>\n",
       "    </tr>\n",
       "    <tr>\n",
       "      <th>4</th>\n",
       "      <td>Изменить цвет фона главной страницы, чтобы увеличить вовлеченность пользователей</td>\n",
       "      <td>1.000000</td>\n",
       "      <td>1</td>\n",
       "    </tr>\n",
       "  </tbody>\n",
       "</table>\n",
       "</div>"
      ],
      "text/plain": [
       "                                                                                                     hypothesis  \\\n",
       "8  Запустить акцию, дающую скидку на товар в день рождения                                                        \n",
       "0  Добавить два новых канала привлечения трафика, что позволит привлекать на 30% больше пользователей             \n",
       "7  Добавить форму подписки на все основные страницы, чтобы собрать базу клиентов для email-рассылок               \n",
       "6  Показать на главной странице баннеры с актуальными акциями и распродажами, чтобы увеличить конверсию           \n",
       "2  Добавить блоки рекомендаций товаров на сайт интернет магазина, чтобы повысить конверсию и средний чек заказа   \n",
       "1  Запустить собственную службу доставки, что сократит срок доставки заказов                                      \n",
       "5  Добавить страницу отзывов клиентов о магазине, что позволит увеличить количество заказов                       \n",
       "3  Изменить структура категорий, что увеличит конверсию, т.к. пользователи быстрее найдут нужный товар            \n",
       "4  Изменить цвет фона главной страницы, чтобы увеличить вовлеченность пользователей                               \n",
       "\n",
       "         ICE  impact  \n",
       "8  16.200000  9       \n",
       "0  13.333333  10      \n",
       "7  11.200000  7       \n",
       "6  8.000000   3       \n",
       "2  7.000000   3       \n",
       "1  2.000000   5       \n",
       "5  1.333333   2       \n",
       "3  1.125000   3       \n",
       "4  1.000000   1       "
      ]
     },
     "metadata": {},
     "output_type": "display_data"
    }
   ],
   "source": [
    "# Применим фреймворк ICE для приоритизации гипотез\n",
    "pd.options.display.max_colwidth = 1\n",
    "hypothesis['ICE']=(hypothesis['impact']*hypothesis['confidence'])/hypothesis['efforts']\n",
    "display(hypothesis[['hypothesis', 'ICE', 'impact']].sort_values(by='ICE', ascending=False))"
   ]
  },
  {
   "cell_type": "markdown",
   "metadata": {},
   "source": [
    "*При применении фреймворка ICE наиболее приоритетными являются гипотезы 8, 0, 7*"
   ]
  },
  {
   "cell_type": "markdown",
   "metadata": {},
   "source": [
    "#### Фреймворк RICE"
   ]
  },
  {
   "cell_type": "code",
   "execution_count": 18,
   "metadata": {},
   "outputs": [
    {
     "data": {
      "text/html": [
       "<div>\n",
       "<style scoped>\n",
       "    .dataframe tbody tr th:only-of-type {\n",
       "        vertical-align: middle;\n",
       "    }\n",
       "\n",
       "    .dataframe tbody tr th {\n",
       "        vertical-align: top;\n",
       "    }\n",
       "\n",
       "    .dataframe thead th {\n",
       "        text-align: right;\n",
       "    }\n",
       "</style>\n",
       "<table border=\"1\" class=\"dataframe\">\n",
       "  <thead>\n",
       "    <tr style=\"text-align: right;\">\n",
       "      <th></th>\n",
       "      <th>hypothesis</th>\n",
       "      <th>RICE</th>\n",
       "      <th>reach</th>\n",
       "    </tr>\n",
       "  </thead>\n",
       "  <tbody>\n",
       "    <tr>\n",
       "      <th>7</th>\n",
       "      <td>Добавить форму подписки на все основные страницы, чтобы собрать базу клиентов для email-рассылок</td>\n",
       "      <td>112.0</td>\n",
       "      <td>10</td>\n",
       "    </tr>\n",
       "    <tr>\n",
       "      <th>2</th>\n",
       "      <td>Добавить блоки рекомендаций товаров на сайт интернет магазина, чтобы повысить конверсию и средний чек заказа</td>\n",
       "      <td>56.0</td>\n",
       "      <td>8</td>\n",
       "    </tr>\n",
       "    <tr>\n",
       "      <th>0</th>\n",
       "      <td>Добавить два новых канала привлечения трафика, что позволит привлекать на 30% больше пользователей</td>\n",
       "      <td>40.0</td>\n",
       "      <td>3</td>\n",
       "    </tr>\n",
       "    <tr>\n",
       "      <th>6</th>\n",
       "      <td>Показать на главной странице баннеры с актуальными акциями и распродажами, чтобы увеличить конверсию</td>\n",
       "      <td>40.0</td>\n",
       "      <td>5</td>\n",
       "    </tr>\n",
       "    <tr>\n",
       "      <th>8</th>\n",
       "      <td>Запустить акцию, дающую скидку на товар в день рождения</td>\n",
       "      <td>16.2</td>\n",
       "      <td>1</td>\n",
       "    </tr>\n",
       "    <tr>\n",
       "      <th>3</th>\n",
       "      <td>Изменить структура категорий, что увеличит конверсию, т.к. пользователи быстрее найдут нужный товар</td>\n",
       "      <td>9.0</td>\n",
       "      <td>8</td>\n",
       "    </tr>\n",
       "    <tr>\n",
       "      <th>1</th>\n",
       "      <td>Запустить собственную службу доставки, что сократит срок доставки заказов</td>\n",
       "      <td>4.0</td>\n",
       "      <td>2</td>\n",
       "    </tr>\n",
       "    <tr>\n",
       "      <th>5</th>\n",
       "      <td>Добавить страницу отзывов клиентов о магазине, что позволит увеличить количество заказов</td>\n",
       "      <td>4.0</td>\n",
       "      <td>3</td>\n",
       "    </tr>\n",
       "    <tr>\n",
       "      <th>4</th>\n",
       "      <td>Изменить цвет фона главной страницы, чтобы увеличить вовлеченность пользователей</td>\n",
       "      <td>3.0</td>\n",
       "      <td>3</td>\n",
       "    </tr>\n",
       "  </tbody>\n",
       "</table>\n",
       "</div>"
      ],
      "text/plain": [
       "                                                                                                     hypothesis  \\\n",
       "7  Добавить форму подписки на все основные страницы, чтобы собрать базу клиентов для email-рассылок               \n",
       "2  Добавить блоки рекомендаций товаров на сайт интернет магазина, чтобы повысить конверсию и средний чек заказа   \n",
       "0  Добавить два новых канала привлечения трафика, что позволит привлекать на 30% больше пользователей             \n",
       "6  Показать на главной странице баннеры с актуальными акциями и распродажами, чтобы увеличить конверсию           \n",
       "8  Запустить акцию, дающую скидку на товар в день рождения                                                        \n",
       "3  Изменить структура категорий, что увеличит конверсию, т.к. пользователи быстрее найдут нужный товар            \n",
       "1  Запустить собственную службу доставки, что сократит срок доставки заказов                                      \n",
       "5  Добавить страницу отзывов клиентов о магазине, что позволит увеличить количество заказов                       \n",
       "4  Изменить цвет фона главной страницы, чтобы увеличить вовлеченность пользователей                               \n",
       "\n",
       "    RICE  reach  \n",
       "7  112.0  10     \n",
       "2  56.0   8      \n",
       "0  40.0   3      \n",
       "6  40.0   5      \n",
       "8  16.2   1      \n",
       "3  9.0    8      \n",
       "1  4.0    2      \n",
       "5  4.0    3      \n",
       "4  3.0    3      "
      ]
     },
     "metadata": {},
     "output_type": "display_data"
    }
   ],
   "source": [
    "pd.options.display.max_colwidth = 1\n",
    "hypothesis['RICE']=hypothesis['reach']*hypothesis['impact']*hypothesis['confidence']/hypothesis['efforts']\n",
    "display(hypothesis[['hypothesis', 'RICE', 'reach']].sort_values(by='RICE', ascending=False))"
   ]
  },
  {
   "cell_type": "markdown",
   "metadata": {},
   "source": [
    "При применении фреймворка RICE наиболее приоритетными являются гипотезы 7, 2, 0, 6. \n",
    "\n",
    "Различия в приоритетах гипотез связаны с добавлением параметра Reach. Добавление информации на основных страницах сайта охватывет большое количество пользователей, что обеспечивает высокое значение параметра Reach у гипотезы 7, тогда как акция в день рождения не обеспечивает большого охвата \n",
    "\n",
    "Исходя из полученных результатов, гипотезы 7, 2, 0 являются наиболее приоритетными  "
   ]
  },
  {
   "cell_type": "markdown",
   "metadata": {},
   "source": [
    "**Вывод по этапу приоритезация гипотез:**\n",
    "\n",
    "- В ходе приоритезации гипотез было установлено, что наиболее приоритетными являются гипотезы 7, 2, 0 \n",
    "- Приоритет гипотез 8,0,7 изменяется при применении фреймворка RICE, так как гипотезы 7 и 2 обеспечивают больший охват пользователей"
   ]
  },
  {
   "cell_type": "markdown",
   "metadata": {},
   "source": [
    "### Анализ A/B-теста"
   ]
  },
  {
   "cell_type": "markdown",
   "metadata": {},
   "source": [
    "#### Анализ кумулятивной выручки по группам"
   ]
  },
  {
   "cell_type": "code",
   "execution_count": 19,
   "metadata": {},
   "outputs": [],
   "source": [
    "#создадим массив уникальных пар значений дат и групп теста\n",
    "datesGroups = orders[['date', 'group']].drop_duplicates() "
   ]
  },
  {
   "cell_type": "code",
   "execution_count": 20,
   "metadata": {},
   "outputs": [],
   "source": [
    "# Получим агрегированные кумулятивные по дням данные о заказах интернет-магазина\n",
    "ordersAggregated = datesGroups.apply(\n",
    "    lambda x: orders[\n",
    "        np.logical_and(\n",
    "            #строки таблицы orders, дата которых меньше или равна\\\n",
    "            #дате элемента из datesGroups, а группа теста равна группе из datesGroups\n",
    "            orders['date'] <= x['date'], orders['group'] == x['group'] \n",
    "        )\n",
    "    ].agg(\n",
    "        {\n",
    "            'date': 'max', #вычисляем максимальную дату\n",
    "            'group': 'max', \n",
    "            'transaction_id': 'nunique', #число уникальных ID заказов\n",
    "            'visitor_id': 'nunique', #число уникальных ID пользователей\n",
    "            'revenue': 'sum', #сумма средних чеков\n",
    "        }\n",
    "    ),\n",
    "    axis=1,\n",
    ").sort_values(by=['date', 'group'])\n"
   ]
  },
  {
   "cell_type": "code",
   "execution_count": 21,
   "metadata": {
    "scrolled": true
   },
   "outputs": [
    {
     "name": "stdout",
     "output_type": "stream",
     "text": [
      "дата начала теста: 2019-08-01 00:00:00\n",
      "дата окончания теста: 2019-08-31 00:00:00\n",
      "количество записей: 62\n"
     ]
    }
   ],
   "source": [
    "# Проверим корректность формирования таблицы ordersAggregated\n",
    "print('дата начала теста:', ordersAggregated['date'].min())\n",
    "print('дата окончания теста:', ordersAggregated['date'].max())\n",
    "print('количество записей:', ordersAggregated.shape[0])"
   ]
  },
  {
   "cell_type": "code",
   "execution_count": 22,
   "metadata": {},
   "outputs": [],
   "source": [
    "# Аналогично получим агрегированные кумулятивные по дням данные о посещениях интернет-магазина\n",
    "visitorsAggregated = datesGroups.apply(\n",
    "    lambda x: visitors[\n",
    "        np.logical_and(\n",
    "            visitors['date'] <= x['date'], visitors['group'] == x['group']\n",
    "        )\n",
    "    ].agg({'date': 'max', 'group': 'max', 'visitors': 'sum'}),\n",
    "    axis=1,\n",
    ").sort_values(by=['date', 'group'])\n"
   ]
  },
  {
   "cell_type": "code",
   "execution_count": 23,
   "metadata": {},
   "outputs": [
    {
     "name": "stdout",
     "output_type": "stream",
     "text": [
      "дата начала теста: 2019-08-01 00:00:00\n",
      "дата окончания теста: 2019-08-31 00:00:00\n",
      "количество записей: 62\n"
     ]
    }
   ],
   "source": [
    "# Проверим корректность формирования таблицы visitorsAggregated\n",
    "print('дата начала теста:', visitorsAggregated['date'].min())\n",
    "print('дата окончания теста:', visitorsAggregated['date'].max())\n",
    "print('количество записей:', visitorsAggregated.shape[0])"
   ]
  },
  {
   "cell_type": "code",
   "execution_count": 24,
   "metadata": {},
   "outputs": [],
   "source": [
    "# объединяем кумулятивные данные по заказам и посещениям в одной таблице \n",
    "cumulativeData = ordersAggregated.merge(\n",
    "    visitorsAggregated, left_on=['date', 'group'], right_on=['date', 'group']\n",
    ")\n",
    "# Переименуем столбцы\n",
    "cumulativeData.columns = [\n",
    "    'date',\n",
    "    'group',\n",
    "    'orders',\n",
    "    'buyers',\n",
    "    'revenue',\n",
    "    'visitors',\n",
    "]\n"
   ]
  },
  {
   "cell_type": "code",
   "execution_count": 25,
   "metadata": {},
   "outputs": [],
   "source": [
    "# зададим датафрейм с кумулятивным количеством заказов и кумулятивной выручкой по дням в группе А\n",
    "cumulativeRevenueA = cumulativeData[cumulativeData['group']=='A'][['date','revenue', 'orders']]\n",
    "#зададим датафрейм с кумулятивным количеством заказов и кумулятивной выручкой по дням в группе B\n",
    "cumulativeRevenueB = cumulativeData[cumulativeData['group']=='B'][['date','revenue', 'orders']]"
   ]
  },
  {
   "cell_type": "code",
   "execution_count": 26,
   "metadata": {},
   "outputs": [
    {
     "data": {
      "image/png": "[encoded data removed]",
      "text/plain": [
       "<Figure size 576x432 with 1 Axes>"
      ]
     },
     "metadata": {
      "needs_background": "light"
     },
     "output_type": "display_data"
    }
   ],
   "source": [
    "# Строим график выручки группы А\n",
    "plt.figure(figsize=(8,6))\n",
    "plt.plot(cumulativeRevenueA['date'], cumulativeRevenueA['revenue'], label='A')\n",
    "# Строим график выручки группы B\n",
    "plt.plot(cumulativeRevenueB['date'], cumulativeRevenueB['revenue'], label='B')\n",
    "plt.legend()\n",
    "plt.xlabel('Дата проведения эксперимента')\n",
    "plt.ylabel('Кумулятивная выручка')\n",
    "plt.title('Кумулятивная выручка по дням по группам')\n",
    "plt.xticks(rotation=30)\n",
    "plt.show()"
   ]
  },
  {
   "cell_type": "markdown",
   "metadata": {},
   "source": [
    "*На графике видим, что выручка в группе А растет равномерно, до середины эксперимента группа В немного превосходила группу А, однако для группы В наблюдается резкий скачок в период после 17 августа, возможно, это связано с аномально дорогими заказами в эти дни или увеличением числа заказов*"
   ]
  },
  {
   "cell_type": "markdown",
   "metadata": {},
   "source": [
    "#### Анализ среднего чека по группам"
   ]
  },
  {
   "cell_type": "code",
   "execution_count": 27,
   "metadata": {},
   "outputs": [
    {
     "data": {
      "image/png": "[encoded data removed]",
      "text/plain": [
       "<Figure size 576x432 with 1 Axes>"
      ]
     },
     "metadata": {
      "needs_background": "light"
     },
     "output_type": "display_data"
    }
   ],
   "source": [
    "# Строим график среднего чека группы А\n",
    "plt.figure(figsize=(8,6))\n",
    "plt.plot(cumulativeRevenueA['date'], cumulativeRevenueA['revenue']/cumulativeRevenueA['orders'], label='A')\n",
    "# Строим график среднего чека группы В\n",
    "plt.plot(cumulativeRevenueB['date'], cumulativeRevenueB['revenue']/cumulativeRevenueB['orders'], label='B')\n",
    "plt.legend() \n",
    "plt.xlabel('Дата проведения эксперимента')\n",
    "plt.ylabel('Средний чек')\n",
    "plt.title('Средний чек по дням по группам')\n",
    "plt.xticks(rotation=30)\n",
    "plt.show()"
   ]
  },
  {
   "cell_type": "markdown",
   "metadata": {},
   "source": [
    "*Из графика видим, что для группы А значения среднего чека значительно колебались до 13 августа, затем вышли на стабильный уровень, в группе В есть резкие скачки до 7 августа и 18-19 августа,что соответствует скачкам в кумулятивной выручке. Возможно, в этот период попали дорогие заказы, средний чек стабилизируется только в последнюю декаду месяца и начинает снижение*"
   ]
  },
  {
   "cell_type": "code",
   "execution_count": 28,
   "metadata": {},
   "outputs": [
    {
     "data": {
      "image/png": "[encoded data removed]",
      "text/plain": [
       "<Figure size 576x432 with 1 Axes>"
      ]
     },
     "metadata": {
      "needs_background": "light"
     },
     "output_type": "display_data"
    }
   ],
   "source": [
    "# собираем данные по группам в одном датафрейме\n",
    "mergedCumulativeRevenue = cumulativeRevenueA.merge(cumulativeRevenueB, left_on='date', right_on='date', how='left', suffixes=['A', 'B'])\n",
    "plt.figure(figsize=(8,6))\n",
    "# cтроим отношение средних чеков\n",
    "plt.plot(mergedCumulativeRevenue['date'], (mergedCumulativeRevenue['revenueB']/mergedCumulativeRevenue['ordersB'])/(mergedCumulativeRevenue['revenueA']/mergedCumulativeRevenue['ordersA'])-1)\n",
    "\n",
    "# добавляем ось X\n",
    "plt.axhline(y=0, color='black', linestyle='--') \n",
    "plt.xlabel('Дата проведения эксперимента')\n",
    "plt.ylabel('Отношение средних чеков')\n",
    "plt.title('Относительное различие для среднего чека')\n",
    "plt.xticks(rotation=30)\n",
    "plt.show()"
   ]
  },
  {
   "cell_type": "markdown",
   "metadata": {},
   "source": [
    "*На графике аналогично видим резкие всплески и падения в отношении между группами. Исходя из такого поведения графиков средних чеков можно предположить, что в период до 7 августа и 18-19 августа в группу В попадали заказы, которые дают значительные выбросы по данным*"
   ]
  },
  {
   "cell_type": "markdown",
   "metadata": {},
   "source": [
    "*Из построенных графиков выручки и среднего чека видим, что в отдельные дни были совершены аномально дорогие заказы, которые дают резкие всплески на графиках кумулятивной выручки и среднего чека. Средний чек для группы В стабилизируется только в последние 10 дней тестирования и начинает падение. Полученные данные не раскрывают реального поведения пользователей в группах* "
   ]
  },
  {
   "cell_type": "markdown",
   "metadata": {},
   "source": [
    "#### Анализ кумулятивной конверсии"
   ]
  },
  {
   "cell_type": "code",
   "execution_count": 29,
   "metadata": {},
   "outputs": [
    {
     "data": {
      "image/png": "[encoded data removed]",
      "text/plain": [
       "<Figure size 576x432 with 1 Axes>"
      ]
     },
     "metadata": {
      "needs_background": "light"
     },
     "output_type": "display_data"
    }
   ],
   "source": [
    "# считаем кумулятивную конверсию\n",
    "cumulativeData['conversion'] = cumulativeData['orders']/cumulativeData['visitors']\n",
    "plt.figure(figsize=(8,6))\n",
    "# отделяем данные по группе A\n",
    "cumulativeDataA = cumulativeData[cumulativeData['group']=='A']\n",
    "\n",
    "# отделяем данные по группе B\n",
    "cumulativeDataB = cumulativeData[cumulativeData['group']=='B']\n",
    "\n",
    "# строим графики\n",
    "plt.plot(cumulativeDataA['date'], cumulativeDataA['conversion'], label='A')\n",
    "plt.plot(cumulativeDataB['date'], cumulativeDataB['conversion'], label='B')\n",
    "plt.legend()\n",
    "# задаем масштаб осей\n",
    "plt.axhline(y=0, color='black', linestyle='--')\n",
    "plt.axhline(y=0.2, color='grey', linestyle='--')\n",
    "plt.axis([dt.datetime(2019, 8, 1), dt.datetime(2019, 8, 31), 0.025, 0.04])\n",
    "plt.xlabel('Дата проведения эксперимента')\n",
    "plt.ylabel('Конверсия')\n",
    "plt.title('Кумулятивная конверсия')\n",
    "plt.xticks(rotation=30)\n",
    "plt.show()"
   ]
  },
  {
   "cell_type": "markdown",
   "metadata": {},
   "source": [
    "*В первые дни теста конверсия резко колеблется для обеих групп, возможно, это связано с попаданием аномально высоких заказов, при этом конверсия группы А выше. После 2-3 августа коверсия группы А начинает стремительное падение, тогда как в группе В наблюдается резкий рост, что скорее всего, также связано с попаданием аномальных заказов в этот период, после 9 августа данные в обеих группах стабилизируются, с небольшим выбросом 15 августа в группе В. В целом, конверсия группы В стабильно выше группы А*   "
   ]
  },
  {
   "cell_type": "code",
   "execution_count": 30,
   "metadata": {},
   "outputs": [
    {
     "data": {
      "image/png": "[encoded data removed]",
      "text/plain": [
       "<Figure size 576x432 with 1 Axes>"
      ]
     },
     "metadata": {
      "needs_background": "light"
     },
     "output_type": "display_data"
    }
   ],
   "source": [
    "# Построим график относительного различия кумулятивных конверсий\n",
    "mergedCumulativeConversions = cumulativeDataA[['date','conversion']].merge(cumulativeDataB[['date','conversion']], left_on='date', right_on='date', how='left', suffixes=['A', 'B'])\n",
    "plt.figure(figsize=(8,6))\n",
    "plt.plot(mergedCumulativeConversions['date'], mergedCumulativeConversions['conversionB']/mergedCumulativeConversions['conversionA']-1)\n",
    "\n",
    "plt.axhline(y=0, color='black', linestyle='--')\n",
    "plt.axhline(y=0.1, color='grey', linestyle='--')\n",
    "plt.axis([dt.datetime(2019, 8, 1), dt.datetime(2019, 8, 31),-0.2, 0.4])\n",
    "plt.xlabel('Дата проведения эксперимента')\n",
    "plt.ylabel('Отношение конверсий')\n",
    "plt.title('Относительный прирост конверсии')\n",
    "plt.xticks(rotation=30)\n",
    "plt.show()"
   ]
  },
  {
   "cell_type": "markdown",
   "metadata": {},
   "source": [
    "*На графике видим, что до 5 августа конверсия в группе В была выше только 2 августа, после она начинает стремительно расти и остается стабильно выше более чем на 10%  до конца эксперимента, в последней декаде месяца наблюдается постепенный спад, но уровень сохраняется выше 10%* "
   ]
  },
  {
   "cell_type": "markdown",
   "metadata": {},
   "source": [
    "#### Анализ количества заказов по пользователям"
   ]
  },
  {
   "cell_type": "code",
   "execution_count": 31,
   "metadata": {},
   "outputs": [
    {
     "data": {
      "image/png": "[encoded data removed]",
      "text/plain": [
       "<Figure size 432x288 with 1 Axes>"
      ]
     },
     "metadata": {
      "needs_background": "light"
     },
     "output_type": "display_data"
    }
   ],
   "source": [
    "#Сгруппируем заказы по пользователям\n",
    "ordersByUsers = (\n",
    "    orders.groupby('visitor_id', as_index=False)\n",
    "    .agg({'transaction_id': 'nunique'})\n",
    ")\n",
    "ordersByUsers.columns = ['visitor_id', 'orders']\n",
    "# серия из чисел от 0 до количества наблюдений в ordersByUsers\n",
    "x_values = pd.Series(range(0, len(ordersByUsers)))\n",
    "\n",
    "# Построим диаграмму распределения заказов\n",
    "plt.scatter(x_values, ordersByUsers['orders'], alpha=0.5)\n",
    "plt.xlabel('Количество наблюдений')\n",
    "plt.ylabel('Количество заказов на пользователя')\n",
    "plt.title('Точечная диаграмма числа заказов на одного пользователя')\n",
    "plt.show()"
   ]
  },
  {
   "cell_type": "markdown",
   "metadata": {},
   "source": [
    "*Из графика видим, что основная часть пользователей совершила один заказ, небольшой процент сделали 2 заказа, большее число заказов совершила небольшая доля пользователей.*  \n",
    "\n",
    "*Для более точной оценки распределения количества по пользователем посчитаем перцентили количества заказов на одного пользователя.*"
   ]
  },
  {
   "cell_type": "code",
   "execution_count": 32,
   "metadata": {},
   "outputs": [
    {
     "name": "stdout",
     "output_type": "stream",
     "text": [
      "90% пользователей сделали не более [1.] заказа\n",
      "95% пользователей сделали не более [2.] заказов\n",
      "99% пользователей сделали не более [4.] заказов\n"
     ]
    }
   ],
   "source": [
    "#Посчитаем выборочные перцентили количества заказов на одного пользователя\n",
    "print(f\"90% пользователей сделали не более {np.percentile(ordersByUsers['orders'], [90])} заказа\") \n",
    "print(f\"95% пользователей сделали не более {np.percentile(ordersByUsers['orders'], [95])} заказов\") \n",
    "print(f\"99% пользователей сделали не более {np.percentile(ordersByUsers['orders'], [99])} заказов\") "
   ]
  },
  {
   "cell_type": "markdown",
   "metadata": {},
   "source": [
    "*95% пользователей совершают до 2 заказов. Большее число заказов примем за выбросы и исключим*"
   ]
  },
  {
   "cell_type": "markdown",
   "metadata": {},
   "source": [
    "#### Анализ стоимости заказов по пользователям"
   ]
  },
  {
   "cell_type": "code",
   "execution_count": 33,
   "metadata": {},
   "outputs": [
    {
     "data": {
      "image/png": "[encoded data removed]",
      "text/plain": [
       "<Figure size 1152x432 with 2 Axes>"
      ]
     },
     "metadata": {
      "needs_background": "light"
     },
     "output_type": "display_data"
    }
   ],
   "source": [
    "# построим график распрделения средней стоимости заказа\n",
    "fig = plt.figure(figsize=(16,6))\n",
    "# серия из чисел от 0 до количества наблюдений  \n",
    "x_values = pd.Series(range(0, len(orders['revenue'])))\n",
    "ax1=fig.add_subplot(1, 2, 1)\n",
    "plt.scatter(x_values, orders['revenue'])\n",
    "ax2=fig.add_subplot(1, 2, 2)\n",
    "# построим график распрделения средней стоимости заказа в увеличенном масштабе\n",
    "plt.scatter(x_values, orders['revenue'], alpha=0.5)\n",
    "plt.axis([0, 1200, 0, 200000])\n",
    "plt.suptitle('Точечная диаграмма стоимости заказов по пользователям')\n",
    "plt.show()"
   ]
  },
  {
   "cell_type": "markdown",
   "metadata": {},
   "source": [
    "*На первом графике видим, что в выборке есть заказ на сумму более 1 млн, что искажает отображение графика. При исключении из выборки этого выброса видим, что основная часть пользователей делает заказ до 25000 рублей, заказы более 50000 встречаются очень редко.* "
   ]
  },
  {
   "cell_type": "code",
   "execution_count": 34,
   "metadata": {},
   "outputs": [
    {
     "name": "stdout",
     "output_type": "stream",
     "text": [
      "90% заказов стоят не более [18168.]\n",
      "95% заказов стоят не более [28000.]\n",
      "99% заказов стоят не более [58233.2]\n"
     ]
    }
   ],
   "source": [
    "#Посчитаем выборочные перцентили перцентили среднего чека в выборке\n",
    "print(f\"90% заказов стоят не более {np.percentile(orders['revenue'], [90])}\")\n",
    "print(f\"95% заказов стоят не более {np.percentile(orders['revenue'], [95])}\")\n",
    "print(f\"99% заказов стоят не более {np.percentile(orders['revenue'], [99])}\")"
   ]
  },
  {
   "cell_type": "markdown",
   "metadata": {},
   "source": [
    "*99% заказов стоят не более 58000, зададим границу для аномальных значений в 50000*\n",
    "\n",
    "*В ходе анализа аномальных значений, за границы аномальных значений были приняты пользователи, совершившие более 2 заказов(5% пользователей) на сумму более 50000 тысяч(около 2% пользователей)*"
   ]
  },
  {
   "cell_type": "markdown",
   "metadata": {},
   "source": [
    "#### Расчет статистической значимости различий в заказах пользователей между группами"
   ]
  },
  {
   "cell_type": "code",
   "execution_count": 35,
   "metadata": {},
   "outputs": [],
   "source": [
    "#Сделаем срез посещений по группе А\n",
    "visitorsADaily = visitors[visitors['group'] == 'A'][['date', 'visitors']]\n",
    "visitorsADaily.columns = ['date', 'visitorsPerDateA']"
   ]
  },
  {
   "cell_type": "code",
   "execution_count": 36,
   "metadata": {},
   "outputs": [],
   "source": [
    "#Посчитаем  агрегированные кумулятивные по дням данные о посетителях интернет-магазина из группы А\n",
    "visitorsACummulative = visitorsADaily.apply(\n",
    "    lambda x: visitorsADaily[visitorsADaily['date'] <= x['date']].agg(\n",
    "        {'date': 'max', 'visitorsPerDateA': 'sum'}\n",
    "    ),\n",
    "    axis=1,\n",
    ")\n",
    "visitorsACummulative.columns = ['date', 'visitorsCummulativeA']"
   ]
  },
  {
   "cell_type": "code",
   "execution_count": 37,
   "metadata": {},
   "outputs": [],
   "source": [
    "#Посчитаем  агрегированные кумулятивные по дням данные о посетителях интернет-магазина из группы В\n",
    "visitorsBDaily = visitors[visitors['group'] == 'B'][['date', 'visitors']]\n",
    "visitorsBDaily.columns = ['date', 'visitorsPerDateB']\n",
    "\n",
    "visitorsBCummulative = visitorsBDaily.apply(\n",
    "    lambda x: visitorsBDaily[visitorsBDaily['date'] <= x['date']].agg(\n",
    "        {'date': 'max', 'visitorsPerDateB': 'sum'}\n",
    "    ),\n",
    "    axis=1,\n",
    ")\n",
    "visitorsBCummulative.columns = ['date', 'visitorsCummulativeB']"
   ]
  },
  {
   "cell_type": "code",
   "execution_count": 38,
   "metadata": {},
   "outputs": [],
   "source": [
    "#Посчитаем  агрегированные кумулятивные данные по дням о заказах интернет-магазина из группы А\n",
    "ordersADaily = (\n",
    "    orders[orders['group'] == 'A'][['date', 'transaction_id', 'visitor_id', 'revenue']]\n",
    "    .groupby('date', as_index=False)\n",
    "    .agg({'transaction_id': pd.Series.nunique, 'revenue': 'sum'})\n",
    ")\n",
    "ordersADaily.columns = ['date', 'ordersPerDateA', 'revenuePerDateA']\n",
    "\n",
    "ordersACummulative = ordersADaily.apply(\n",
    "    lambda x: ordersADaily[ordersADaily['date'] <= x['date']].agg(\n",
    "        {'date': 'max', 'ordersPerDateA': 'sum', 'revenuePerDateA': 'sum'}\n",
    "    ),\n",
    "    axis=1,\n",
    ").sort_values(by=['date'])\n",
    "ordersACummulative.columns = [\n",
    "    'date',\n",
    "    'ordersCummulativeA',\n",
    "    'revenueCummulativeA',\n",
    "]\n"
   ]
  },
  {
   "cell_type": "code",
   "execution_count": 39,
   "metadata": {},
   "outputs": [],
   "source": [
    "#Посчитаем  агрегированные кумулятивные по дням данные о заказах интернет-магазина из группы В\n",
    "ordersBDaily = (\n",
    "    orders[orders['group'] == 'B'][['date', 'transaction_id', 'visitor_id', 'revenue']]\n",
    "    .groupby('date', as_index=False)\n",
    "    .agg({'visitor_id': pd.Series.nunique, 'revenue': 'sum'})\n",
    ")\n",
    "ordersBDaily.columns = ['date', 'ordersPerDateB', 'revenuePerDateB']\n",
    "ordersBCummulative = ordersBDaily.apply(\n",
    "    lambda x: ordersBDaily[ordersBDaily['date'] <= x['date']].agg(\n",
    "        {'date': 'max', 'ordersPerDateB': 'sum', 'revenuePerDateB': 'sum'}\n",
    "    ),\n",
    "    axis=1,\n",
    ").sort_values(by=['date'])\n",
    "ordersBCummulative.columns = [\n",
    "    'date',\n",
    "    'ordersCummulativeB',\n",
    "    'revenueCummulativeB',\n",
    "]"
   ]
  },
  {
   "cell_type": "code",
   "execution_count": 40,
   "metadata": {},
   "outputs": [],
   "source": [
    "#Объединим полученные таблицы\n",
    "data = (\n",
    "    ordersADaily.merge(\n",
    "        ordersBDaily, left_on='date', right_on='date', how='left'\n",
    "    )\n",
    "    .merge(ordersACummulative, left_on='date', right_on='date', how='left')\n",
    "    .merge(ordersBCummulative, left_on='date', right_on='date', how='left')\n",
    "    .merge(visitorsADaily, left_on='date', right_on='date', how='left')\n",
    "    .merge(visitorsBDaily, left_on='date', right_on='date', how='left')\n",
    "    .merge(visitorsACummulative, left_on='date', right_on='date', how='left')\n",
    "    .merge(visitorsBCummulative, left_on='date', right_on='date', how='left')\n",
    ")"
   ]
  },
  {
   "cell_type": "code",
   "execution_count": 41,
   "metadata": {},
   "outputs": [],
   "source": [
    "#Соберем данные о пользователях из группы А, которые сделали хотя бы один заказ \n",
    "ordersByUsersA = (\n",
    "    orders[orders['group'] == 'A']\n",
    "    .groupby('visitor_id', as_index=False)\n",
    "    .agg({'transaction_id': pd.Series.nunique})\n",
    ")\n",
    "ordersByUsersA.columns = ['userId', 'orders']"
   ]
  },
  {
   "cell_type": "code",
   "execution_count": 42,
   "metadata": {},
   "outputs": [],
   "source": [
    "#Соберем данные о пользователях из группы В, которые сделали хотя бы один заказ \n",
    "ordersByUsersB = (\n",
    "    orders[orders['group'] == 'B']\n",
    "    .groupby('visitor_id', as_index=False)\n",
    "    .agg({'transaction_id': pd.Series.nunique})\n",
    ")\n",
    "ordersByUsersB.columns = ['userId', 'orders']"
   ]
  },
  {
   "cell_type": "code",
   "execution_count": 43,
   "metadata": {},
   "outputs": [],
   "source": [
    "#Зададим мписок с количеством заказов для каждого из пользователей группы А, \n",
    "#а также нули для пользователей, которые ничего не заказывали \n",
    "sampleA = pd.concat([ordersByUsersA['orders'],\\\n",
    "        pd.Series(0, index=np.arange(data['visitorsPerDateA'].sum()- len(ordersByUsersA['orders'])),\\\n",
    "        name='orders')],axis=0)"
   ]
  },
  {
   "cell_type": "code",
   "execution_count": 44,
   "metadata": {},
   "outputs": [],
   "source": [
    "#Зададим мписок с количеством заказов для каждого из пользователей группы В, \n",
    "#а также нули для пользователей, которые ничего не заказывали \n",
    "sampleB = pd.concat([ordersByUsersB['orders'],\\\n",
    "        pd.Series(0, index=np.arange(data['visitorsPerDateB'].sum() - len(ordersByUsersB['orders'])),\\\n",
    "        name='orders')],axis=0)"
   ]
  },
  {
   "cell_type": "markdown",
   "metadata": {},
   "source": [
    "***Проверим статистическую значимость различий среднего количества заказов между сегментами по сырым данным.***\n",
    "\n",
    "*Нулевая гипотеза Н0: различий в среднем количестве заказов между группами нет*\n",
    "\n",
    "*Альтернативная гипотеза Н1:различия в среднем количестве заказов между группами есть*\n",
    "\n",
    "*Применим критерий Манна-Уитни* \n",
    "\n",
    "*Порогом статистической значимости установим alpha = 0.05*"
   ]
  },
  {
   "cell_type": "code",
   "execution_count": 45,
   "metadata": {},
   "outputs": [
    {
     "name": "stdout",
     "output_type": "stream",
     "text": [
      "p-значение:  0.016792355056752608\n",
      "Отвергаем нулевую гипотезу: разница статистически значима\n"
     ]
    }
   ],
   "source": [
    "alpha = 0.05  # критический уровень статистической значимости\n",
    "results=stats.mannwhitneyu(sampleA, sampleB)\n",
    "print('p-значение: ', results.pvalue)\n",
    "\n",
    "if results.pvalue < alpha:\n",
    "    print('Отвергаем нулевую гипотезу: разница статистически значима')\n",
    "else:\n",
    "     print(\n",
    "        'Не получилось отвергнуть нулевую гипотезу, вывод о различии сделать нельзя'\n",
    "    ) "
   ]
  },
  {
   "cell_type": "code",
   "execution_count": 46,
   "metadata": {},
   "outputs": [
    {
     "name": "stdout",
     "output_type": "stream",
     "text": [
      "Прирост среднего числа заказов группы B: 0.138\n"
     ]
    }
   ],
   "source": [
    "#найдем относительный прирост среднего числа заказов группы B\n",
    "print('Прирост среднего числа заказов группы B:',\\\n",
    "      \"{0:.3f}\".format(sampleB.mean() / sampleA.mean() - 1))"
   ]
  },
  {
   "cell_type": "markdown",
   "metadata": {},
   "source": [
    "*По сырым данным есть статистическое различие между средним количеством заказов в группе А и В, а среднее число заказов в группе В на 13,8% выше по сравнению с группой А*"
   ]
  },
  {
   "cell_type": "markdown",
   "metadata": {},
   "source": [
    "**Проверим статистическую значимость различий среднего чека между группами по сырым данным**\n",
    "\n",
    "*Нулевая гипотеза Н0: различий в среднем чеке между группами нет*\n",
    "\n",
    "*Альтернативная гипотеза Н1:различия в среднем чеке между группами есть*\n",
    "\n",
    "*Применим критерий Манна-Уитни* \n",
    "\n",
    "*Порогом статистической значимости установим alpha = 0.05*"
   ]
  },
  {
   "cell_type": "code",
   "execution_count": 47,
   "metadata": {},
   "outputs": [
    {
     "name": "stdout",
     "output_type": "stream",
     "text": [
      "p-значение:  0.7292909855432458\n",
      "Не получилось отвергнуть нулевую гипотезу, вывод о различии сделать нельзя\n"
     ]
    }
   ],
   "source": [
    "alpha = 0.05  # критический уровень статистической значимости\n",
    "results=stats.mannwhitneyu(orders[orders['group']=='A']['revenue'],\\\n",
    "                orders[orders['group']=='B']['revenue'])\n",
    "print('p-значение: ', results.pvalue)\n",
    "\n",
    "if results.pvalue < alpha:\n",
    "    print('Отвергаем нулевую гипотезу: разница статистически значима')\n",
    "else:\n",
    "     print(\n",
    "        'Не получилось отвергнуть нулевую гипотезу, вывод о различии сделать нельзя'\n",
    "    ) "
   ]
  },
  {
   "cell_type": "code",
   "execution_count": 48,
   "metadata": {},
   "outputs": [
    {
     "name": "stdout",
     "output_type": "stream",
     "text": [
      "0.259\n"
     ]
    }
   ],
   "source": [
    "#найдем относительно изменение суммы заказов между группами\n",
    "print('{0:.3f}'.format(orders[orders['group']=='B']['revenue'].mean()\\\n",
    "                    /orders[orders['group']=='A']['revenue'].mean()-1)) "
   ]
  },
  {
   "cell_type": "markdown",
   "metadata": {},
   "source": [
    "*По сырым данным нет статистического различия в среднем чеке между группами, несмотря на прирост в значении среднего чека в группе В на 25,9%*"
   ]
  },
  {
   "cell_type": "code",
   "execution_count": 49,
   "metadata": {},
   "outputs": [],
   "source": [
    "#зададим таблицу с пользователями с заказами более 2\n",
    "usersWithManyOrders = pd.concat(\n",
    "    [\n",
    "        ordersByUsersA[ordersByUsersA['orders'] > int(np.percentile(orders['revenue'], [95]))]['userId'],\n",
    "        ordersByUsersB[ordersByUsersB['orders'] > int(np.percentile(orders['revenue'], [95]))]['userId'],\n",
    "    ],\n",
    "    axis=0,\n",
    ")\n"
   ]
  },
  {
   "cell_type": "code",
   "execution_count": 50,
   "metadata": {},
   "outputs": [],
   "source": [
    "#зададим таблицу с пользователями с заказами выше 50 тысяч\n",
    "usersWithExpensiveOrders = orders[orders['revenue'] > 50000]['visitor_id']\n",
    "abnormalUsers = (\n",
    "    pd.concat([usersWithManyOrders, usersWithExpensiveOrders], axis=0)\n",
    "    .drop_duplicates()\n",
    "    .sort_values()\n",
    ")"
   ]
  },
  {
   "cell_type": "code",
   "execution_count": 51,
   "metadata": {},
   "outputs": [],
   "source": [
    "#объединим аномальных пользователей\n",
    "abnormalUsers = (\n",
    "    pd.concat([usersWithManyOrders, usersWithExpensiveOrders], axis=0)\n",
    "    .drop_duplicates()\n",
    "    .sort_values()\n",
    ")"
   ]
  },
  {
   "cell_type": "code",
   "execution_count": 52,
   "metadata": {
    "scrolled": true
   },
   "outputs": [
    {
     "name": "stdout",
     "output_type": "stream",
     "text": [
      "Количество аномальных пользователей: 19\n"
     ]
    }
   ],
   "source": [
    "print('Количество аномальных пользователей:', abnormalUsers.shape[0])"
   ]
  },
  {
   "cell_type": "code",
   "execution_count": 53,
   "metadata": {},
   "outputs": [],
   "source": [
    "#Исключим аномальных пользователей из выборки А\n",
    "sampleAFiltered = pd.concat(\n",
    "    [ordersByUsersA[np.logical_not(ordersByUsersA['userId'].isin(abnormalUsers))]['orders'],\n",
    "        pd.Series(0,index=np.arange(data['visitorsPerDateA'].sum() - len(ordersByUsersA['orders'])),\n",
    "            name='orders')],axis=0)"
   ]
  },
  {
   "cell_type": "code",
   "execution_count": 54,
   "metadata": {},
   "outputs": [],
   "source": [
    "#Исключим аномальных пользователей из выборки В\n",
    "sampleBFiltered = pd.concat(\n",
    "    [ordersByUsersB[np.logical_not(ordersByUsersB['userId'].isin(abnormalUsers))]['orders'],\n",
    "        pd.Series(0,index=np.arange(data['visitorsPerDateB'].sum() - len(ordersByUsersB['orders'])),\n",
    "            name='orders')],axis=0)"
   ]
  },
  {
   "cell_type": "markdown",
   "metadata": {},
   "source": [
    "**Проверим статистическую значимость различий в среднем количестве заказов между группами теста по очищенным данным**\n",
    "\n",
    "*Нулевая гипотеза Н0: различий в среднем количестве заказов между группами нет*\n",
    "\n",
    "*Альтернативная гипотеза Н1:различия в среднем количестве заказов между группами есть*\n",
    "\n",
    "*Применим критерий Манна-Уитни* \n",
    "\n",
    "*Порогом статистической значимости установим alpha = 0.05*"
   ]
  },
  {
   "cell_type": "code",
   "execution_count": 55,
   "metadata": {
    "scrolled": true
   },
   "outputs": [
    {
     "name": "stdout",
     "output_type": "stream",
     "text": [
      "p-значение:  0.012037397005787875\n",
      "Отвергаем нулевую гипотезу: разница статистически значима\n"
     ]
    }
   ],
   "source": [
    "\n",
    "alpha = 0.05  # критический уровень статистической значимости\n",
    "results=stats.mannwhitneyu(sampleAFiltered, sampleBFiltered)\n",
    "print('p-значение: ', results.pvalue)\n",
    "if results.pvalue < alpha:\n",
    "    print('Отвергаем нулевую гипотезу: разница статистически значима')\n",
    "else:\n",
    "     print(\n",
    "        'Не получилось отвергнуть нулевую гипотезу, вывод о различии сделать нельзя'\n",
    "    ) "
   ]
  },
  {
   "cell_type": "code",
   "execution_count": 56,
   "metadata": {},
   "outputs": [
    {
     "name": "stdout",
     "output_type": "stream",
     "text": [
      "прирост среднего числа заказов группы B: 0.155\n"
     ]
    }
   ],
   "source": [
    "#найдем относительный прирост среднего числа заказов группы B по очищенным данным\n",
    "print('прирост среднего числа заказов группы B:',\\\n",
    "      \"{0:.3f}\".format(sampleBFiltered.mean() / sampleAFiltered.mean() - 1))"
   ]
  },
  {
   "cell_type": "markdown",
   "metadata": {},
   "source": [
    "*Анализ очищенных данных подтвердил гипотезу о статически значимой разнице в количестве заказов между группами, при этом относительный прирост числа заказов в группе В увеличился после исключения аномальных пользователей. Группа В демонтрирует лучшие показатели конверсии по сравнению с группой А*"
   ]
  },
  {
   "cell_type": "markdown",
   "metadata": {},
   "source": [
    "**Проверим статистическую значимость различий среднего чека между группами по очищенным данным**"
   ]
  },
  {
   "cell_type": "markdown",
   "metadata": {},
   "source": [
    "*Нулевая гипотеза Н0: различий в среднем чеке между группами нет*\n",
    "\n",
    "*Альтернативная гипотеза Н1:различия в среднем чеке между группами есть*\n",
    "\n",
    "*Применим критерий Манна-Уитни* \n",
    "\n",
    "*Порогом статистической значимости установим alpha = 0.05*"
   ]
  },
  {
   "cell_type": "code",
   "execution_count": 57,
   "metadata": {},
   "outputs": [],
   "source": [
    "#Исключим аномальных пользователей из выборки А\n",
    "revenueAFiltered=orders[np.logical_and(orders['group'] == 'A',\\\n",
    "                        np.logical_not(orders['visitor_id'].isin(abnormalUsers)))]['revenue']\n",
    "#Исключим аномальных пользователей из выборки В\n",
    "revenueBFiltered=orders[np.logical_and(orders['group'] == 'B',\\\n",
    "                        np.logical_not(orders['visitor_id'].isin(abnormalUsers)))]['revenue']"
   ]
  },
  {
   "cell_type": "code",
   "execution_count": 58,
   "metadata": {},
   "outputs": [
    {
     "name": "stdout",
     "output_type": "stream",
     "text": [
      "p-значение:  0.6289288923300312\n",
      "Не получилось отвергнуть нулевую гипотезу, вывод о различии сделать нельзя\n"
     ]
    }
   ],
   "source": [
    "alpha = 0.05  # критический уровень статистической значимости\n",
    "results=stats.mannwhitneyu(revenueAFiltered, revenueBFiltered)\n",
    "print('p-значение: ', results.pvalue)\n",
    "if results.pvalue < alpha:\n",
    "    print('Отвергаем нулевую гипотезу: разница статистически значима')\n",
    "else:\n",
    "     print(\n",
    "        'Не получилось отвергнуть нулевую гипотезу, вывод о различии сделать нельзя'\n",
    "    ) "
   ]
  },
  {
   "cell_type": "code",
   "execution_count": 59,
   "metadata": {},
   "outputs": [
    {
     "name": "stdout",
     "output_type": "stream",
     "text": [
      "прирост среднего числа заказов группы B: 0.033\n"
     ]
    }
   ],
   "source": [
    "print('прирост среднего числа заказов группы B:',\\\n",
    "      \"{0:.3f}\".format(revenueBFiltered.mean() / revenueAFiltered.mean() - 1))"
   ]
  },
  {
   "cell_type": "markdown",
   "metadata": {},
   "source": [
    "*После исключения аномальных пользователей вывод по различию среднего чека между группами не изменился, статистически значимой разницы нет, при этом удаление аномальных пользователей снизило прирост в среднем чеке для группы В с 26 до 3%. Таким образом, основную часть в прирост выручки вкладывали пользователи с аномальными заказами*"
   ]
  },
  {
   "cell_type": "markdown",
   "metadata": {},
   "source": [
    "### **Вывод по А/В тесту:**\n",
    "\n",
    "- выручка в группе А росла равномерно, до середины эксперимента группа В немного превосходила группу А, однако для группы В наблюдается резкий скачок в период после 17 августа, что связано с аномально дорогими заказами в эти дни\n",
    "\n",
    "- для группы А значения среднего чека значительно колебались до 13 августа, затем вышли на стабильный уровень, в группе В есть резкие скачки до 7 августа и 18-19 августа,что соответствует скачкам в кумулятивной выручке. В этот период попали дорогие заказы, средний чек стабилизируется только в последнюю декаду месяца и начинает снижение\n",
    "\n",
    "- в отдельные дни были совершены аномально дорогие заказы, которые дают резкие всплески на графиках кумулятивной выручки и среднего чека. Средний чек для группы В стабилизируется только в последние 10 дней тестирования и начинает падение. Полученные данные не раскрывают реального поведения пользователей в группах\n",
    "\n",
    "- в первые дни теста конверсия резко колеблется для обеих групп, возможно, это связано с попаданием аномально высоких заказов, при этом конверсия группы А выше. После 2-3 августа коверсия группы А начинает стремительное падение, тогда как в группе В наблюдается резкий рост, что скорее всего, также связано с попаданием аномальных заказов в этот период, после 9 августа данные в обеих группах стабилизируются, с небольшим выбросом 15 августа в группе В. В целом, конверсия группы В стабильно выше группы А\n",
    "\n",
    "- в первые дни теста конверсия резко колеблется для обеих групп, возможно, это связано с попаданием аномально высоких заказов, при этом конверсия группы А выше. После 2-3 августа коверсия группы А начинает стремительное падение, тогда как в группе В наблюдается резкий рост, что скорее всего, также связано с попаданием аномальных заказов в этот период, после 9 августа данные в обеих группах стабилизируются, с небольшим выбросом 15 августа в группе В. В целом, конверсия группы В стабильно выше группы А\n",
    "\n",
    "- на графике видим, что до 5 августа конверсия в группе В была выше только 2 августа, после она начинает стремительно расти и остается стабильно выше более чем на 10%  до конца эксперимента, в последней декаде месяца наблюдается постепенный спад, но уровень сохраняется выше 10%\n",
    "\n",
    "- и по сырым, и по очищенным данным есть статистическое различие между средним количеством заказов в группе А и В, при этом в очищенных данных прирост выше (15% по сравнению с 13,8% для сырых данных)\n",
    "\n",
    "- и по сырым, и по очищенным данным нет статистического различия в среднем чеке между группами. При этом относительный прирост в среднем чеке для группы В падает с 26 до 3% после исключения аномальных пользователей\n",
    "\n",
    "**По полученным результатам предлагается остановить тест и зафиксировать победу группы В, так как удалось достичь стабильного увеличения конверсии пользователей**"
   ]
  },
  {
   "cell_type": "markdown",
   "metadata": {},
   "source": [
    "**Общий вывод по проекту:**\n",
    "\n",
    "В ходе проекта были проведены следующие этапы\n",
    "\n",
    "1. Предобработка данных: \n",
    "\n",
    "- проверено отсутствие пропусков и дубликатов\n",
    "\n",
    "- заменен формат данных в столбцах с датами\n",
    "\n",
    "- выявлено 5% пользователей, попавших в обе группы тестирования \n",
    "\n",
    "- проверены начало и конец тестирования в таблицах с заказами и посетителями\n",
    "\n",
    "2. Приоритезация гипотез: \n",
    "\n",
    "- При применении фреймворка ICE наиболее приоритетными являются гипотезы 8, 0, 7\n",
    "- При применении фреймворка RICE наиболее приоритетными являются гипотезы 7, 2, 0, 6\n",
    "- Установлено, что наиболее приоритетными являются гипотезы 7, 2, 0 \n",
    "- Приоритет гипотез 8,0,7 изменяется при применении фреймворка RICE, так как гипотезы 7 и 2 обеспечивают больший охват пользователей\n",
    "\n",
    "3. Анализ А/В теста:\n",
    "\n",
    "- Установлено статистическое различие между средним количеством заказов в группе А и В\n",
    "- Установлено отсутствие статистического различия в среднем чеке между группами А и В\n",
    "- Предложено остановить тест и зафиксировать победу группы В, так как удалось достичь стабильного увеличения конверсии пользователей"
   ]
  }
 ],
 "metadata": {
  "ExecuteTimeLog": [
   {
    "duration": 1587,
    "start_time": "2023-04-11T18:02:44.222Z"
   },
   {
    "duration": 240,
    "start_time": "2023-04-11T18:03:16.032Z"
   },
   {
    "duration": 20,
    "start_time": "2023-04-11T18:03:31.619Z"
   },
   {
    "duration": 7,
    "start_time": "2023-04-11T18:05:55.571Z"
   },
   {
    "duration": 5,
    "start_time": "2023-04-11T18:06:03.673Z"
   },
   {
    "duration": 12,
    "start_time": "2023-04-11T18:06:33.356Z"
   },
   {
    "duration": 6,
    "start_time": "2023-04-11T18:06:41.268Z"
   },
   {
    "duration": 12,
    "start_time": "2023-04-11T18:07:03.702Z"
   },
   {
    "duration": 11,
    "start_time": "2023-04-11T18:10:21.199Z"
   },
   {
    "duration": 257,
    "start_time": "2023-04-11T18:13:06.810Z"
   },
   {
    "duration": 116,
    "start_time": "2023-04-11T18:16:03.862Z"
   },
   {
    "duration": 95,
    "start_time": "2023-04-11T18:16:09.914Z"
   },
   {
    "duration": 182,
    "start_time": "2023-04-11T18:19:00.819Z"
   },
   {
    "duration": 697,
    "start_time": "2023-04-11T18:19:07.900Z"
   },
   {
    "duration": 13,
    "start_time": "2023-04-11T18:19:28.717Z"
   },
   {
    "duration": 16,
    "start_time": "2023-04-11T18:20:02.189Z"
   },
   {
    "duration": 100,
    "start_time": "2023-04-11T18:22:31.695Z"
   },
   {
    "duration": 6,
    "start_time": "2023-04-11T18:22:38.969Z"
   },
   {
    "duration": 11,
    "start_time": "2023-04-11T18:22:55.080Z"
   },
   {
    "duration": 10,
    "start_time": "2023-04-11T18:23:13.966Z"
   },
   {
    "duration": 14,
    "start_time": "2023-04-11T18:23:24.666Z"
   },
   {
    "duration": 13,
    "start_time": "2023-04-11T18:25:02.474Z"
   },
   {
    "duration": 7,
    "start_time": "2023-04-11T18:30:12.814Z"
   },
   {
    "duration": 6,
    "start_time": "2023-04-11T18:32:18.997Z"
   },
   {
    "duration": 11,
    "start_time": "2023-04-11T18:35:15.764Z"
   },
   {
    "duration": 14,
    "start_time": "2023-04-11T18:36:37.438Z"
   },
   {
    "duration": 9,
    "start_time": "2023-04-11T18:41:29.539Z"
   },
   {
    "duration": 42,
    "start_time": "2023-04-11T18:42:25.325Z"
   },
   {
    "duration": 12,
    "start_time": "2023-04-11T18:42:36.487Z"
   },
   {
    "duration": 14,
    "start_time": "2023-04-11T18:44:26.824Z"
   },
   {
    "duration": 13,
    "start_time": "2023-04-11T18:44:35.288Z"
   },
   {
    "duration": 34,
    "start_time": "2023-04-11T18:44:55.631Z"
   },
   {
    "duration": 25,
    "start_time": "2023-04-11T18:45:56.309Z"
   },
   {
    "duration": 176,
    "start_time": "2023-04-11T18:47:39.136Z"
   },
   {
    "duration": 7,
    "start_time": "2023-04-11T18:48:01.586Z"
   },
   {
    "duration": 11,
    "start_time": "2023-04-11T18:50:57.259Z"
   },
   {
    "duration": 21,
    "start_time": "2023-04-11T18:55:22.963Z"
   },
   {
    "duration": 28,
    "start_time": "2023-04-11T18:55:37.089Z"
   },
   {
    "duration": 28,
    "start_time": "2023-04-11T18:55:53.998Z"
   },
   {
    "duration": 46,
    "start_time": "2023-04-11T18:56:28.439Z"
   },
   {
    "duration": 37,
    "start_time": "2023-04-11T18:56:44.513Z"
   },
   {
    "duration": 38,
    "start_time": "2023-04-11T18:56:59.618Z"
   },
   {
    "duration": 44,
    "start_time": "2023-04-11T18:57:24.735Z"
   },
   {
    "duration": 57,
    "start_time": "2023-04-11T18:57:34.521Z"
   },
   {
    "duration": 400,
    "start_time": "2023-04-11T19:01:31.982Z"
   },
   {
    "duration": 15,
    "start_time": "2023-04-11T19:01:55.474Z"
   },
   {
    "duration": 49,
    "start_time": "2023-04-11T19:02:23.624Z"
   },
   {
    "duration": 11,
    "start_time": "2023-04-11T19:03:41.577Z"
   },
   {
    "duration": 11,
    "start_time": "2023-04-11T19:06:16.376Z"
   },
   {
    "duration": 10,
    "start_time": "2023-04-11T19:06:18.788Z"
   },
   {
    "duration": 5,
    "start_time": "2023-04-11T19:06:24.492Z"
   },
   {
    "duration": 7,
    "start_time": "2023-04-11T19:07:17.012Z"
   },
   {
    "duration": 11,
    "start_time": "2023-04-11T19:07:38.346Z"
   },
   {
    "duration": 8,
    "start_time": "2023-04-11T19:08:23.908Z"
   },
   {
    "duration": 10,
    "start_time": "2023-04-11T19:09:00.258Z"
   },
   {
    "duration": 9,
    "start_time": "2023-04-11T19:09:05.848Z"
   },
   {
    "duration": 18,
    "start_time": "2023-04-11T19:09:55.533Z"
   },
   {
    "duration": 6,
    "start_time": "2023-04-11T19:10:04.220Z"
   },
   {
    "duration": 6,
    "start_time": "2023-04-11T19:11:29.441Z"
   },
   {
    "duration": 7,
    "start_time": "2023-04-11T19:14:27.226Z"
   },
   {
    "duration": 188,
    "start_time": "2023-04-11T19:15:55.623Z"
   },
   {
    "duration": 174,
    "start_time": "2023-04-11T19:20:55.088Z"
   },
   {
    "duration": 185,
    "start_time": "2023-04-11T19:21:01.152Z"
   },
   {
    "duration": 138,
    "start_time": "2023-04-11T19:25:54.084Z"
   },
   {
    "duration": 274,
    "start_time": "2023-04-11T19:26:36.970Z"
   },
   {
    "duration": 7,
    "start_time": "2023-04-11T19:28:20.561Z"
   },
   {
    "duration": 231,
    "start_time": "2023-04-11T19:28:58.322Z"
   },
   {
    "duration": 213,
    "start_time": "2023-04-11T19:30:51.288Z"
   },
   {
    "duration": 241,
    "start_time": "2023-04-11T19:30:59.436Z"
   },
   {
    "duration": 181,
    "start_time": "2023-04-11T19:31:41.667Z"
   },
   {
    "duration": 209,
    "start_time": "2023-04-11T19:31:51.388Z"
   },
   {
    "duration": 211,
    "start_time": "2023-04-11T19:35:40.178Z"
   },
   {
    "duration": 176,
    "start_time": "2023-04-11T19:41:16.387Z"
   },
   {
    "duration": 211,
    "start_time": "2023-04-11T19:41:51.325Z"
   },
   {
    "duration": 9,
    "start_time": "2023-04-11T19:44:58.550Z"
   },
   {
    "duration": 430,
    "start_time": "2023-04-11T19:45:30.838Z"
   },
   {
    "duration": 309,
    "start_time": "2023-04-11T19:47:18.142Z"
   },
   {
    "duration": 183,
    "start_time": "2023-04-11T19:49:07.503Z"
   },
   {
    "duration": 257,
    "start_time": "2023-04-11T19:51:52.414Z"
   },
   {
    "duration": 322,
    "start_time": "2023-04-11T19:54:27.319Z"
   },
   {
    "duration": 306,
    "start_time": "2023-04-11T19:55:03.339Z"
   },
   {
    "duration": 7,
    "start_time": "2023-04-11T19:56:12.291Z"
   },
   {
    "duration": 293,
    "start_time": "2023-04-11T19:56:43.684Z"
   },
   {
    "duration": 332,
    "start_time": "2023-04-11T19:59:07.814Z"
   },
   {
    "duration": 322,
    "start_time": "2023-04-11T19:59:14.619Z"
   },
   {
    "duration": 299,
    "start_time": "2023-04-11T20:00:42.259Z"
   },
   {
    "duration": 333,
    "start_time": "2023-04-11T20:01:21.330Z"
   },
   {
    "duration": 402,
    "start_time": "2023-04-11T20:02:51.158Z"
   },
   {
    "duration": 279,
    "start_time": "2023-04-11T20:03:01.653Z"
   },
   {
    "duration": 274,
    "start_time": "2023-04-11T20:03:12.658Z"
   },
   {
    "duration": 338,
    "start_time": "2023-04-11T20:05:18.931Z"
   },
   {
    "duration": 9,
    "start_time": "2023-04-12T07:14:56.618Z"
   },
   {
    "duration": 325,
    "start_time": "2023-04-12T07:15:17.475Z"
   },
   {
    "duration": 312,
    "start_time": "2023-04-12T09:04:48.789Z"
   },
   {
    "duration": 340,
    "start_time": "2023-04-12T09:05:01.724Z"
   },
   {
    "duration": 303,
    "start_time": "2023-04-12T09:05:10.669Z"
   },
   {
    "duration": 21,
    "start_time": "2023-04-12T09:15:07.807Z"
   },
   {
    "duration": 3,
    "start_time": "2023-04-12T09:16:29.499Z"
   },
   {
    "duration": 57,
    "start_time": "2023-04-12T09:16:29.504Z"
   },
   {
    "duration": 12,
    "start_time": "2023-04-12T09:16:29.563Z"
   },
   {
    "duration": 18,
    "start_time": "2023-04-12T09:16:29.577Z"
   },
   {
    "duration": 29,
    "start_time": "2023-04-12T09:16:29.598Z"
   },
   {
    "duration": 25,
    "start_time": "2023-04-12T09:16:29.629Z"
   },
   {
    "duration": 52,
    "start_time": "2023-04-12T09:16:29.656Z"
   },
   {
    "duration": 12,
    "start_time": "2023-04-12T09:16:29.710Z"
   },
   {
    "duration": 61,
    "start_time": "2023-04-12T09:16:29.725Z"
   },
   {
    "duration": 19,
    "start_time": "2023-04-12T09:16:29.788Z"
   },
   {
    "duration": 19,
    "start_time": "2023-04-12T09:16:29.809Z"
   },
   {
    "duration": 38,
    "start_time": "2023-04-12T09:16:29.829Z"
   },
   {
    "duration": 17,
    "start_time": "2023-04-12T09:16:29.869Z"
   },
   {
    "duration": 16,
    "start_time": "2023-04-12T09:16:29.889Z"
   },
   {
    "duration": 16,
    "start_time": "2023-04-12T09:16:29.907Z"
   },
   {
    "duration": 44,
    "start_time": "2023-04-12T09:16:29.925Z"
   },
   {
    "duration": 23,
    "start_time": "2023-04-12T09:16:29.970Z"
   },
   {
    "duration": 41,
    "start_time": "2023-04-12T09:16:29.995Z"
   },
   {
    "duration": 73,
    "start_time": "2023-04-12T09:16:30.038Z"
   },
   {
    "duration": 68,
    "start_time": "2023-04-12T09:16:30.113Z"
   },
   {
    "duration": 117,
    "start_time": "2023-04-12T09:16:30.183Z"
   },
   {
    "duration": 113,
    "start_time": "2023-04-12T09:16:30.302Z"
   },
   {
    "duration": 73,
    "start_time": "2023-04-12T09:16:30.417Z"
   },
   {
    "duration": 21,
    "start_time": "2023-04-12T09:16:30.492Z"
   },
   {
    "duration": 243,
    "start_time": "2023-04-12T09:16:30.515Z"
   },
   {
    "duration": 146,
    "start_time": "2023-04-12T09:16:30.761Z"
   },
   {
    "duration": 8,
    "start_time": "2023-04-12T09:16:30.909Z"
   },
   {
    "duration": 21,
    "start_time": "2023-04-12T09:16:30.941Z"
   },
   {
    "duration": 301,
    "start_time": "2023-04-12T09:16:30.964Z"
   },
   {
    "duration": 240,
    "start_time": "2023-04-12T09:16:31.274Z"
   },
   {
    "duration": 346,
    "start_time": "2023-04-12T09:16:31.516Z"
   },
   {
    "duration": 502,
    "start_time": "2023-04-12T09:16:31.865Z"
   },
   {
    "duration": 294,
    "start_time": "2023-04-12T09:16:32.370Z"
   },
   {
    "duration": 14,
    "start_time": "2023-04-12T09:16:32.665Z"
   },
   {
    "duration": 141,
    "start_time": "2023-04-12T09:18:02.502Z"
   },
   {
    "duration": 155,
    "start_time": "2023-04-12T09:21:34.798Z"
   },
   {
    "duration": 6,
    "start_time": "2023-04-12T09:24:38.684Z"
   },
   {
    "duration": 12,
    "start_time": "2023-04-12T09:31:57.122Z"
   },
   {
    "duration": 145,
    "start_time": "2023-04-12T09:32:02.899Z"
   },
   {
    "duration": 152,
    "start_time": "2023-04-12T09:36:18.941Z"
   },
   {
    "duration": 163,
    "start_time": "2023-04-12T09:36:40.928Z"
   },
   {
    "duration": 179,
    "start_time": "2023-04-12T09:37:11.167Z"
   },
   {
    "duration": 160,
    "start_time": "2023-04-12T09:37:23.317Z"
   },
   {
    "duration": 131,
    "start_time": "2023-04-12T09:37:43.453Z"
   },
   {
    "duration": 162,
    "start_time": "2023-04-12T09:38:23.135Z"
   },
   {
    "duration": 208,
    "start_time": "2023-04-12T09:38:55.914Z"
   },
   {
    "duration": 253,
    "start_time": "2023-04-12T09:39:10.883Z"
   },
   {
    "duration": 383,
    "start_time": "2023-04-12T09:39:17.474Z"
   },
   {
    "duration": 324,
    "start_time": "2023-04-12T09:39:33.414Z"
   },
   {
    "duration": 4725,
    "start_time": "2023-04-12T09:43:43.705Z"
   },
   {
    "duration": 6,
    "start_time": "2023-04-12T09:43:54.335Z"
   },
   {
    "duration": 6,
    "start_time": "2023-04-12T10:24:46.624Z"
   },
   {
    "duration": 51,
    "start_time": "2023-04-12T10:27:47.603Z"
   },
   {
    "duration": 16,
    "start_time": "2023-04-12T13:52:54.923Z"
   },
   {
    "duration": 21,
    "start_time": "2023-04-12T13:53:53.217Z"
   },
   {
    "duration": 15,
    "start_time": "2023-04-12T13:54:17.730Z"
   },
   {
    "duration": 69,
    "start_time": "2023-04-12T13:54:25.231Z"
   },
   {
    "duration": 9,
    "start_time": "2023-04-12T13:54:38.584Z"
   },
   {
    "duration": 10,
    "start_time": "2023-04-12T13:54:54.180Z"
   },
   {
    "duration": 15,
    "start_time": "2023-04-12T13:55:44.320Z"
   },
   {
    "duration": 17,
    "start_time": "2023-04-12T13:56:07.739Z"
   },
   {
    "duration": 78,
    "start_time": "2023-04-12T13:56:49.937Z"
   },
   {
    "duration": 11,
    "start_time": "2023-04-12T13:56:58.571Z"
   },
   {
    "duration": 64,
    "start_time": "2023-04-12T13:58:08.592Z"
   },
   {
    "duration": 26,
    "start_time": "2023-04-12T13:58:34.133Z"
   },
   {
    "duration": 16,
    "start_time": "2023-04-12T13:58:46.485Z"
   },
   {
    "duration": 15,
    "start_time": "2023-04-12T17:42:23.118Z"
   },
   {
    "duration": 63,
    "start_time": "2023-04-12T17:42:43.270Z"
   },
   {
    "duration": 14,
    "start_time": "2023-04-12T17:43:03.970Z"
   },
   {
    "duration": 14,
    "start_time": "2023-04-12T17:43:12.573Z"
   },
   {
    "duration": 96,
    "start_time": "2023-04-12T17:43:57.121Z"
   },
   {
    "duration": 6,
    "start_time": "2023-04-12T17:45:06.503Z"
   },
   {
    "duration": 73,
    "start_time": "2023-04-12T17:58:34.889Z"
   },
   {
    "duration": 5,
    "start_time": "2023-04-12T17:58:44.496Z"
   },
   {
    "duration": 154,
    "start_time": "2023-04-12T18:00:43.604Z"
   },
   {
    "duration": 5,
    "start_time": "2023-04-12T18:01:21.870Z"
   },
   {
    "duration": 4,
    "start_time": "2023-04-12T18:01:33.026Z"
   },
   {
    "duration": 74,
    "start_time": "2023-04-12T18:01:46.693Z"
   },
   {
    "duration": 5,
    "start_time": "2023-04-12T18:01:54.172Z"
   },
   {
    "duration": 5,
    "start_time": "2023-04-12T18:01:59.595Z"
   },
   {
    "duration": 6,
    "start_time": "2023-04-12T18:02:04.686Z"
   },
   {
    "duration": 9,
    "start_time": "2023-04-12T18:05:29.902Z"
   },
   {
    "duration": 8,
    "start_time": "2023-04-12T18:11:22.904Z"
   },
   {
    "duration": 21,
    "start_time": "2023-04-12T18:11:44.077Z"
   },
   {
    "duration": 11,
    "start_time": "2023-04-12T18:12:31.651Z"
   },
   {
    "duration": 4,
    "start_time": "2023-04-12T18:17:41.490Z"
   },
   {
    "duration": 23,
    "start_time": "2023-04-12T18:24:50.617Z"
   },
   {
    "duration": 5,
    "start_time": "2023-04-12T18:46:46.476Z"
   },
   {
    "duration": 97,
    "start_time": "2023-04-12T18:47:39.360Z"
   },
   {
    "duration": 11,
    "start_time": "2023-04-12T18:47:57.203Z"
   },
   {
    "duration": 4,
    "start_time": "2023-04-12T18:48:05.436Z"
   },
   {
    "duration": 8,
    "start_time": "2023-04-12T18:48:56.475Z"
   },
   {
    "duration": 1328,
    "start_time": "2023-04-12T18:52:54.872Z"
   },
   {
    "duration": 6,
    "start_time": "2023-04-12T18:53:07.348Z"
   },
   {
    "duration": 1684,
    "start_time": "2023-04-12T18:55:22.364Z"
   },
   {
    "duration": 8,
    "start_time": "2023-04-12T18:55:49.974Z"
   },
   {
    "duration": 9,
    "start_time": "2023-04-12T18:56:06.114Z"
   },
   {
    "duration": 8,
    "start_time": "2023-04-12T18:57:57.279Z"
   },
   {
    "duration": 7,
    "start_time": "2023-04-12T18:58:06.113Z"
   },
   {
    "duration": 5,
    "start_time": "2023-04-12T18:58:50.500Z"
   },
   {
    "duration": 6,
    "start_time": "2023-04-12T19:00:11.359Z"
   },
   {
    "duration": 5,
    "start_time": "2023-04-12T19:00:22.415Z"
   },
   {
    "duration": 4,
    "start_time": "2023-04-12T19:00:55.215Z"
   },
   {
    "duration": 6,
    "start_time": "2023-04-12T19:08:34.269Z"
   },
   {
    "duration": 6,
    "start_time": "2023-04-12T19:08:48.208Z"
   },
   {
    "duration": 6,
    "start_time": "2023-04-12T19:08:53.361Z"
   },
   {
    "duration": 7,
    "start_time": "2023-04-12T19:09:39.003Z"
   },
   {
    "duration": 7,
    "start_time": "2023-04-12T19:09:50.661Z"
   },
   {
    "duration": 29,
    "start_time": "2023-04-12T19:12:13.069Z"
   },
   {
    "duration": 8,
    "start_time": "2023-04-12T19:12:31.071Z"
   },
   {
    "duration": 6,
    "start_time": "2023-04-12T19:12:31.557Z"
   },
   {
    "duration": 21,
    "start_time": "2023-04-12T19:12:31.998Z"
   },
   {
    "duration": 20,
    "start_time": "2023-04-12T19:12:50.290Z"
   },
   {
    "duration": 5,
    "start_time": "2023-04-12T19:13:53.525Z"
   },
   {
    "duration": 1792,
    "start_time": "2023-04-12T19:19:43.176Z"
   },
   {
    "duration": 1615,
    "start_time": "2023-04-12T19:21:05.146Z"
   },
   {
    "duration": 7,
    "start_time": "2023-04-12T19:21:42.131Z"
   },
   {
    "duration": 6,
    "start_time": "2023-04-12T19:27:50.331Z"
   },
   {
    "duration": 11,
    "start_time": "2023-04-12T19:28:11.456Z"
   },
   {
    "duration": 3,
    "start_time": "2023-04-12T19:30:22.751Z"
   },
   {
    "duration": 1636,
    "start_time": "2023-04-12T19:30:59.217Z"
   },
   {
    "duration": 5,
    "start_time": "2023-04-12T19:31:27.221Z"
   },
   {
    "duration": 7,
    "start_time": "2023-04-12T19:31:45.356Z"
   },
   {
    "duration": 8,
    "start_time": "2023-04-12T19:31:47.634Z"
   },
   {
    "duration": 10,
    "start_time": "2023-04-12T19:33:58.470Z"
   },
   {
    "duration": 9,
    "start_time": "2023-04-12T19:34:02.957Z"
   },
   {
    "duration": 10,
    "start_time": "2023-04-12T19:34:03.451Z"
   },
   {
    "duration": 9,
    "start_time": "2023-04-12T19:35:04.885Z"
   },
   {
    "duration": 12,
    "start_time": "2023-04-12T19:35:10.140Z"
   },
   {
    "duration": 3,
    "start_time": "2023-04-12T19:35:31.165Z"
   },
   {
    "duration": 55,
    "start_time": "2023-04-12T19:35:31.173Z"
   },
   {
    "duration": 20,
    "start_time": "2023-04-12T19:35:31.231Z"
   },
   {
    "duration": 28,
    "start_time": "2023-04-12T19:35:31.253Z"
   },
   {
    "duration": 27,
    "start_time": "2023-04-12T19:35:31.282Z"
   },
   {
    "duration": 49,
    "start_time": "2023-04-12T19:35:31.311Z"
   },
   {
    "duration": 57,
    "start_time": "2023-04-12T19:35:31.362Z"
   },
   {
    "duration": 11,
    "start_time": "2023-04-12T19:35:31.421Z"
   },
   {
    "duration": 34,
    "start_time": "2023-04-12T19:35:31.435Z"
   },
   {
    "duration": 19,
    "start_time": "2023-04-12T19:35:31.471Z"
   },
   {
    "duration": 37,
    "start_time": "2023-04-12T19:35:31.492Z"
   },
   {
    "duration": 26,
    "start_time": "2023-04-12T19:35:31.531Z"
   },
   {
    "duration": 16,
    "start_time": "2023-04-12T19:35:31.558Z"
   },
   {
    "duration": 19,
    "start_time": "2023-04-12T19:35:31.576Z"
   },
   {
    "duration": 25,
    "start_time": "2023-04-12T19:35:31.598Z"
   },
   {
    "duration": 25,
    "start_time": "2023-04-12T19:35:31.625Z"
   },
   {
    "duration": 24,
    "start_time": "2023-04-12T19:35:31.653Z"
   },
   {
    "duration": 37,
    "start_time": "2023-04-12T19:35:31.678Z"
   },
   {
    "duration": 10,
    "start_time": "2023-04-12T19:35:31.717Z"
   },
   {
    "duration": 43,
    "start_time": "2023-04-12T19:35:31.729Z"
   },
   {
    "duration": 12,
    "start_time": "2023-04-12T19:35:31.774Z"
   },
   {
    "duration": 21,
    "start_time": "2023-04-12T19:35:31.787Z"
   },
   {
    "duration": 46,
    "start_time": "2023-04-12T19:35:31.809Z"
   },
   {
    "duration": 29,
    "start_time": "2023-04-12T19:35:31.857Z"
   },
   {
    "duration": 178,
    "start_time": "2023-04-12T19:35:31.888Z"
   },
   {
    "duration": 144,
    "start_time": "2023-04-12T19:35:32.068Z"
   },
   {
    "duration": 8,
    "start_time": "2023-04-12T19:35:32.214Z"
   },
   {
    "duration": 36,
    "start_time": "2023-04-12T19:35:32.224Z"
   },
   {
    "duration": 235,
    "start_time": "2023-04-12T19:35:32.262Z"
   },
   {
    "duration": 228,
    "start_time": "2023-04-12T19:35:32.499Z"
   },
   {
    "duration": 333,
    "start_time": "2023-04-12T19:35:32.729Z"
   },
   {
    "duration": 325,
    "start_time": "2023-04-12T19:35:33.063Z"
   },
   {
    "duration": 298,
    "start_time": "2023-04-12T19:35:33.390Z"
   },
   {
    "duration": 158,
    "start_time": "2023-04-12T19:35:33.690Z"
   },
   {
    "duration": 6,
    "start_time": "2023-04-12T19:35:33.850Z"
   },
   {
    "duration": 298,
    "start_time": "2023-04-12T19:35:33.858Z"
   },
   {
    "duration": 4,
    "start_time": "2023-04-12T19:35:34.158Z"
   },
   {
    "duration": 24,
    "start_time": "2023-04-12T19:35:34.164Z"
   },
   {
    "duration": 62,
    "start_time": "2023-04-12T19:35:34.190Z"
   },
   {
    "duration": 63,
    "start_time": "2023-04-12T19:35:34.254Z"
   },
   {
    "duration": 95,
    "start_time": "2023-04-12T19:35:34.318Z"
   },
   {
    "duration": 66,
    "start_time": "2023-04-12T19:35:34.418Z"
   },
   {
    "duration": 21,
    "start_time": "2023-04-12T19:35:34.486Z"
   },
   {
    "duration": 82,
    "start_time": "2023-04-12T19:35:34.509Z"
   },
   {
    "duration": 92,
    "start_time": "2023-04-12T19:35:34.594Z"
   },
   {
    "duration": 5,
    "start_time": "2023-04-12T19:35:34.688Z"
   },
   {
    "duration": 6,
    "start_time": "2023-04-12T19:35:34.695Z"
   },
   {
    "duration": 53,
    "start_time": "2023-04-12T19:35:34.703Z"
   },
   {
    "duration": 4,
    "start_time": "2023-04-12T19:35:34.758Z"
   },
   {
    "duration": 12,
    "start_time": "2023-04-12T19:35:34.764Z"
   },
   {
    "duration": 8,
    "start_time": "2023-04-12T19:35:34.778Z"
   },
   {
    "duration": 8,
    "start_time": "2023-04-12T19:35:34.787Z"
   },
   {
    "duration": 6,
    "start_time": "2023-04-12T19:35:34.797Z"
   },
   {
    "duration": 9,
    "start_time": "2023-04-12T19:35:34.840Z"
   },
   {
    "duration": 15,
    "start_time": "2023-04-12T19:35:34.852Z"
   },
   {
    "duration": 9,
    "start_time": "2023-04-12T19:35:34.869Z"
   },
   {
    "duration": 10,
    "start_time": "2023-04-12T19:35:34.880Z"
   },
   {
    "duration": 31,
    "start_time": "2023-04-12T19:35:34.892Z"
   },
   {
    "duration": 4,
    "start_time": "2023-04-12T19:35:34.925Z"
   },
   {
    "duration": 19,
    "start_time": "2023-04-12T19:35:34.930Z"
   },
   {
    "duration": 19,
    "start_time": "2023-04-12T19:35:34.952Z"
   },
   {
    "duration": 93,
    "start_time": "2023-04-12T19:36:33.883Z"
   },
   {
    "duration": 13,
    "start_time": "2023-04-12T19:36:43.862Z"
   },
   {
    "duration": 4,
    "start_time": "2023-04-12T19:39:54.603Z"
   },
   {
    "duration": 11,
    "start_time": "2023-04-12T19:41:44.945Z"
   },
   {
    "duration": 5,
    "start_time": "2023-04-12T19:43:25.819Z"
   },
   {
    "duration": 48,
    "start_time": "2023-04-12T19:43:25.827Z"
   },
   {
    "duration": 17,
    "start_time": "2023-04-12T19:43:25.878Z"
   },
   {
    "duration": 26,
    "start_time": "2023-04-12T19:43:25.897Z"
   },
   {
    "duration": 29,
    "start_time": "2023-04-12T19:43:25.925Z"
   },
   {
    "duration": 28,
    "start_time": "2023-04-12T19:43:25.956Z"
   },
   {
    "duration": 55,
    "start_time": "2023-04-12T19:43:25.987Z"
   },
   {
    "duration": 16,
    "start_time": "2023-04-12T19:43:26.045Z"
   },
   {
    "duration": 39,
    "start_time": "2023-04-12T19:43:26.066Z"
   },
   {
    "duration": 17,
    "start_time": "2023-04-12T19:43:26.107Z"
   },
   {
    "duration": 14,
    "start_time": "2023-04-12T19:43:26.126Z"
   },
   {
    "duration": 15,
    "start_time": "2023-04-12T19:43:26.142Z"
   },
   {
    "duration": 22,
    "start_time": "2023-04-12T19:43:26.159Z"
   },
   {
    "duration": 19,
    "start_time": "2023-04-12T19:43:26.183Z"
   },
   {
    "duration": 8,
    "start_time": "2023-04-12T19:43:26.204Z"
   },
   {
    "duration": 20,
    "start_time": "2023-04-12T19:43:26.214Z"
   },
   {
    "duration": 16,
    "start_time": "2023-04-12T19:43:26.236Z"
   },
   {
    "duration": 27,
    "start_time": "2023-04-12T19:43:26.254Z"
   },
   {
    "duration": 12,
    "start_time": "2023-04-12T19:43:26.284Z"
   },
   {
    "duration": 21,
    "start_time": "2023-04-12T19:43:26.298Z"
   },
   {
    "duration": 21,
    "start_time": "2023-04-12T19:43:26.321Z"
   },
   {
    "duration": 20,
    "start_time": "2023-04-12T19:43:26.344Z"
   },
   {
    "duration": 21,
    "start_time": "2023-04-12T19:43:26.366Z"
   },
   {
    "duration": 30,
    "start_time": "2023-04-12T19:43:26.391Z"
   },
   {
    "duration": 189,
    "start_time": "2023-04-12T19:43:26.423Z"
   },
   {
    "duration": 161,
    "start_time": "2023-04-12T19:43:26.615Z"
   },
   {
    "duration": 9,
    "start_time": "2023-04-12T19:43:26.779Z"
   },
   {
    "duration": 23,
    "start_time": "2023-04-12T19:43:26.791Z"
   },
   {
    "duration": 378,
    "start_time": "2023-04-12T19:43:26.816Z"
   },
   {
    "duration": 234,
    "start_time": "2023-04-12T19:43:27.196Z"
   },
   {
    "duration": 351,
    "start_time": "2023-04-12T19:43:27.432Z"
   },
   {
    "duration": 322,
    "start_time": "2023-04-12T19:43:27.785Z"
   },
   {
    "duration": 352,
    "start_time": "2023-04-12T19:43:28.109Z"
   },
   {
    "duration": 182,
    "start_time": "2023-04-12T19:43:28.463Z"
   },
   {
    "duration": 6,
    "start_time": "2023-04-12T19:43:28.648Z"
   },
   {
    "duration": 341,
    "start_time": "2023-04-12T19:43:28.656Z"
   },
   {
    "duration": 5,
    "start_time": "2023-04-12T19:43:28.999Z"
   },
   {
    "duration": 62,
    "start_time": "2023-04-12T19:43:29.006Z"
   },
   {
    "duration": 58,
    "start_time": "2023-04-12T19:43:29.070Z"
   },
   {
    "duration": 63,
    "start_time": "2023-04-12T19:43:29.130Z"
   },
   {
    "duration": 90,
    "start_time": "2023-04-12T19:43:29.195Z"
   },
   {
    "duration": 77,
    "start_time": "2023-04-12T19:43:29.288Z"
   },
   {
    "duration": 24,
    "start_time": "2023-04-12T19:43:29.368Z"
   },
   {
    "duration": 103,
    "start_time": "2023-04-12T19:43:29.394Z"
   },
   {
    "duration": 125,
    "start_time": "2023-04-12T19:43:29.499Z"
   },
   {
    "duration": 15,
    "start_time": "2023-04-12T19:43:29.626Z"
   },
   {
    "duration": 19,
    "start_time": "2023-04-12T19:43:29.643Z"
   },
   {
    "duration": 33,
    "start_time": "2023-04-12T19:43:29.665Z"
   },
   {
    "duration": 11,
    "start_time": "2023-04-12T19:43:29.700Z"
   },
   {
    "duration": 13,
    "start_time": "2023-04-12T19:43:29.713Z"
   },
   {
    "duration": 10,
    "start_time": "2023-04-12T19:43:29.728Z"
   },
   {
    "duration": 22,
    "start_time": "2023-04-12T19:43:29.739Z"
   },
   {
    "duration": 14,
    "start_time": "2023-04-12T19:43:29.763Z"
   },
   {
    "duration": 14,
    "start_time": "2023-04-12T19:43:29.779Z"
   },
   {
    "duration": 135,
    "start_time": "2023-04-12T19:43:29.795Z"
   },
   {
    "duration": 16,
    "start_time": "2023-04-12T19:43:29.932Z"
   },
   {
    "duration": 23,
    "start_time": "2023-04-12T19:43:29.950Z"
   },
   {
    "duration": 35,
    "start_time": "2023-04-12T19:43:29.975Z"
   },
   {
    "duration": 4,
    "start_time": "2023-04-12T19:43:30.012Z"
   },
   {
    "duration": 17,
    "start_time": "2023-04-12T19:43:30.018Z"
   },
   {
    "duration": 25,
    "start_time": "2023-04-12T19:43:30.037Z"
   },
   {
    "duration": 34,
    "start_time": "2023-04-12T19:43:30.065Z"
   },
   {
    "duration": 2171,
    "start_time": "2023-04-12T19:57:59.773Z"
   },
   {
    "duration": 14,
    "start_time": "2023-04-12T19:58:15.719Z"
   },
   {
    "duration": 9,
    "start_time": "2023-04-12T20:03:36.419Z"
   },
   {
    "duration": 5,
    "start_time": "2023-04-12T20:03:36.872Z"
   },
   {
    "duration": 5,
    "start_time": "2023-04-12T20:03:37.532Z"
   },
   {
    "duration": 7,
    "start_time": "2023-04-12T20:03:39.058Z"
   },
   {
    "duration": 9,
    "start_time": "2023-04-12T20:03:39.821Z"
   },
   {
    "duration": 25,
    "start_time": "2023-04-12T20:03:40.411Z"
   },
   {
    "duration": 5,
    "start_time": "2023-04-12T20:03:41.311Z"
   },
   {
    "duration": 8,
    "start_time": "2023-04-12T20:03:41.865Z"
   },
   {
    "duration": 7,
    "start_time": "2023-04-12T20:03:42.424Z"
   },
   {
    "duration": 5,
    "start_time": "2023-04-12T20:03:43.495Z"
   },
   {
    "duration": 4,
    "start_time": "2023-04-12T20:03:55.232Z"
   },
   {
    "duration": 54,
    "start_time": "2023-04-12T20:03:55.240Z"
   },
   {
    "duration": 15,
    "start_time": "2023-04-12T20:03:55.297Z"
   },
   {
    "duration": 22,
    "start_time": "2023-04-12T20:03:55.314Z"
   },
   {
    "duration": 18,
    "start_time": "2023-04-12T20:03:55.338Z"
   },
   {
    "duration": 22,
    "start_time": "2023-04-12T20:03:55.359Z"
   },
   {
    "duration": 45,
    "start_time": "2023-04-12T20:03:55.383Z"
   },
   {
    "duration": 11,
    "start_time": "2023-04-12T20:03:55.430Z"
   },
   {
    "duration": 32,
    "start_time": "2023-04-12T20:03:55.443Z"
   },
   {
    "duration": 19,
    "start_time": "2023-04-12T20:03:55.478Z"
   },
   {
    "duration": 19,
    "start_time": "2023-04-12T20:03:55.500Z"
   },
   {
    "duration": 6,
    "start_time": "2023-04-12T20:03:55.521Z"
   },
   {
    "duration": 19,
    "start_time": "2023-04-12T20:03:55.528Z"
   },
   {
    "duration": 18,
    "start_time": "2023-04-12T20:03:55.549Z"
   },
   {
    "duration": 16,
    "start_time": "2023-04-12T20:03:55.571Z"
   },
   {
    "duration": 26,
    "start_time": "2023-04-12T20:03:55.589Z"
   },
   {
    "duration": 13,
    "start_time": "2023-04-12T20:03:55.617Z"
   },
   {
    "duration": 35,
    "start_time": "2023-04-12T20:03:55.632Z"
   },
   {
    "duration": 14,
    "start_time": "2023-04-12T20:03:55.668Z"
   },
   {
    "duration": 25,
    "start_time": "2023-04-12T20:03:55.684Z"
   },
   {
    "duration": 27,
    "start_time": "2023-04-12T20:03:55.711Z"
   },
   {
    "duration": 28,
    "start_time": "2023-04-12T20:03:55.739Z"
   },
   {
    "duration": 27,
    "start_time": "2023-04-12T20:03:55.769Z"
   },
   {
    "duration": 26,
    "start_time": "2023-04-12T20:03:55.798Z"
   },
   {
    "duration": 216,
    "start_time": "2023-04-12T20:03:55.826Z"
   },
   {
    "duration": 180,
    "start_time": "2023-04-12T20:03:56.045Z"
   },
   {
    "duration": 18,
    "start_time": "2023-04-12T20:03:56.227Z"
   },
   {
    "duration": 30,
    "start_time": "2023-04-12T20:03:56.247Z"
   },
   {
    "duration": 243,
    "start_time": "2023-04-12T20:03:56.279Z"
   },
   {
    "duration": 241,
    "start_time": "2023-04-12T20:03:56.524Z"
   },
   {
    "duration": 334,
    "start_time": "2023-04-12T20:03:56.767Z"
   },
   {
    "duration": 370,
    "start_time": "2023-04-12T20:03:57.103Z"
   },
   {
    "duration": 293,
    "start_time": "2023-04-12T20:03:57.475Z"
   },
   {
    "duration": 306,
    "start_time": "2023-04-12T20:03:57.771Z"
   },
   {
    "duration": 5,
    "start_time": "2023-04-12T20:03:58.079Z"
   },
   {
    "duration": 322,
    "start_time": "2023-04-12T20:03:58.087Z"
   },
   {
    "duration": 6,
    "start_time": "2023-04-12T20:03:58.411Z"
   },
   {
    "duration": 28,
    "start_time": "2023-04-12T20:03:58.420Z"
   },
   {
    "duration": 55,
    "start_time": "2023-04-12T20:03:58.450Z"
   },
   {
    "duration": 58,
    "start_time": "2023-04-12T20:03:58.507Z"
   },
   {
    "duration": 78,
    "start_time": "2023-04-12T20:03:58.567Z"
   },
   {
    "duration": 64,
    "start_time": "2023-04-12T20:03:58.650Z"
   },
   {
    "duration": 52,
    "start_time": "2023-04-12T20:03:58.716Z"
   },
   {
    "duration": 87,
    "start_time": "2023-04-12T20:03:58.770Z"
   },
   {
    "duration": 102,
    "start_time": "2023-04-12T20:03:58.859Z"
   },
   {
    "duration": 7,
    "start_time": "2023-04-12T20:03:58.963Z"
   },
   {
    "duration": 22,
    "start_time": "2023-04-12T20:03:58.972Z"
   },
   {
    "duration": 46,
    "start_time": "2023-04-12T20:03:58.996Z"
   },
   {
    "duration": 6,
    "start_time": "2023-04-12T20:03:59.045Z"
   },
   {
    "duration": 31,
    "start_time": "2023-04-12T20:03:59.053Z"
   },
   {
    "duration": 26,
    "start_time": "2023-04-12T20:03:59.087Z"
   },
   {
    "duration": 11,
    "start_time": "2023-04-12T20:03:59.116Z"
   },
   {
    "duration": 15,
    "start_time": "2023-04-12T20:03:59.129Z"
   },
   {
    "duration": 30,
    "start_time": "2023-04-12T20:03:59.147Z"
   },
   {
    "duration": 12,
    "start_time": "2023-04-12T20:03:59.178Z"
   },
   {
    "duration": 22,
    "start_time": "2023-04-12T20:03:59.192Z"
   },
   {
    "duration": 15,
    "start_time": "2023-04-12T20:03:59.216Z"
   },
   {
    "duration": 45,
    "start_time": "2023-04-12T20:03:59.233Z"
   },
   {
    "duration": 6,
    "start_time": "2023-04-12T20:03:59.280Z"
   },
   {
    "duration": 37,
    "start_time": "2023-04-12T20:03:59.289Z"
   },
   {
    "duration": 16,
    "start_time": "2023-04-12T20:03:59.329Z"
   },
   {
    "duration": 13,
    "start_time": "2023-04-12T20:03:59.347Z"
   },
   {
    "duration": 18,
    "start_time": "2023-04-12T20:06:11.075Z"
   },
   {
    "duration": 3,
    "start_time": "2023-04-12T20:15:01.892Z"
   },
   {
    "duration": 51,
    "start_time": "2023-04-12T20:15:01.898Z"
   },
   {
    "duration": 57,
    "start_time": "2023-04-12T20:15:01.951Z"
   },
   {
    "duration": 39,
    "start_time": "2023-04-12T20:15:02.010Z"
   },
   {
    "duration": 102,
    "start_time": "2023-04-12T20:15:02.052Z"
   },
   {
    "duration": 116,
    "start_time": "2023-04-12T20:15:02.157Z"
   },
   {
    "duration": 304,
    "start_time": "2023-04-12T20:15:02.275Z"
   },
   {
    "duration": 35,
    "start_time": "2023-04-12T20:15:02.581Z"
   },
   {
    "duration": 60,
    "start_time": "2023-04-12T20:15:02.620Z"
   },
   {
    "duration": 70,
    "start_time": "2023-04-12T20:15:02.681Z"
   },
   {
    "duration": 54,
    "start_time": "2023-04-12T20:15:02.754Z"
   },
   {
    "duration": 44,
    "start_time": "2023-04-12T20:15:02.810Z"
   },
   {
    "duration": 162,
    "start_time": "2023-04-12T20:15:02.856Z"
   },
   {
    "duration": 161,
    "start_time": "2023-04-12T20:15:03.020Z"
   },
   {
    "duration": 21,
    "start_time": "2023-04-12T20:15:03.183Z"
   },
   {
    "duration": 47,
    "start_time": "2023-04-12T20:15:03.206Z"
   },
   {
    "duration": 33,
    "start_time": "2023-04-12T20:15:03.262Z"
   },
   {
    "duration": 59,
    "start_time": "2023-04-12T20:15:03.297Z"
   },
   {
    "duration": 14,
    "start_time": "2023-04-12T20:15:03.359Z"
   },
   {
    "duration": 14,
    "start_time": "2023-04-12T20:15:03.375Z"
   },
   {
    "duration": 16,
    "start_time": "2023-04-12T20:15:03.391Z"
   },
   {
    "duration": 10,
    "start_time": "2023-04-12T20:15:03.409Z"
   },
   {
    "duration": 13,
    "start_time": "2023-04-12T20:15:03.420Z"
   },
   {
    "duration": 22,
    "start_time": "2023-04-12T20:15:03.439Z"
   },
   {
    "duration": 185,
    "start_time": "2023-04-12T20:15:03.464Z"
   },
   {
    "duration": 150,
    "start_time": "2023-04-12T20:15:03.652Z"
   },
   {
    "duration": 7,
    "start_time": "2023-04-12T20:15:03.804Z"
   },
   {
    "duration": 26,
    "start_time": "2023-04-12T20:15:03.813Z"
   },
   {
    "duration": 224,
    "start_time": "2023-04-12T20:15:03.841Z"
   },
   {
    "duration": 244,
    "start_time": "2023-04-12T20:15:04.067Z"
   },
   {
    "duration": 381,
    "start_time": "2023-04-12T20:15:04.313Z"
   },
   {
    "duration": 381,
    "start_time": "2023-04-12T20:15:04.697Z"
   },
   {
    "duration": 312,
    "start_time": "2023-04-12T20:15:05.081Z"
   },
   {
    "duration": 216,
    "start_time": "2023-04-12T20:15:05.395Z"
   },
   {
    "duration": 7,
    "start_time": "2023-04-12T20:15:05.613Z"
   },
   {
    "duration": 425,
    "start_time": "2023-04-12T20:15:05.622Z"
   },
   {
    "duration": 6,
    "start_time": "2023-04-12T20:15:06.049Z"
   },
   {
    "duration": 20,
    "start_time": "2023-04-12T20:15:06.057Z"
   },
   {
    "duration": 122,
    "start_time": "2023-04-12T20:15:06.080Z"
   },
   {
    "duration": 169,
    "start_time": "2023-04-12T20:15:06.205Z"
   },
   {
    "duration": 107,
    "start_time": "2023-04-12T20:15:06.378Z"
   },
   {
    "duration": 103,
    "start_time": "2023-04-12T20:15:06.488Z"
   },
   {
    "duration": 52,
    "start_time": "2023-04-12T20:15:06.594Z"
   },
   {
    "duration": 155,
    "start_time": "2023-04-12T20:15:06.648Z"
   },
   {
    "duration": 149,
    "start_time": "2023-04-12T20:15:06.805Z"
   },
   {
    "duration": 7,
    "start_time": "2023-04-12T20:15:06.956Z"
   },
   {
    "duration": 52,
    "start_time": "2023-04-12T20:15:06.965Z"
   },
   {
    "duration": 58,
    "start_time": "2023-04-12T20:15:07.019Z"
   },
   {
    "duration": 6,
    "start_time": "2023-04-12T20:15:07.080Z"
   },
   {
    "duration": 32,
    "start_time": "2023-04-12T20:15:07.088Z"
   },
   {
    "duration": 42,
    "start_time": "2023-04-12T20:15:07.123Z"
   },
   {
    "duration": 32,
    "start_time": "2023-04-12T20:15:07.168Z"
   },
   {
    "duration": 45,
    "start_time": "2023-04-12T20:15:07.203Z"
   },
   {
    "duration": 50,
    "start_time": "2023-04-12T20:15:07.250Z"
   },
   {
    "duration": 13,
    "start_time": "2023-04-12T20:15:07.302Z"
   },
   {
    "duration": 28,
    "start_time": "2023-04-12T20:15:07.317Z"
   },
   {
    "duration": 52,
    "start_time": "2023-04-12T20:15:07.347Z"
   },
   {
    "duration": 38,
    "start_time": "2023-04-12T20:15:07.401Z"
   },
   {
    "duration": 17,
    "start_time": "2023-04-12T20:15:07.441Z"
   },
   {
    "duration": 25,
    "start_time": "2023-04-12T20:15:07.460Z"
   },
   {
    "duration": 37,
    "start_time": "2023-04-12T20:15:07.488Z"
   },
   {
    "duration": 23,
    "start_time": "2023-04-12T20:15:07.528Z"
   },
   {
    "duration": 5,
    "start_time": "2023-04-12T20:16:28.395Z"
   },
   {
    "duration": 28,
    "start_time": "2023-04-12T20:18:50.307Z"
   },
   {
    "duration": 19,
    "start_time": "2023-04-12T20:21:46.134Z"
   },
   {
    "duration": 49,
    "start_time": "2023-04-13T13:39:02.950Z"
   },
   {
    "duration": 1346,
    "start_time": "2023-04-13T13:39:11.168Z"
   },
   {
    "duration": 146,
    "start_time": "2023-04-13T13:39:12.517Z"
   },
   {
    "duration": 13,
    "start_time": "2023-04-13T13:39:12.664Z"
   },
   {
    "duration": 7,
    "start_time": "2023-04-13T13:39:12.680Z"
   },
   {
    "duration": 19,
    "start_time": "2023-04-13T13:39:12.689Z"
   },
   {
    "duration": 9,
    "start_time": "2023-04-13T13:39:12.710Z"
   },
   {
    "duration": 100,
    "start_time": "2023-04-13T13:39:12.721Z"
   },
   {
    "duration": 12,
    "start_time": "2023-04-13T13:39:12.823Z"
   },
   {
    "duration": 13,
    "start_time": "2023-04-13T13:39:12.837Z"
   },
   {
    "duration": 9,
    "start_time": "2023-04-13T13:39:12.854Z"
   },
   {
    "duration": 10,
    "start_time": "2023-04-13T13:39:12.864Z"
   },
   {
    "duration": 23,
    "start_time": "2023-04-13T13:39:12.876Z"
   },
   {
    "duration": 8,
    "start_time": "2023-04-13T13:39:12.902Z"
   },
   {
    "duration": 16,
    "start_time": "2023-04-13T13:39:12.911Z"
   },
   {
    "duration": 5,
    "start_time": "2023-04-13T13:39:12.929Z"
   },
   {
    "duration": 23,
    "start_time": "2023-04-13T13:39:12.936Z"
   },
   {
    "duration": 23,
    "start_time": "2023-04-13T13:39:12.961Z"
   },
   {
    "duration": 80,
    "start_time": "2023-04-13T13:39:12.986Z"
   },
   {
    "duration": 13,
    "start_time": "2023-04-13T13:39:13.067Z"
   },
   {
    "duration": 17,
    "start_time": "2023-04-13T13:39:13.082Z"
   },
   {
    "duration": 9,
    "start_time": "2023-04-13T13:39:13.102Z"
   },
   {
    "duration": 9,
    "start_time": "2023-04-13T13:39:13.113Z"
   },
   {
    "duration": 4,
    "start_time": "2023-04-13T13:39:13.124Z"
   },
   {
    "duration": 9,
    "start_time": "2023-04-13T13:39:13.130Z"
   },
   {
    "duration": 181,
    "start_time": "2023-04-13T13:39:13.140Z"
   },
   {
    "duration": 120,
    "start_time": "2023-04-13T13:39:13.323Z"
   },
   {
    "duration": 7,
    "start_time": "2023-04-13T13:39:13.444Z"
   },
   {
    "duration": 14,
    "start_time": "2023-04-13T13:39:13.455Z"
   },
   {
    "duration": 290,
    "start_time": "2023-04-13T13:39:13.470Z"
   },
   {
    "duration": 206,
    "start_time": "2023-04-13T13:39:13.762Z"
   },
   {
    "duration": 364,
    "start_time": "2023-04-13T13:39:13.970Z"
   },
   {
    "duration": 333,
    "start_time": "2023-04-13T13:39:14.336Z"
   },
   {
    "duration": 301,
    "start_time": "2023-04-13T13:39:14.671Z"
   },
   {
    "duration": 150,
    "start_time": "2023-04-13T13:39:14.974Z"
   },
   {
    "duration": 5,
    "start_time": "2023-04-13T13:39:15.126Z"
   },
   {
    "duration": 294,
    "start_time": "2023-04-13T13:39:15.133Z"
   },
   {
    "duration": 4,
    "start_time": "2023-04-13T13:39:15.428Z"
   },
   {
    "duration": 27,
    "start_time": "2023-04-13T13:39:15.434Z"
   },
   {
    "duration": 54,
    "start_time": "2023-04-13T13:39:15.463Z"
   },
   {
    "duration": 52,
    "start_time": "2023-04-13T13:39:15.520Z"
   },
   {
    "duration": 79,
    "start_time": "2023-04-13T13:39:15.574Z"
   },
   {
    "duration": 81,
    "start_time": "2023-04-13T13:39:15.655Z"
   },
   {
    "duration": 22,
    "start_time": "2023-04-13T13:39:15.738Z"
   },
   {
    "duration": 84,
    "start_time": "2023-04-13T13:39:15.762Z"
   },
   {
    "duration": 84,
    "start_time": "2023-04-13T13:39:15.848Z"
   },
   {
    "duration": 6,
    "start_time": "2023-04-13T13:39:15.934Z"
   },
   {
    "duration": 18,
    "start_time": "2023-04-13T13:39:15.942Z"
   },
   {
    "duration": 51,
    "start_time": "2023-04-13T13:39:15.962Z"
   },
   {
    "duration": 11,
    "start_time": "2023-04-13T13:39:16.015Z"
   },
   {
    "duration": 19,
    "start_time": "2023-04-13T13:39:16.028Z"
   },
   {
    "duration": 35,
    "start_time": "2023-04-13T13:39:16.049Z"
   },
   {
    "duration": 23,
    "start_time": "2023-04-13T13:39:16.086Z"
   },
   {
    "duration": 17,
    "start_time": "2023-04-13T13:39:16.111Z"
   },
   {
    "duration": 12,
    "start_time": "2023-04-13T13:39:16.129Z"
   },
   {
    "duration": 14,
    "start_time": "2023-04-13T13:39:16.142Z"
   },
   {
    "duration": 18,
    "start_time": "2023-04-13T13:39:16.158Z"
   },
   {
    "duration": 24,
    "start_time": "2023-04-13T13:39:16.177Z"
   },
   {
    "duration": 27,
    "start_time": "2023-04-13T13:39:16.203Z"
   },
   {
    "duration": 3,
    "start_time": "2023-04-13T13:39:16.232Z"
   },
   {
    "duration": 21,
    "start_time": "2023-04-13T13:39:16.237Z"
   },
   {
    "duration": 21,
    "start_time": "2023-04-13T13:39:16.260Z"
   },
   {
    "duration": 11,
    "start_time": "2023-04-13T13:39:16.283Z"
   },
   {
    "duration": 23,
    "start_time": "2023-04-13T13:39:16.296Z"
   },
   {
    "duration": 7105,
    "start_time": "2023-04-13T13:40:15.942Z"
   },
   {
    "duration": 3,
    "start_time": "2023-04-13T13:40:58.481Z"
   },
   {
    "duration": 50,
    "start_time": "2023-04-13T13:40:58.486Z"
   },
   {
    "duration": 13,
    "start_time": "2023-04-13T13:40:58.538Z"
   },
   {
    "duration": 20,
    "start_time": "2023-04-13T13:40:58.553Z"
   },
   {
    "duration": 21,
    "start_time": "2023-04-13T13:40:58.575Z"
   },
   {
    "duration": 25,
    "start_time": "2023-04-13T13:40:58.598Z"
   },
   {
    "duration": 41,
    "start_time": "2023-04-13T13:40:58.625Z"
   },
   {
    "duration": 12,
    "start_time": "2023-04-13T13:40:58.667Z"
   },
   {
    "duration": 23,
    "start_time": "2023-04-13T13:40:58.681Z"
   },
   {
    "duration": 17,
    "start_time": "2023-04-13T13:40:58.707Z"
   },
   {
    "duration": 13,
    "start_time": "2023-04-13T13:40:58.726Z"
   },
   {
    "duration": 14,
    "start_time": "2023-04-13T13:40:58.741Z"
   },
   {
    "duration": 16,
    "start_time": "2023-04-13T13:40:58.757Z"
   },
   {
    "duration": 48,
    "start_time": "2023-04-13T13:40:58.776Z"
   },
   {
    "duration": 11,
    "start_time": "2023-04-13T13:40:58.826Z"
   },
   {
    "duration": 23,
    "start_time": "2023-04-13T13:40:58.839Z"
   },
   {
    "duration": 6,
    "start_time": "2023-04-13T13:40:58.864Z"
   },
   {
    "duration": 33,
    "start_time": "2023-04-13T13:40:58.872Z"
   },
   {
    "duration": 12,
    "start_time": "2023-04-13T13:40:58.906Z"
   },
   {
    "duration": 20,
    "start_time": "2023-04-13T13:40:58.920Z"
   },
   {
    "duration": 9,
    "start_time": "2023-04-13T13:40:58.941Z"
   },
   {
    "duration": 20,
    "start_time": "2023-04-13T13:40:58.952Z"
   },
   {
    "duration": 31,
    "start_time": "2023-04-13T13:40:58.973Z"
   },
   {
    "duration": 11,
    "start_time": "2023-04-13T13:40:59.006Z"
   },
   {
    "duration": 163,
    "start_time": "2023-04-13T13:40:59.019Z"
   },
   {
    "duration": 137,
    "start_time": "2023-04-13T13:40:59.184Z"
   },
   {
    "duration": 7,
    "start_time": "2023-04-13T13:40:59.323Z"
   },
   {
    "duration": 13,
    "start_time": "2023-04-13T13:40:59.334Z"
   },
   {
    "duration": 239,
    "start_time": "2023-04-13T13:40:59.348Z"
   },
   {
    "duration": 293,
    "start_time": "2023-04-13T13:40:59.589Z"
   },
   {
    "duration": 313,
    "start_time": "2023-04-13T13:40:59.887Z"
   },
   {
    "duration": 311,
    "start_time": "2023-04-13T13:41:00.202Z"
   },
   {
    "duration": 300,
    "start_time": "2023-04-13T13:41:00.515Z"
   },
   {
    "duration": 148,
    "start_time": "2023-04-13T13:41:00.816Z"
   },
   {
    "duration": 4,
    "start_time": "2023-04-13T13:41:00.966Z"
   },
   {
    "duration": 356,
    "start_time": "2023-04-13T13:41:00.972Z"
   },
   {
    "duration": 5,
    "start_time": "2023-04-13T13:41:01.330Z"
   },
   {
    "duration": 64,
    "start_time": "2023-04-13T13:41:01.337Z"
   },
   {
    "duration": 94,
    "start_time": "2023-04-13T13:41:01.404Z"
   },
   {
    "duration": 163,
    "start_time": "2023-04-13T13:41:01.502Z"
   },
   {
    "duration": 123,
    "start_time": "2023-04-13T13:41:01.667Z"
   },
   {
    "duration": 99,
    "start_time": "2023-04-13T13:41:01.792Z"
   },
   {
    "duration": 29,
    "start_time": "2023-04-13T13:41:01.893Z"
   },
   {
    "duration": 190,
    "start_time": "2023-04-13T13:41:01.924Z"
   },
   {
    "duration": 95,
    "start_time": "2023-04-13T13:41:02.116Z"
   },
   {
    "duration": 17,
    "start_time": "2023-04-13T13:41:02.213Z"
   },
   {
    "duration": 52,
    "start_time": "2023-04-13T13:41:02.232Z"
   },
   {
    "duration": 75,
    "start_time": "2023-04-13T13:41:02.285Z"
   },
   {
    "duration": 22,
    "start_time": "2023-04-13T13:41:02.362Z"
   },
   {
    "duration": 26,
    "start_time": "2023-04-13T13:41:02.386Z"
   },
   {
    "duration": 24,
    "start_time": "2023-04-13T13:41:02.414Z"
   },
   {
    "duration": 33,
    "start_time": "2023-04-13T13:41:02.440Z"
   },
   {
    "duration": 8,
    "start_time": "2023-04-13T13:41:02.475Z"
   },
   {
    "duration": 10,
    "start_time": "2023-04-13T13:41:02.485Z"
   },
   {
    "duration": 22,
    "start_time": "2023-04-13T13:41:02.497Z"
   },
   {
    "duration": 13,
    "start_time": "2023-04-13T13:41:02.521Z"
   },
   {
    "duration": 21,
    "start_time": "2023-04-13T13:41:02.535Z"
   },
   {
    "duration": 38,
    "start_time": "2023-04-13T13:41:02.558Z"
   },
   {
    "duration": 5,
    "start_time": "2023-04-13T13:41:02.597Z"
   },
   {
    "duration": 9,
    "start_time": "2023-04-13T13:41:02.603Z"
   },
   {
    "duration": 9,
    "start_time": "2023-04-13T13:41:02.614Z"
   },
   {
    "duration": 4,
    "start_time": "2023-04-13T13:41:02.625Z"
   },
   {
    "duration": 9,
    "start_time": "2023-04-13T13:41:02.631Z"
   },
   {
    "duration": 18,
    "start_time": "2023-04-13T13:54:45.054Z"
   },
   {
    "duration": 3,
    "start_time": "2023-04-13T13:54:57.890Z"
   },
   {
    "duration": 50,
    "start_time": "2023-04-13T13:54:57.895Z"
   },
   {
    "duration": 12,
    "start_time": "2023-04-13T13:54:57.947Z"
   },
   {
    "duration": 31,
    "start_time": "2023-04-13T13:54:57.961Z"
   },
   {
    "duration": 23,
    "start_time": "2023-04-13T13:54:57.994Z"
   },
   {
    "duration": 39,
    "start_time": "2023-04-13T13:54:58.019Z"
   },
   {
    "duration": 46,
    "start_time": "2023-04-13T13:54:58.060Z"
   },
   {
    "duration": 13,
    "start_time": "2023-04-13T13:54:58.108Z"
   },
   {
    "duration": 19,
    "start_time": "2023-04-13T13:54:58.123Z"
   },
   {
    "duration": 9,
    "start_time": "2023-04-13T13:54:58.143Z"
   },
   {
    "duration": 20,
    "start_time": "2023-04-13T13:54:58.154Z"
   },
   {
    "duration": 20,
    "start_time": "2023-04-13T13:54:58.176Z"
   },
   {
    "duration": 7,
    "start_time": "2023-04-13T13:54:58.199Z"
   },
   {
    "duration": 11,
    "start_time": "2023-04-13T13:54:58.207Z"
   },
   {
    "duration": 15,
    "start_time": "2023-04-13T13:54:58.219Z"
   },
   {
    "duration": 18,
    "start_time": "2023-04-13T13:54:58.236Z"
   },
   {
    "duration": 24,
    "start_time": "2023-04-13T13:54:58.256Z"
   },
   {
    "duration": 24,
    "start_time": "2023-04-13T13:54:58.282Z"
   },
   {
    "duration": 11,
    "start_time": "2023-04-13T13:54:58.308Z"
   },
   {
    "duration": 15,
    "start_time": "2023-04-13T13:54:58.321Z"
   },
   {
    "duration": 23,
    "start_time": "2023-04-13T13:54:58.338Z"
   },
   {
    "duration": 21,
    "start_time": "2023-04-13T13:54:58.363Z"
   },
   {
    "duration": 27,
    "start_time": "2023-04-13T13:54:58.386Z"
   },
   {
    "duration": 13,
    "start_time": "2023-04-13T13:54:58.415Z"
   },
   {
    "duration": 174,
    "start_time": "2023-04-13T13:54:58.429Z"
   },
   {
    "duration": 125,
    "start_time": "2023-04-13T13:54:58.605Z"
   },
   {
    "duration": 9,
    "start_time": "2023-04-13T13:54:58.732Z"
   },
   {
    "duration": 10,
    "start_time": "2023-04-13T13:54:58.743Z"
   },
   {
    "duration": 223,
    "start_time": "2023-04-13T13:54:58.754Z"
   },
   {
    "duration": 214,
    "start_time": "2023-04-13T13:54:58.978Z"
   },
   {
    "duration": 303,
    "start_time": "2023-04-13T13:54:59.194Z"
   },
   {
    "duration": 343,
    "start_time": "2023-04-13T13:54:59.499Z"
   },
   {
    "duration": 423,
    "start_time": "2023-04-13T13:54:59.844Z"
   },
   {
    "duration": 162,
    "start_time": "2023-04-13T13:55:00.268Z"
   },
   {
    "duration": 4,
    "start_time": "2023-04-13T13:55:00.432Z"
   },
   {
    "duration": 525,
    "start_time": "2023-04-13T13:55:00.438Z"
   },
   {
    "duration": 18,
    "start_time": "2023-04-13T13:55:00.970Z"
   },
   {
    "duration": 21,
    "start_time": "2023-04-13T13:55:00.990Z"
   },
   {
    "duration": 132,
    "start_time": "2023-04-13T13:55:01.013Z"
   },
   {
    "duration": 144,
    "start_time": "2023-04-13T13:55:01.147Z"
   },
   {
    "duration": 124,
    "start_time": "2023-04-13T13:55:01.293Z"
   },
   {
    "duration": 89,
    "start_time": "2023-04-13T13:55:01.419Z"
   },
   {
    "duration": 39,
    "start_time": "2023-04-13T13:55:01.510Z"
   },
   {
    "duration": 242,
    "start_time": "2023-04-13T13:55:01.551Z"
   },
   {
    "duration": 114,
    "start_time": "2023-04-13T13:55:01.795Z"
   },
   {
    "duration": 5,
    "start_time": "2023-04-13T13:55:01.911Z"
   },
   {
    "duration": 55,
    "start_time": "2023-04-13T13:55:01.918Z"
   },
   {
    "duration": 95,
    "start_time": "2023-04-13T13:55:01.975Z"
   },
   {
    "duration": 31,
    "start_time": "2023-04-13T13:55:02.072Z"
   },
   {
    "duration": 50,
    "start_time": "2023-04-13T13:55:02.105Z"
   },
   {
    "duration": 68,
    "start_time": "2023-04-13T13:55:02.158Z"
   },
   {
    "duration": 40,
    "start_time": "2023-04-13T13:55:02.228Z"
   },
   {
    "duration": 16,
    "start_time": "2023-04-13T13:55:02.270Z"
   },
   {
    "duration": 39,
    "start_time": "2023-04-13T13:55:02.287Z"
   },
   {
    "duration": 33,
    "start_time": "2023-04-13T13:55:02.327Z"
   },
   {
    "duration": 36,
    "start_time": "2023-04-13T13:55:02.362Z"
   },
   {
    "duration": 42,
    "start_time": "2023-04-13T13:55:02.400Z"
   },
   {
    "duration": 38,
    "start_time": "2023-04-13T13:55:02.443Z"
   },
   {
    "duration": 8,
    "start_time": "2023-04-13T13:55:02.483Z"
   },
   {
    "duration": 35,
    "start_time": "2023-04-13T13:55:02.494Z"
   },
   {
    "duration": 40,
    "start_time": "2023-04-13T13:55:02.531Z"
   },
   {
    "duration": 30,
    "start_time": "2023-04-13T13:55:02.574Z"
   },
   {
    "duration": 26,
    "start_time": "2023-04-13T13:55:02.606Z"
   },
   {
    "duration": 8,
    "start_time": "2023-04-13T13:55:12.853Z"
   },
   {
    "duration": 4,
    "start_time": "2023-04-13T13:55:31.852Z"
   },
   {
    "duration": 61,
    "start_time": "2023-04-13T13:55:31.858Z"
   },
   {
    "duration": 13,
    "start_time": "2023-04-13T13:55:31.921Z"
   },
   {
    "duration": 16,
    "start_time": "2023-04-13T13:55:31.936Z"
   },
   {
    "duration": 28,
    "start_time": "2023-04-13T13:55:31.953Z"
   },
   {
    "duration": 24,
    "start_time": "2023-04-13T13:55:31.983Z"
   },
   {
    "duration": 23,
    "start_time": "2023-04-13T13:55:32.009Z"
   },
   {
    "duration": 53,
    "start_time": "2023-04-13T13:55:32.034Z"
   },
   {
    "duration": 12,
    "start_time": "2023-04-13T13:55:32.090Z"
   },
   {
    "duration": 14,
    "start_time": "2023-04-13T13:55:32.104Z"
   },
   {
    "duration": 12,
    "start_time": "2023-04-13T13:55:32.120Z"
   },
   {
    "duration": 15,
    "start_time": "2023-04-13T13:55:32.134Z"
   },
   {
    "duration": 7,
    "start_time": "2023-04-13T13:55:32.151Z"
   },
   {
    "duration": 31,
    "start_time": "2023-04-13T13:55:32.160Z"
   },
   {
    "duration": 7,
    "start_time": "2023-04-13T13:55:32.193Z"
   },
   {
    "duration": 9,
    "start_time": "2023-04-13T13:55:32.202Z"
   },
   {
    "duration": 18,
    "start_time": "2023-04-13T13:55:32.213Z"
   },
   {
    "duration": 18,
    "start_time": "2023-04-13T13:55:32.232Z"
   },
   {
    "duration": 31,
    "start_time": "2023-04-13T13:55:32.252Z"
   },
   {
    "duration": 10,
    "start_time": "2023-04-13T13:55:32.284Z"
   },
   {
    "duration": 23,
    "start_time": "2023-04-13T13:55:32.295Z"
   },
   {
    "duration": 16,
    "start_time": "2023-04-13T13:55:32.320Z"
   },
   {
    "duration": 15,
    "start_time": "2023-04-13T13:55:32.339Z"
   },
   {
    "duration": 11,
    "start_time": "2023-04-13T13:55:32.357Z"
   },
   {
    "duration": 10,
    "start_time": "2023-04-13T13:55:32.369Z"
   },
   {
    "duration": 188,
    "start_time": "2023-04-13T13:55:32.381Z"
   },
   {
    "duration": 137,
    "start_time": "2023-04-13T13:55:32.571Z"
   },
   {
    "duration": 7,
    "start_time": "2023-04-13T13:55:32.710Z"
   },
   {
    "duration": 14,
    "start_time": "2023-04-13T13:55:32.719Z"
   },
   {
    "duration": 226,
    "start_time": "2023-04-13T13:55:32.734Z"
   },
   {
    "duration": 203,
    "start_time": "2023-04-13T13:55:32.962Z"
   },
   {
    "duration": 322,
    "start_time": "2023-04-13T13:55:33.167Z"
   },
   {
    "duration": 314,
    "start_time": "2023-04-13T13:55:33.491Z"
   },
   {
    "duration": 272,
    "start_time": "2023-04-13T13:55:33.806Z"
   },
   {
    "duration": 142,
    "start_time": "2023-04-13T13:55:34.079Z"
   },
   {
    "duration": 4,
    "start_time": "2023-04-13T13:55:34.223Z"
   },
   {
    "duration": 281,
    "start_time": "2023-04-13T13:55:34.228Z"
   },
   {
    "duration": 4,
    "start_time": "2023-04-13T13:55:34.511Z"
   },
   {
    "duration": 9,
    "start_time": "2023-04-13T13:55:34.516Z"
   },
   {
    "duration": 151,
    "start_time": "2023-04-13T13:55:34.527Z"
   },
   {
    "duration": 51,
    "start_time": "2023-04-13T13:55:34.680Z"
   },
   {
    "duration": 73,
    "start_time": "2023-04-13T13:55:34.733Z"
   },
   {
    "duration": 69,
    "start_time": "2023-04-13T13:55:34.808Z"
   },
   {
    "duration": 21,
    "start_time": "2023-04-13T13:55:34.888Z"
   },
   {
    "duration": 84,
    "start_time": "2023-04-13T13:55:34.911Z"
   },
   {
    "duration": 111,
    "start_time": "2023-04-13T13:55:34.997Z"
   },
   {
    "duration": 5,
    "start_time": "2023-04-13T13:55:35.110Z"
   },
   {
    "duration": 7,
    "start_time": "2023-04-13T13:55:35.116Z"
   },
   {
    "duration": 37,
    "start_time": "2023-04-13T13:55:35.124Z"
   },
   {
    "duration": 4,
    "start_time": "2023-04-13T13:55:35.163Z"
   },
   {
    "duration": 25,
    "start_time": "2023-04-13T13:55:35.169Z"
   },
   {
    "duration": 10,
    "start_time": "2023-04-13T13:55:35.196Z"
   },
   {
    "duration": 8,
    "start_time": "2023-04-13T13:55:35.208Z"
   },
   {
    "duration": 10,
    "start_time": "2023-04-13T13:55:35.217Z"
   },
   {
    "duration": 11,
    "start_time": "2023-04-13T13:55:35.229Z"
   },
   {
    "duration": 7,
    "start_time": "2023-04-13T13:55:35.242Z"
   },
   {
    "duration": 38,
    "start_time": "2023-04-13T13:55:35.251Z"
   },
   {
    "duration": 11,
    "start_time": "2023-04-13T13:55:35.291Z"
   },
   {
    "duration": 26,
    "start_time": "2023-04-13T13:55:35.303Z"
   },
   {
    "duration": 5,
    "start_time": "2023-04-13T13:55:35.330Z"
   },
   {
    "duration": 10,
    "start_time": "2023-04-13T13:55:35.336Z"
   },
   {
    "duration": 15,
    "start_time": "2023-04-13T13:55:35.347Z"
   },
   {
    "duration": 28,
    "start_time": "2023-04-13T13:55:35.363Z"
   },
   {
    "duration": 14,
    "start_time": "2023-04-13T13:55:35.392Z"
   },
   {
    "duration": 9,
    "start_time": "2023-04-13T13:56:42.285Z"
   },
   {
    "duration": 3,
    "start_time": "2023-04-13T13:56:46.595Z"
   },
   {
    "duration": 51,
    "start_time": "2023-04-13T13:56:46.600Z"
   },
   {
    "duration": 13,
    "start_time": "2023-04-13T13:56:46.653Z"
   },
   {
    "duration": 28,
    "start_time": "2023-04-13T13:56:46.668Z"
   },
   {
    "duration": 43,
    "start_time": "2023-04-13T13:56:46.697Z"
   },
   {
    "duration": 53,
    "start_time": "2023-04-13T13:56:46.741Z"
   },
   {
    "duration": 38,
    "start_time": "2023-04-13T13:56:46.796Z"
   },
   {
    "duration": 62,
    "start_time": "2023-04-13T13:56:46.835Z"
   },
   {
    "duration": 11,
    "start_time": "2023-04-13T13:56:46.899Z"
   },
   {
    "duration": 23,
    "start_time": "2023-04-13T13:56:46.912Z"
   },
   {
    "duration": 44,
    "start_time": "2023-04-13T13:56:46.936Z"
   },
   {
    "duration": 23,
    "start_time": "2023-04-13T13:56:46.982Z"
   },
   {
    "duration": 17,
    "start_time": "2023-04-13T13:56:47.006Z"
   },
   {
    "duration": 19,
    "start_time": "2023-04-13T13:56:47.025Z"
   },
   {
    "duration": 17,
    "start_time": "2023-04-13T13:56:47.046Z"
   },
   {
    "duration": 28,
    "start_time": "2023-04-13T13:56:47.065Z"
   },
   {
    "duration": 22,
    "start_time": "2023-04-13T13:56:47.094Z"
   },
   {
    "duration": 20,
    "start_time": "2023-04-13T13:56:47.117Z"
   },
   {
    "duration": 26,
    "start_time": "2023-04-13T13:56:47.138Z"
   },
   {
    "duration": 10,
    "start_time": "2023-04-13T13:56:47.165Z"
   },
   {
    "duration": 10,
    "start_time": "2023-04-13T13:56:47.177Z"
   },
   {
    "duration": 12,
    "start_time": "2023-04-13T13:56:47.189Z"
   },
   {
    "duration": 19,
    "start_time": "2023-04-13T13:56:47.203Z"
   },
   {
    "duration": 11,
    "start_time": "2023-04-13T13:56:47.226Z"
   },
   {
    "duration": 20,
    "start_time": "2023-04-13T13:56:47.239Z"
   },
   {
    "duration": 156,
    "start_time": "2023-04-13T13:56:47.261Z"
   },
   {
    "duration": 123,
    "start_time": "2023-04-13T13:56:47.419Z"
   },
   {
    "duration": 6,
    "start_time": "2023-04-13T13:56:47.544Z"
   },
   {
    "duration": 26,
    "start_time": "2023-04-13T13:56:47.551Z"
   },
   {
    "duration": 201,
    "start_time": "2023-04-13T13:56:47.579Z"
   },
   {
    "duration": 188,
    "start_time": "2023-04-13T13:56:47.787Z"
   },
   {
    "duration": 320,
    "start_time": "2023-04-13T13:56:47.976Z"
   },
   {
    "duration": 320,
    "start_time": "2023-04-13T13:56:48.298Z"
   },
   {
    "duration": 286,
    "start_time": "2023-04-13T13:56:48.620Z"
   },
   {
    "duration": 158,
    "start_time": "2023-04-13T13:56:48.909Z"
   },
   {
    "duration": 5,
    "start_time": "2023-04-13T13:56:49.068Z"
   },
   {
    "duration": 290,
    "start_time": "2023-04-13T13:56:49.075Z"
   },
   {
    "duration": 5,
    "start_time": "2023-04-13T13:56:49.367Z"
   },
   {
    "duration": 13,
    "start_time": "2023-04-13T13:56:49.374Z"
   },
   {
    "duration": 49,
    "start_time": "2023-04-13T13:56:49.389Z"
   },
   {
    "duration": 64,
    "start_time": "2023-04-13T13:56:49.440Z"
   },
   {
    "duration": 58,
    "start_time": "2023-04-13T13:56:49.506Z"
   },
   {
    "duration": 81,
    "start_time": "2023-04-13T13:56:49.566Z"
   },
   {
    "duration": 22,
    "start_time": "2023-04-13T13:56:49.648Z"
   },
   {
    "duration": 64,
    "start_time": "2023-04-13T13:56:49.688Z"
   },
   {
    "duration": 87,
    "start_time": "2023-04-13T13:56:49.754Z"
   },
   {
    "duration": 5,
    "start_time": "2023-04-13T13:56:49.843Z"
   },
   {
    "duration": 11,
    "start_time": "2023-04-13T13:56:49.849Z"
   },
   {
    "duration": 36,
    "start_time": "2023-04-13T13:56:49.861Z"
   },
   {
    "duration": 3,
    "start_time": "2023-04-13T13:56:49.899Z"
   },
   {
    "duration": 17,
    "start_time": "2023-04-13T13:56:49.904Z"
   },
   {
    "duration": 10,
    "start_time": "2023-04-13T13:56:49.923Z"
   },
   {
    "duration": 14,
    "start_time": "2023-04-13T13:56:49.935Z"
   },
   {
    "duration": 6,
    "start_time": "2023-04-13T13:56:49.951Z"
   },
   {
    "duration": 28,
    "start_time": "2023-04-13T13:56:49.959Z"
   },
   {
    "duration": 4,
    "start_time": "2023-04-13T13:56:49.989Z"
   },
   {
    "duration": 10,
    "start_time": "2023-04-13T13:56:49.994Z"
   },
   {
    "duration": 10,
    "start_time": "2023-04-13T13:56:50.005Z"
   },
   {
    "duration": 27,
    "start_time": "2023-04-13T13:56:50.017Z"
   },
   {
    "duration": 5,
    "start_time": "2023-04-13T13:56:50.046Z"
   },
   {
    "duration": 41,
    "start_time": "2023-04-13T13:56:50.053Z"
   },
   {
    "duration": 12,
    "start_time": "2023-04-13T13:56:50.095Z"
   },
   {
    "duration": 4,
    "start_time": "2023-04-13T13:56:50.109Z"
   },
   {
    "duration": 13,
    "start_time": "2023-04-13T13:56:50.115Z"
   },
   {
    "duration": 10,
    "start_time": "2023-04-13T14:21:26.002Z"
   },
   {
    "duration": 4,
    "start_time": "2023-04-13T14:21:30.169Z"
   },
   {
    "duration": 4,
    "start_time": "2023-04-13T14:21:31.160Z"
   },
   {
    "duration": 6,
    "start_time": "2023-04-13T14:21:34.589Z"
   },
   {
    "duration": 7,
    "start_time": "2023-04-13T14:25:45.739Z"
   },
   {
    "duration": 6,
    "start_time": "2023-04-13T14:33:58.844Z"
   },
   {
    "duration": 7,
    "start_time": "2023-04-13T14:35:24.753Z"
   },
   {
    "duration": 216,
    "start_time": "2023-04-13T14:35:54.969Z"
   },
   {
    "duration": 11,
    "start_time": "2023-04-13T14:36:01.196Z"
   },
   {
    "duration": 347,
    "start_time": "2023-04-13T14:37:11.836Z"
   },
   {
    "duration": 10,
    "start_time": "2023-04-13T14:41:30.873Z"
   },
   {
    "duration": 14,
    "start_time": "2023-04-13T14:42:16.904Z"
   },
   {
    "duration": 12,
    "start_time": "2023-04-13T14:42:30.775Z"
   },
   {
    "duration": 11,
    "start_time": "2023-04-13T14:42:58.248Z"
   },
   {
    "duration": 11,
    "start_time": "2023-04-13T14:44:55.723Z"
   },
   {
    "duration": 11,
    "start_time": "2023-04-13T14:45:00.604Z"
   },
   {
    "duration": 7,
    "start_time": "2023-04-13T14:45:06.777Z"
   },
   {
    "duration": 10,
    "start_time": "2023-04-13T14:46:07.505Z"
   },
   {
    "duration": 10,
    "start_time": "2023-04-13T14:46:59.339Z"
   },
   {
    "duration": 12,
    "start_time": "2023-04-13T14:48:24.253Z"
   },
   {
    "duration": 176,
    "start_time": "2023-04-13T14:49:07.055Z"
   },
   {
    "duration": 201,
    "start_time": "2023-04-13T14:51:20.489Z"
   },
   {
    "duration": 139,
    "start_time": "2023-04-13T14:52:14.811Z"
   },
   {
    "duration": 153,
    "start_time": "2023-04-13T14:52:18.875Z"
   },
   {
    "duration": 144,
    "start_time": "2023-04-13T14:52:29.381Z"
   },
   {
    "duration": 1060,
    "start_time": "2023-04-13T14:59:16.109Z"
   },
   {
    "duration": 4,
    "start_time": "2023-04-13T15:00:12.279Z"
   },
   {
    "duration": 84,
    "start_time": "2023-04-13T15:00:12.285Z"
   },
   {
    "duration": 10,
    "start_time": "2023-04-13T15:00:12.371Z"
   },
   {
    "duration": 10,
    "start_time": "2023-04-13T15:00:12.384Z"
   },
   {
    "duration": 25,
    "start_time": "2023-04-13T15:00:12.397Z"
   },
   {
    "duration": 13,
    "start_time": "2023-04-13T15:00:12.426Z"
   },
   {
    "duration": 42,
    "start_time": "2023-04-13T15:00:12.441Z"
   },
   {
    "duration": 26,
    "start_time": "2023-04-13T15:00:12.485Z"
   },
   {
    "duration": 39,
    "start_time": "2023-04-13T15:00:12.514Z"
   },
   {
    "duration": 36,
    "start_time": "2023-04-13T15:00:12.555Z"
   },
   {
    "duration": 23,
    "start_time": "2023-04-13T15:00:12.593Z"
   },
   {
    "duration": 18,
    "start_time": "2023-04-13T15:00:12.618Z"
   },
   {
    "duration": 21,
    "start_time": "2023-04-13T15:00:12.639Z"
   },
   {
    "duration": 19,
    "start_time": "2023-04-13T15:00:12.663Z"
   },
   {
    "duration": 22,
    "start_time": "2023-04-13T15:00:12.684Z"
   },
   {
    "duration": 15,
    "start_time": "2023-04-13T15:00:12.708Z"
   },
   {
    "duration": 13,
    "start_time": "2023-04-13T15:00:12.726Z"
   },
   {
    "duration": 17,
    "start_time": "2023-04-13T15:00:12.741Z"
   },
   {
    "duration": 28,
    "start_time": "2023-04-13T15:00:12.760Z"
   },
   {
    "duration": 28,
    "start_time": "2023-04-13T15:00:12.790Z"
   },
   {
    "duration": 190,
    "start_time": "2023-04-13T15:00:12.820Z"
   },
   {
    "duration": 138,
    "start_time": "2023-04-13T15:00:13.012Z"
   },
   {
    "duration": 7,
    "start_time": "2023-04-13T15:00:13.152Z"
   },
   {
    "duration": 42,
    "start_time": "2023-04-13T15:00:13.160Z"
   },
   {
    "duration": 252,
    "start_time": "2023-04-13T15:00:13.204Z"
   },
   {
    "duration": 213,
    "start_time": "2023-04-13T15:00:13.458Z"
   },
   {
    "duration": 416,
    "start_time": "2023-04-13T15:00:13.673Z"
   },
   {
    "duration": 324,
    "start_time": "2023-04-13T15:00:14.091Z"
   },
   {
    "duration": 300,
    "start_time": "2023-04-13T15:00:14.417Z"
   },
   {
    "duration": 165,
    "start_time": "2023-04-13T15:00:14.718Z"
   },
   {
    "duration": 6,
    "start_time": "2023-04-13T15:00:14.887Z"
   },
   {
    "duration": 284,
    "start_time": "2023-04-13T15:00:14.895Z"
   },
   {
    "duration": 5,
    "start_time": "2023-04-13T15:00:15.186Z"
   },
   {
    "duration": 36,
    "start_time": "2023-04-13T15:00:15.193Z"
   },
   {
    "duration": 62,
    "start_time": "2023-04-13T15:00:15.231Z"
   },
   {
    "duration": 85,
    "start_time": "2023-04-13T15:00:15.295Z"
   },
   {
    "duration": 78,
    "start_time": "2023-04-13T15:00:15.382Z"
   },
   {
    "duration": 61,
    "start_time": "2023-04-13T15:00:15.462Z"
   },
   {
    "duration": 21,
    "start_time": "2023-04-13T15:00:15.525Z"
   },
   {
    "duration": 80,
    "start_time": "2023-04-13T15:00:15.548Z"
   },
   {
    "duration": 87,
    "start_time": "2023-04-13T15:00:15.632Z"
   },
   {
    "duration": 5,
    "start_time": "2023-04-13T15:00:15.721Z"
   },
   {
    "duration": 21,
    "start_time": "2023-04-13T15:00:15.727Z"
   },
   {
    "duration": 31,
    "start_time": "2023-04-13T15:00:15.750Z"
   },
   {
    "duration": 5,
    "start_time": "2023-04-13T15:00:15.787Z"
   },
   {
    "duration": 28,
    "start_time": "2023-04-13T15:00:15.794Z"
   },
   {
    "duration": 16,
    "start_time": "2023-04-13T15:00:15.823Z"
   },
   {
    "duration": 11,
    "start_time": "2023-04-13T15:00:15.841Z"
   },
   {
    "duration": 8,
    "start_time": "2023-04-13T15:00:15.853Z"
   },
   {
    "duration": 25,
    "start_time": "2023-04-13T15:00:15.863Z"
   },
   {
    "duration": 4,
    "start_time": "2023-04-13T15:00:15.890Z"
   },
   {
    "duration": 44,
    "start_time": "2023-04-13T15:00:15.895Z"
   },
   {
    "duration": 12,
    "start_time": "2023-04-13T15:00:15.941Z"
   },
   {
    "duration": 27,
    "start_time": "2023-04-13T15:00:15.955Z"
   },
   {
    "duration": 8,
    "start_time": "2023-04-13T15:00:15.983Z"
   },
   {
    "duration": 21,
    "start_time": "2023-04-13T15:00:15.993Z"
   },
   {
    "duration": 32,
    "start_time": "2023-04-13T15:00:16.016Z"
   },
   {
    "duration": 16,
    "start_time": "2023-04-13T15:00:16.049Z"
   },
   {
    "duration": 17,
    "start_time": "2023-04-13T15:00:16.067Z"
   },
   {
    "duration": 1334,
    "start_time": "2023-04-13T15:00:35.806Z"
   },
   {
    "duration": 4,
    "start_time": "2023-04-13T15:01:09.643Z"
   },
   {
    "duration": 98,
    "start_time": "2023-04-13T15:01:09.650Z"
   },
   {
    "duration": 15,
    "start_time": "2023-04-13T15:01:09.751Z"
   },
   {
    "duration": 27,
    "start_time": "2023-04-13T15:01:09.769Z"
   },
   {
    "duration": 35,
    "start_time": "2023-04-13T15:01:09.798Z"
   },
   {
    "duration": 26,
    "start_time": "2023-04-13T15:01:09.836Z"
   },
   {
    "duration": 24,
    "start_time": "2023-04-13T15:01:09.864Z"
   },
   {
    "duration": 17,
    "start_time": "2023-04-13T15:01:09.890Z"
   },
   {
    "duration": 29,
    "start_time": "2023-04-13T15:01:09.908Z"
   },
   {
    "duration": 32,
    "start_time": "2023-04-13T15:01:09.941Z"
   },
   {
    "duration": 41,
    "start_time": "2023-04-13T15:01:09.975Z"
   },
   {
    "duration": 43,
    "start_time": "2023-04-13T15:01:10.018Z"
   },
   {
    "duration": 40,
    "start_time": "2023-04-13T15:01:10.063Z"
   },
   {
    "duration": 19,
    "start_time": "2023-04-13T15:01:10.105Z"
   },
   {
    "duration": 24,
    "start_time": "2023-04-13T15:01:10.126Z"
   },
   {
    "duration": 22,
    "start_time": "2023-04-13T15:01:10.152Z"
   },
   {
    "duration": 11,
    "start_time": "2023-04-13T15:01:10.175Z"
   },
   {
    "duration": 8,
    "start_time": "2023-04-13T15:01:10.187Z"
   },
   {
    "duration": 10,
    "start_time": "2023-04-13T15:01:10.197Z"
   },
   {
    "duration": 11,
    "start_time": "2023-04-13T15:01:10.209Z"
   },
   {
    "duration": 228,
    "start_time": "2023-04-13T15:01:10.222Z"
   },
   {
    "duration": 179,
    "start_time": "2023-04-13T15:01:10.452Z"
   },
   {
    "duration": 9,
    "start_time": "2023-04-13T15:01:10.635Z"
   },
   {
    "duration": 13,
    "start_time": "2023-04-13T15:01:10.646Z"
   },
   {
    "duration": 248,
    "start_time": "2023-04-13T15:01:10.661Z"
   },
   {
    "duration": 210,
    "start_time": "2023-04-13T15:01:10.911Z"
   },
   {
    "duration": 339,
    "start_time": "2023-04-13T15:01:11.123Z"
   },
   {
    "duration": 383,
    "start_time": "2023-04-13T15:01:11.468Z"
   },
   {
    "duration": 343,
    "start_time": "2023-04-13T15:01:11.853Z"
   },
   {
    "duration": 264,
    "start_time": "2023-04-13T15:01:12.199Z"
   },
   {
    "duration": 5,
    "start_time": "2023-04-13T15:01:12.466Z"
   },
   {
    "duration": 300,
    "start_time": "2023-04-13T15:01:12.473Z"
   },
   {
    "duration": 14,
    "start_time": "2023-04-13T15:01:12.776Z"
   },
   {
    "duration": 16,
    "start_time": "2023-04-13T15:01:12.792Z"
   },
   {
    "duration": 57,
    "start_time": "2023-04-13T15:01:12.810Z"
   },
   {
    "duration": 63,
    "start_time": "2023-04-13T15:01:12.869Z"
   },
   {
    "duration": 81,
    "start_time": "2023-04-13T15:01:12.935Z"
   },
   {
    "duration": 92,
    "start_time": "2023-04-13T15:01:13.018Z"
   },
   {
    "duration": 36,
    "start_time": "2023-04-13T15:01:13.112Z"
   },
   {
    "duration": 102,
    "start_time": "2023-04-13T15:01:13.151Z"
   },
   {
    "duration": 100,
    "start_time": "2023-04-13T15:01:13.255Z"
   },
   {
    "duration": 4,
    "start_time": "2023-04-13T15:01:13.357Z"
   },
   {
    "duration": 27,
    "start_time": "2023-04-13T15:01:13.363Z"
   },
   {
    "duration": 36,
    "start_time": "2023-04-13T15:01:13.391Z"
   },
   {
    "duration": 5,
    "start_time": "2023-04-13T15:01:13.429Z"
   },
   {
    "duration": 12,
    "start_time": "2023-04-13T15:01:13.436Z"
   },
   {
    "duration": 9,
    "start_time": "2023-04-13T15:01:13.487Z"
   },
   {
    "duration": 11,
    "start_time": "2023-04-13T15:01:13.499Z"
   },
   {
    "duration": 7,
    "start_time": "2023-04-13T15:01:13.512Z"
   },
   {
    "duration": 20,
    "start_time": "2023-04-13T15:01:13.521Z"
   },
   {
    "duration": 19,
    "start_time": "2023-04-13T15:01:13.544Z"
   },
   {
    "duration": 26,
    "start_time": "2023-04-13T15:01:13.565Z"
   },
   {
    "duration": 22,
    "start_time": "2023-04-13T15:01:13.592Z"
   },
   {
    "duration": 39,
    "start_time": "2023-04-13T15:01:13.616Z"
   },
   {
    "duration": 4,
    "start_time": "2023-04-13T15:01:13.657Z"
   },
   {
    "duration": 9,
    "start_time": "2023-04-13T15:01:13.663Z"
   },
   {
    "duration": 16,
    "start_time": "2023-04-13T15:01:13.674Z"
   },
   {
    "duration": 12,
    "start_time": "2023-04-13T15:01:13.692Z"
   },
   {
    "duration": 16,
    "start_time": "2023-04-13T15:01:13.706Z"
   },
   {
    "duration": 374,
    "start_time": "2023-04-13T15:03:49.997Z"
   },
   {
    "duration": 4,
    "start_time": "2023-04-13T15:05:46.370Z"
   },
   {
    "duration": 15,
    "start_time": "2023-04-13T15:09:00.787Z"
   },
   {
    "duration": 6,
    "start_time": "2023-04-13T15:10:36.281Z"
   },
   {
    "duration": 5,
    "start_time": "2023-04-13T15:11:56.500Z"
   },
   {
    "duration": 6,
    "start_time": "2023-04-13T15:12:13.437Z"
   },
   {
    "duration": 5,
    "start_time": "2023-04-13T15:12:36.663Z"
   },
   {
    "duration": 6,
    "start_time": "2023-04-13T15:12:54.953Z"
   },
   {
    "duration": 5,
    "start_time": "2023-04-13T15:13:35.047Z"
   },
   {
    "duration": 3,
    "start_time": "2023-04-13T15:14:18.552Z"
   },
   {
    "duration": 81,
    "start_time": "2023-04-13T15:14:18.558Z"
   },
   {
    "duration": 10,
    "start_time": "2023-04-13T15:14:18.640Z"
   },
   {
    "duration": 12,
    "start_time": "2023-04-13T15:14:18.652Z"
   },
   {
    "duration": 19,
    "start_time": "2023-04-13T15:14:18.665Z"
   },
   {
    "duration": 19,
    "start_time": "2023-04-13T15:14:18.685Z"
   },
   {
    "duration": 21,
    "start_time": "2023-04-13T15:14:18.705Z"
   },
   {
    "duration": 31,
    "start_time": "2023-04-13T15:14:18.728Z"
   },
   {
    "duration": 16,
    "start_time": "2023-04-13T15:14:18.763Z"
   },
   {
    "duration": 20,
    "start_time": "2023-04-13T15:14:18.781Z"
   },
   {
    "duration": 18,
    "start_time": "2023-04-13T15:14:18.803Z"
   },
   {
    "duration": 16,
    "start_time": "2023-04-13T15:14:18.823Z"
   },
   {
    "duration": 33,
    "start_time": "2023-04-13T15:14:18.841Z"
   },
   {
    "duration": 11,
    "start_time": "2023-04-13T15:14:18.876Z"
   },
   {
    "duration": 11,
    "start_time": "2023-04-13T15:14:18.890Z"
   },
   {
    "duration": 15,
    "start_time": "2023-04-13T15:14:18.903Z"
   },
   {
    "duration": 15,
    "start_time": "2023-04-13T15:14:18.920Z"
   },
   {
    "duration": 18,
    "start_time": "2023-04-13T15:14:18.937Z"
   },
   {
    "duration": 12,
    "start_time": "2023-04-13T15:14:18.957Z"
   },
   {
    "duration": 21,
    "start_time": "2023-04-13T15:14:18.971Z"
   },
   {
    "duration": 15,
    "start_time": "2023-04-13T15:14:18.993Z"
   },
   {
    "duration": 1122,
    "start_time": "2023-04-13T15:14:19.010Z"
   },
   {
    "duration": 0,
    "start_time": "2023-04-13T15:14:20.135Z"
   },
   {
    "duration": 0,
    "start_time": "2023-04-13T15:14:20.136Z"
   },
   {
    "duration": 0,
    "start_time": "2023-04-13T15:14:20.137Z"
   },
   {
    "duration": 0,
    "start_time": "2023-04-13T15:14:20.138Z"
   },
   {
    "duration": 0,
    "start_time": "2023-04-13T15:14:20.139Z"
   },
   {
    "duration": 0,
    "start_time": "2023-04-13T15:14:20.140Z"
   },
   {
    "duration": 0,
    "start_time": "2023-04-13T15:14:20.142Z"
   },
   {
    "duration": 0,
    "start_time": "2023-04-13T15:14:20.143Z"
   },
   {
    "duration": 0,
    "start_time": "2023-04-13T15:14:20.144Z"
   },
   {
    "duration": 0,
    "start_time": "2023-04-13T15:14:20.145Z"
   },
   {
    "duration": 0,
    "start_time": "2023-04-13T15:14:20.146Z"
   },
   {
    "duration": 0,
    "start_time": "2023-04-13T15:14:20.147Z"
   },
   {
    "duration": 0,
    "start_time": "2023-04-13T15:14:20.148Z"
   },
   {
    "duration": 0,
    "start_time": "2023-04-13T15:14:20.149Z"
   },
   {
    "duration": 0,
    "start_time": "2023-04-13T15:14:20.150Z"
   },
   {
    "duration": 0,
    "start_time": "2023-04-13T15:14:20.151Z"
   },
   {
    "duration": 0,
    "start_time": "2023-04-13T15:14:20.152Z"
   },
   {
    "duration": 0,
    "start_time": "2023-04-13T15:14:20.153Z"
   },
   {
    "duration": 0,
    "start_time": "2023-04-13T15:14:20.155Z"
   },
   {
    "duration": 0,
    "start_time": "2023-04-13T15:14:20.156Z"
   },
   {
    "duration": 0,
    "start_time": "2023-04-13T15:14:20.157Z"
   },
   {
    "duration": 0,
    "start_time": "2023-04-13T15:14:20.158Z"
   },
   {
    "duration": 0,
    "start_time": "2023-04-13T15:14:20.159Z"
   },
   {
    "duration": 0,
    "start_time": "2023-04-13T15:14:20.160Z"
   },
   {
    "duration": 0,
    "start_time": "2023-04-13T15:14:20.161Z"
   },
   {
    "duration": 0,
    "start_time": "2023-04-13T15:14:20.162Z"
   },
   {
    "duration": 0,
    "start_time": "2023-04-13T15:14:20.163Z"
   },
   {
    "duration": 0,
    "start_time": "2023-04-13T15:14:20.164Z"
   },
   {
    "duration": 0,
    "start_time": "2023-04-13T15:14:20.165Z"
   },
   {
    "duration": 0,
    "start_time": "2023-04-13T15:14:20.167Z"
   },
   {
    "duration": 0,
    "start_time": "2023-04-13T15:14:20.168Z"
   },
   {
    "duration": 0,
    "start_time": "2023-04-13T15:14:20.169Z"
   },
   {
    "duration": 0,
    "start_time": "2023-04-13T15:14:20.170Z"
   },
   {
    "duration": 0,
    "start_time": "2023-04-13T15:14:20.188Z"
   },
   {
    "duration": 0,
    "start_time": "2023-04-13T15:14:20.189Z"
   },
   {
    "duration": 0,
    "start_time": "2023-04-13T15:14:20.190Z"
   },
   {
    "duration": 0,
    "start_time": "2023-04-13T15:14:20.191Z"
   },
   {
    "duration": 0,
    "start_time": "2023-04-13T15:14:20.192Z"
   },
   {
    "duration": 0,
    "start_time": "2023-04-13T15:14:20.193Z"
   },
   {
    "duration": 1,
    "start_time": "2023-04-13T15:14:20.194Z"
   },
   {
    "duration": 54,
    "start_time": "2023-04-13T17:05:57.982Z"
   },
   {
    "duration": 1154,
    "start_time": "2023-04-13T17:06:06.634Z"
   },
   {
    "duration": 225,
    "start_time": "2023-04-13T17:06:07.790Z"
   },
   {
    "duration": 11,
    "start_time": "2023-04-13T17:06:08.017Z"
   },
   {
    "duration": 12,
    "start_time": "2023-04-13T17:06:08.030Z"
   },
   {
    "duration": 28,
    "start_time": "2023-04-13T17:06:08.043Z"
   },
   {
    "duration": 8,
    "start_time": "2023-04-13T17:06:08.073Z"
   },
   {
    "duration": 12,
    "start_time": "2023-04-13T17:06:08.082Z"
   },
   {
    "duration": 17,
    "start_time": "2023-04-13T17:06:08.095Z"
   },
   {
    "duration": 21,
    "start_time": "2023-04-13T17:06:08.114Z"
   },
   {
    "duration": 13,
    "start_time": "2023-04-13T17:06:08.137Z"
   },
   {
    "duration": 12,
    "start_time": "2023-04-13T17:06:08.151Z"
   },
   {
    "duration": 20,
    "start_time": "2023-04-13T17:06:08.164Z"
   },
   {
    "duration": 13,
    "start_time": "2023-04-13T17:06:08.186Z"
   },
   {
    "duration": 15,
    "start_time": "2023-04-13T17:06:08.200Z"
   },
   {
    "duration": 7,
    "start_time": "2023-04-13T17:06:08.216Z"
   },
   {
    "duration": 9,
    "start_time": "2023-04-13T17:06:08.225Z"
   },
   {
    "duration": 17,
    "start_time": "2023-04-13T17:06:08.236Z"
   },
   {
    "duration": 8,
    "start_time": "2023-04-13T17:06:08.256Z"
   },
   {
    "duration": 20,
    "start_time": "2023-04-13T17:06:08.266Z"
   },
   {
    "duration": 174,
    "start_time": "2023-04-13T17:06:08.288Z"
   },
   {
    "duration": 136,
    "start_time": "2023-04-13T17:06:08.464Z"
   },
   {
    "duration": 7,
    "start_time": "2023-04-13T17:06:08.601Z"
   },
   {
    "duration": 17,
    "start_time": "2023-04-13T17:06:08.609Z"
   },
   {
    "duration": 276,
    "start_time": "2023-04-13T17:06:08.627Z"
   },
   {
    "duration": 212,
    "start_time": "2023-04-13T17:06:08.904Z"
   },
   {
    "duration": 328,
    "start_time": "2023-04-13T17:06:09.118Z"
   },
   {
    "duration": 344,
    "start_time": "2023-04-13T17:06:09.448Z"
   },
   {
    "duration": 273,
    "start_time": "2023-04-13T17:06:09.797Z"
   },
   {
    "duration": 177,
    "start_time": "2023-04-13T17:06:10.073Z"
   },
   {
    "duration": 4,
    "start_time": "2023-04-13T17:06:10.252Z"
   },
   {
    "duration": 282,
    "start_time": "2023-04-13T17:06:10.258Z"
   },
   {
    "duration": 5,
    "start_time": "2023-04-13T17:06:10.541Z"
   },
   {
    "duration": 25,
    "start_time": "2023-04-13T17:06:10.548Z"
   },
   {
    "duration": 58,
    "start_time": "2023-04-13T17:06:10.575Z"
   },
   {
    "duration": 56,
    "start_time": "2023-04-13T17:06:10.635Z"
   },
   {
    "duration": 68,
    "start_time": "2023-04-13T17:06:10.692Z"
   },
   {
    "duration": 60,
    "start_time": "2023-04-13T17:06:10.762Z"
   },
   {
    "duration": 19,
    "start_time": "2023-04-13T17:06:10.824Z"
   },
   {
    "duration": 78,
    "start_time": "2023-04-13T17:06:10.845Z"
   },
   {
    "duration": 95,
    "start_time": "2023-04-13T17:06:10.925Z"
   },
   {
    "duration": 4,
    "start_time": "2023-04-13T17:06:11.022Z"
   },
   {
    "duration": 20,
    "start_time": "2023-04-13T17:06:11.028Z"
   },
   {
    "duration": 38,
    "start_time": "2023-04-13T17:06:11.050Z"
   },
   {
    "duration": 4,
    "start_time": "2023-04-13T17:06:11.089Z"
   },
   {
    "duration": 20,
    "start_time": "2023-04-13T17:06:11.094Z"
   },
   {
    "duration": 28,
    "start_time": "2023-04-13T17:06:11.116Z"
   },
   {
    "duration": 18,
    "start_time": "2023-04-13T17:06:11.145Z"
   },
   {
    "duration": 16,
    "start_time": "2023-04-13T17:06:11.165Z"
   },
   {
    "duration": 12,
    "start_time": "2023-04-13T17:06:11.183Z"
   },
   {
    "duration": 13,
    "start_time": "2023-04-13T17:06:11.196Z"
   },
   {
    "duration": 21,
    "start_time": "2023-04-13T17:06:11.211Z"
   },
   {
    "duration": 21,
    "start_time": "2023-04-13T17:06:11.234Z"
   },
   {
    "duration": 47,
    "start_time": "2023-04-13T17:06:11.258Z"
   },
   {
    "duration": 4,
    "start_time": "2023-04-13T17:06:11.307Z"
   },
   {
    "duration": 13,
    "start_time": "2023-04-13T17:06:11.312Z"
   },
   {
    "duration": 24,
    "start_time": "2023-04-13T17:06:11.327Z"
   },
   {
    "duration": 12,
    "start_time": "2023-04-13T17:06:11.353Z"
   },
   {
    "duration": 16,
    "start_time": "2023-04-13T17:06:11.369Z"
   },
   {
    "duration": 8,
    "start_time": "2023-04-13T17:41:42.270Z"
   },
   {
    "duration": 9,
    "start_time": "2023-04-13T17:44:48.519Z"
   },
   {
    "duration": 43,
    "start_time": "2023-04-13T17:53:23.800Z"
   },
   {
    "duration": 177,
    "start_time": "2023-04-13T17:53:30.210Z"
   },
   {
    "duration": 181,
    "start_time": "2023-04-13T17:54:38.878Z"
   },
   {
    "duration": 148,
    "start_time": "2023-04-13T17:54:49.271Z"
   },
   {
    "duration": 134,
    "start_time": "2023-04-13T17:55:09.661Z"
   },
   {
    "duration": 189,
    "start_time": "2023-04-13T17:57:43.211Z"
   },
   {
    "duration": 169,
    "start_time": "2023-04-13T17:58:03.446Z"
   },
   {
    "duration": 67,
    "start_time": "2023-04-13T18:01:38.979Z"
   },
   {
    "duration": 10,
    "start_time": "2023-04-13T18:02:04.746Z"
   },
   {
    "duration": 235,
    "start_time": "2023-04-13T18:02:10.470Z"
   },
   {
    "duration": 311,
    "start_time": "2023-04-13T18:02:22.651Z"
   },
   {
    "duration": 214,
    "start_time": "2023-04-13T18:12:18.251Z"
   },
   {
    "duration": 305,
    "start_time": "2023-04-13T18:17:38.538Z"
   },
   {
    "duration": 131,
    "start_time": "2023-04-13T18:43:45.542Z"
   },
   {
    "duration": 137,
    "start_time": "2023-04-13T19:03:19.477Z"
   },
   {
    "duration": 69,
    "start_time": "2023-04-13T19:07:43.975Z"
   },
   {
    "duration": 5,
    "start_time": "2023-04-13T19:07:51.251Z"
   },
   {
    "duration": 5,
    "start_time": "2023-04-13T19:08:47.702Z"
   },
   {
    "duration": 6,
    "start_time": "2023-04-13T19:09:06.027Z"
   },
   {
    "duration": 6,
    "start_time": "2023-04-13T19:09:20.119Z"
   },
   {
    "duration": 7,
    "start_time": "2023-04-13T19:09:57.244Z"
   },
   {
    "duration": 378,
    "start_time": "2023-04-13T19:21:14.013Z"
   },
   {
    "duration": 337,
    "start_time": "2023-04-13T19:24:38.739Z"
   },
   {
    "duration": 9,
    "start_time": "2023-04-13T19:26:50.054Z"
   },
   {
    "duration": 6,
    "start_time": "2023-04-13T19:41:13.198Z"
   },
   {
    "duration": 6,
    "start_time": "2023-04-13T19:41:23.575Z"
   },
   {
    "duration": 6,
    "start_time": "2023-04-13T19:41:30.545Z"
   },
   {
    "duration": 23,
    "start_time": "2023-04-13T19:49:17.017Z"
   },
   {
    "duration": 50,
    "start_time": "2023-04-13T19:52:41.542Z"
   },
   {
    "duration": 4,
    "start_time": "2023-04-13T19:53:18.820Z"
   },
   {
    "duration": 10,
    "start_time": "2023-04-13T19:59:24.487Z"
   },
   {
    "duration": 3,
    "start_time": "2023-04-13T20:10:57.305Z"
   },
   {
    "duration": 47,
    "start_time": "2023-04-14T09:13:57.573Z"
   },
   {
    "duration": 1216,
    "start_time": "2023-04-14T09:14:01.398Z"
   },
   {
    "duration": 280,
    "start_time": "2023-04-14T09:14:02.616Z"
   },
   {
    "duration": 11,
    "start_time": "2023-04-14T09:14:02.898Z"
   },
   {
    "duration": 24,
    "start_time": "2023-04-14T09:14:02.910Z"
   },
   {
    "duration": 33,
    "start_time": "2023-04-14T09:14:02.936Z"
   },
   {
    "duration": 22,
    "start_time": "2023-04-14T09:14:02.971Z"
   },
   {
    "duration": 25,
    "start_time": "2023-04-14T09:14:02.995Z"
   },
   {
    "duration": 15,
    "start_time": "2023-04-14T09:14:03.022Z"
   },
   {
    "duration": 65,
    "start_time": "2023-04-14T09:14:03.039Z"
   },
   {
    "duration": 36,
    "start_time": "2023-04-14T09:14:03.105Z"
   },
   {
    "duration": 32,
    "start_time": "2023-04-14T09:14:03.142Z"
   },
   {
    "duration": 42,
    "start_time": "2023-04-14T09:14:03.175Z"
   },
   {
    "duration": 26,
    "start_time": "2023-04-14T09:14:03.218Z"
   },
   {
    "duration": 31,
    "start_time": "2023-04-14T09:14:03.247Z"
   },
   {
    "duration": 71,
    "start_time": "2023-04-14T09:14:03.279Z"
   },
   {
    "duration": 30,
    "start_time": "2023-04-14T09:14:03.352Z"
   },
   {
    "duration": 36,
    "start_time": "2023-04-14T09:14:03.384Z"
   },
   {
    "duration": 27,
    "start_time": "2023-04-14T09:14:03.422Z"
   },
   {
    "duration": 31,
    "start_time": "2023-04-14T09:14:03.451Z"
   },
   {
    "duration": 175,
    "start_time": "2023-04-14T09:14:03.484Z"
   },
   {
    "duration": 131,
    "start_time": "2023-04-14T09:14:03.661Z"
   },
   {
    "duration": 7,
    "start_time": "2023-04-14T09:14:03.794Z"
   },
   {
    "duration": 23,
    "start_time": "2023-04-14T09:14:03.802Z"
   },
   {
    "duration": 317,
    "start_time": "2023-04-14T09:14:03.827Z"
   },
   {
    "duration": 206,
    "start_time": "2023-04-14T09:14:04.146Z"
   },
   {
    "duration": 382,
    "start_time": "2023-04-14T09:14:04.354Z"
   },
   {
    "duration": 315,
    "start_time": "2023-04-14T09:14:04.737Z"
   },
   {
    "duration": 311,
    "start_time": "2023-04-14T09:14:05.054Z"
   },
   {
    "duration": 145,
    "start_time": "2023-04-14T09:14:05.367Z"
   },
   {
    "duration": 7,
    "start_time": "2023-04-14T09:14:05.514Z"
   },
   {
    "duration": 314,
    "start_time": "2023-04-14T09:14:05.522Z"
   },
   {
    "duration": 6,
    "start_time": "2023-04-14T09:14:05.837Z"
   },
   {
    "duration": 36,
    "start_time": "2023-04-14T09:14:05.844Z"
   },
   {
    "duration": 152,
    "start_time": "2023-04-14T09:14:05.881Z"
   },
   {
    "duration": 181,
    "start_time": "2023-04-14T09:14:06.035Z"
   },
   {
    "duration": 105,
    "start_time": "2023-04-14T09:14:06.218Z"
   },
   {
    "duration": 60,
    "start_time": "2023-04-14T09:14:06.324Z"
   },
   {
    "duration": 44,
    "start_time": "2023-04-14T09:14:06.385Z"
   },
   {
    "duration": 66,
    "start_time": "2023-04-14T09:14:06.430Z"
   },
   {
    "duration": 74,
    "start_time": "2023-04-14T09:14:06.497Z"
   },
   {
    "duration": 5,
    "start_time": "2023-04-14T09:14:06.583Z"
   },
   {
    "duration": 9,
    "start_time": "2023-04-14T09:14:06.589Z"
   },
   {
    "duration": 28,
    "start_time": "2023-04-14T09:14:06.599Z"
   },
   {
    "duration": 5,
    "start_time": "2023-04-14T09:14:06.629Z"
   },
   {
    "duration": 22,
    "start_time": "2023-04-14T09:14:06.635Z"
   },
   {
    "duration": 11,
    "start_time": "2023-04-14T09:14:06.658Z"
   },
   {
    "duration": 7,
    "start_time": "2023-04-14T09:14:06.684Z"
   },
   {
    "duration": 15,
    "start_time": "2023-04-14T09:14:06.692Z"
   },
   {
    "duration": 16,
    "start_time": "2023-04-14T09:14:06.709Z"
   },
   {
    "duration": 26,
    "start_time": "2023-04-14T09:14:06.727Z"
   },
   {
    "duration": 19,
    "start_time": "2023-04-14T09:14:06.754Z"
   },
   {
    "duration": 13,
    "start_time": "2023-04-14T09:14:06.774Z"
   },
   {
    "duration": 27,
    "start_time": "2023-04-14T09:14:06.789Z"
   },
   {
    "duration": 4,
    "start_time": "2023-04-14T09:14:06.817Z"
   },
   {
    "duration": 18,
    "start_time": "2023-04-14T09:14:06.823Z"
   },
   {
    "duration": 43,
    "start_time": "2023-04-14T09:14:06.843Z"
   },
   {
    "duration": 33,
    "start_time": "2023-04-14T09:14:06.887Z"
   },
   {
    "duration": 13,
    "start_time": "2023-04-14T11:02:49.591Z"
   },
   {
    "duration": 232,
    "start_time": "2023-04-14T11:03:59.391Z"
   },
   {
    "duration": 14,
    "start_time": "2023-04-14T11:04:13.312Z"
   },
   {
    "duration": 14,
    "start_time": "2023-04-14T11:06:25.917Z"
   },
   {
    "duration": 16,
    "start_time": "2023-04-14T11:10:37.219Z"
   },
   {
    "duration": 17,
    "start_time": "2023-04-14T11:10:55.188Z"
   },
   {
    "duration": 21,
    "start_time": "2023-04-14T11:11:19.235Z"
   },
   {
    "duration": 24,
    "start_time": "2023-04-14T11:15:04.048Z"
   },
   {
    "duration": 319,
    "start_time": "2023-04-14T11:31:28.439Z"
   },
   {
    "duration": 273,
    "start_time": "2023-04-14T14:15:58.534Z"
   },
   {
    "duration": 4,
    "start_time": "2023-04-14T14:38:15.212Z"
   },
   {
    "duration": 78,
    "start_time": "2023-04-14T14:38:15.219Z"
   },
   {
    "duration": 10,
    "start_time": "2023-04-14T14:38:15.300Z"
   },
   {
    "duration": 11,
    "start_time": "2023-04-14T14:38:15.312Z"
   },
   {
    "duration": 18,
    "start_time": "2023-04-14T14:38:15.325Z"
   },
   {
    "duration": 10,
    "start_time": "2023-04-14T14:38:15.344Z"
   },
   {
    "duration": 15,
    "start_time": "2023-04-14T14:38:15.355Z"
   },
   {
    "duration": 18,
    "start_time": "2023-04-14T14:38:15.372Z"
   },
   {
    "duration": 31,
    "start_time": "2023-04-14T14:38:15.392Z"
   },
   {
    "duration": 97,
    "start_time": "2023-04-14T14:38:15.424Z"
   },
   {
    "duration": 18,
    "start_time": "2023-04-14T14:38:15.524Z"
   },
   {
    "duration": 21,
    "start_time": "2023-04-14T14:38:15.544Z"
   },
   {
    "duration": 39,
    "start_time": "2023-04-14T14:38:15.566Z"
   },
   {
    "duration": 12,
    "start_time": "2023-04-14T14:38:15.607Z"
   },
   {
    "duration": 15,
    "start_time": "2023-04-14T14:38:15.620Z"
   },
   {
    "duration": 16,
    "start_time": "2023-04-14T14:38:15.636Z"
   },
   {
    "duration": 14,
    "start_time": "2023-04-14T14:38:15.654Z"
   },
   {
    "duration": 18,
    "start_time": "2023-04-14T14:38:15.669Z"
   },
   {
    "duration": 19,
    "start_time": "2023-04-14T14:38:15.688Z"
   },
   {
    "duration": 176,
    "start_time": "2023-04-14T14:38:15.708Z"
   },
   {
    "duration": 139,
    "start_time": "2023-04-14T14:38:15.886Z"
   },
   {
    "duration": 11,
    "start_time": "2023-04-14T14:38:16.027Z"
   },
   {
    "duration": 14,
    "start_time": "2023-04-14T14:38:16.040Z"
   },
   {
    "duration": 244,
    "start_time": "2023-04-14T14:38:16.056Z"
   },
   {
    "duration": 202,
    "start_time": "2023-04-14T14:38:16.302Z"
   },
   {
    "duration": 302,
    "start_time": "2023-04-14T14:38:16.505Z"
   },
   {
    "duration": 317,
    "start_time": "2023-04-14T14:38:16.809Z"
   },
   {
    "duration": 284,
    "start_time": "2023-04-14T14:38:17.128Z"
   },
   {
    "duration": 133,
    "start_time": "2023-04-14T14:38:17.416Z"
   },
   {
    "duration": 5,
    "start_time": "2023-04-14T14:38:17.551Z"
   },
   {
    "duration": 268,
    "start_time": "2023-04-14T14:38:17.558Z"
   },
   {
    "duration": 9,
    "start_time": "2023-04-14T14:38:17.828Z"
   },
   {
    "duration": 14,
    "start_time": "2023-04-14T14:38:17.839Z"
   },
   {
    "duration": 58,
    "start_time": "2023-04-14T14:38:17.855Z"
   },
   {
    "duration": 72,
    "start_time": "2023-04-14T14:38:17.915Z"
   },
   {
    "duration": 77,
    "start_time": "2023-04-14T14:38:17.989Z"
   },
   {
    "duration": 65,
    "start_time": "2023-04-14T14:38:18.068Z"
   },
   {
    "duration": 20,
    "start_time": "2023-04-14T14:38:18.135Z"
   },
   {
    "duration": 82,
    "start_time": "2023-04-14T14:38:18.156Z"
   },
   {
    "duration": 77,
    "start_time": "2023-04-14T14:38:18.240Z"
   },
   {
    "duration": 5,
    "start_time": "2023-04-14T14:38:18.319Z"
   },
   {
    "duration": 11,
    "start_time": "2023-04-14T14:38:18.325Z"
   },
   {
    "duration": 38,
    "start_time": "2023-04-14T14:38:18.337Z"
   },
   {
    "duration": 3,
    "start_time": "2023-04-14T14:38:18.377Z"
   },
   {
    "duration": 23,
    "start_time": "2023-04-14T14:38:18.383Z"
   },
   {
    "duration": 19,
    "start_time": "2023-04-14T14:38:18.408Z"
   },
   {
    "duration": 17,
    "start_time": "2023-04-14T14:38:18.428Z"
   },
   {
    "duration": 17,
    "start_time": "2023-04-14T14:38:18.446Z"
   },
   {
    "duration": 13,
    "start_time": "2023-04-14T14:38:18.464Z"
   },
   {
    "duration": 21,
    "start_time": "2023-04-14T14:38:18.478Z"
   },
   {
    "duration": 31,
    "start_time": "2023-04-14T14:38:18.501Z"
   },
   {
    "duration": 36,
    "start_time": "2023-04-14T14:38:18.534Z"
   },
   {
    "duration": 43,
    "start_time": "2023-04-14T14:38:18.572Z"
   },
   {
    "duration": 4,
    "start_time": "2023-04-14T14:38:18.616Z"
   },
   {
    "duration": 10,
    "start_time": "2023-04-14T14:38:18.622Z"
   },
   {
    "duration": 10,
    "start_time": "2023-04-14T14:38:18.634Z"
   },
   {
    "duration": 7,
    "start_time": "2023-04-14T14:38:18.646Z"
   },
   {
    "duration": 4,
    "start_time": "2023-04-14T14:40:16.482Z"
   },
   {
    "duration": 4,
    "start_time": "2023-04-14T14:40:48.968Z"
   },
   {
    "duration": 4,
    "start_time": "2023-04-14T14:41:20.705Z"
   },
   {
    "duration": 5,
    "start_time": "2023-04-14T14:41:34.856Z"
   },
   {
    "duration": 5,
    "start_time": "2023-04-14T14:42:08.564Z"
   },
   {
    "duration": 7,
    "start_time": "2023-04-14T14:42:42.826Z"
   },
   {
    "duration": 23,
    "start_time": "2023-04-14T14:44:11.387Z"
   },
   {
    "duration": 5,
    "start_time": "2023-04-14T14:44:47.079Z"
   },
   {
    "duration": 131,
    "start_time": "2023-04-14T14:44:54.452Z"
   },
   {
    "duration": 119,
    "start_time": "2023-04-14T14:45:32.531Z"
   },
   {
    "duration": 112,
    "start_time": "2023-04-14T14:45:47.092Z"
   },
   {
    "duration": 6,
    "start_time": "2023-04-14T14:46:30.522Z"
   },
   {
    "duration": 140,
    "start_time": "2023-04-14T14:47:24.693Z"
   },
   {
    "duration": 6,
    "start_time": "2023-04-14T14:47:59.628Z"
   },
   {
    "duration": 4,
    "start_time": "2023-04-14T14:49:21.036Z"
   },
   {
    "duration": 5,
    "start_time": "2023-04-14T14:49:55.168Z"
   },
   {
    "duration": 18,
    "start_time": "2023-04-14T14:50:05.924Z"
   },
   {
    "duration": 3,
    "start_time": "2023-04-14T14:50:37.229Z"
   },
   {
    "duration": 98,
    "start_time": "2023-04-14T14:50:37.234Z"
   },
   {
    "duration": 10,
    "start_time": "2023-04-14T14:50:37.334Z"
   },
   {
    "duration": 17,
    "start_time": "2023-04-14T14:50:37.345Z"
   },
   {
    "duration": 27,
    "start_time": "2023-04-14T14:50:37.364Z"
   },
   {
    "duration": 23,
    "start_time": "2023-04-14T14:50:37.394Z"
   },
   {
    "duration": 28,
    "start_time": "2023-04-14T14:50:37.418Z"
   },
   {
    "duration": 15,
    "start_time": "2023-04-14T14:50:37.447Z"
   },
   {
    "duration": 41,
    "start_time": "2023-04-14T14:50:37.463Z"
   },
   {
    "duration": 55,
    "start_time": "2023-04-14T14:50:37.506Z"
   },
   {
    "duration": 19,
    "start_time": "2023-04-14T14:50:37.564Z"
   },
   {
    "duration": 33,
    "start_time": "2023-04-14T14:50:37.589Z"
   },
   {
    "duration": 29,
    "start_time": "2023-04-14T14:50:37.624Z"
   },
   {
    "duration": 55,
    "start_time": "2023-04-14T14:50:37.655Z"
   },
   {
    "duration": 18,
    "start_time": "2023-04-14T14:50:37.712Z"
   },
   {
    "duration": 41,
    "start_time": "2023-04-14T14:50:37.732Z"
   },
   {
    "duration": 44,
    "start_time": "2023-04-14T14:50:37.775Z"
   },
   {
    "duration": 18,
    "start_time": "2023-04-14T14:50:37.821Z"
   },
   {
    "duration": 31,
    "start_time": "2023-04-14T14:50:37.842Z"
   },
   {
    "duration": 208,
    "start_time": "2023-04-14T14:50:37.875Z"
   },
   {
    "duration": 8,
    "start_time": "2023-04-14T14:50:38.085Z"
   },
   {
    "duration": 148,
    "start_time": "2023-04-14T14:50:38.096Z"
   },
   {
    "duration": 6,
    "start_time": "2023-04-14T14:50:38.246Z"
   },
   {
    "duration": 47,
    "start_time": "2023-04-14T14:50:38.253Z"
   },
   {
    "duration": 24,
    "start_time": "2023-04-14T14:50:38.302Z"
   },
   {
    "duration": 254,
    "start_time": "2023-04-14T14:50:38.327Z"
   },
   {
    "duration": 245,
    "start_time": "2023-04-14T14:50:38.584Z"
   },
   {
    "duration": 326,
    "start_time": "2023-04-14T14:50:38.831Z"
   },
   {
    "duration": 491,
    "start_time": "2023-04-14T14:50:39.161Z"
   },
   {
    "duration": 348,
    "start_time": "2023-04-14T14:50:39.654Z"
   },
   {
    "duration": 159,
    "start_time": "2023-04-14T14:50:40.004Z"
   },
   {
    "duration": 22,
    "start_time": "2023-04-14T14:50:40.165Z"
   },
   {
    "duration": 310,
    "start_time": "2023-04-14T14:50:40.192Z"
   },
   {
    "duration": 6,
    "start_time": "2023-04-14T14:50:40.503Z"
   },
   {
    "duration": 15,
    "start_time": "2023-04-14T14:50:40.511Z"
   },
   {
    "duration": 73,
    "start_time": "2023-04-14T14:50:40.527Z"
   },
   {
    "duration": 64,
    "start_time": "2023-04-14T14:50:40.602Z"
   },
   {
    "duration": 77,
    "start_time": "2023-04-14T14:50:40.668Z"
   },
   {
    "duration": 109,
    "start_time": "2023-04-14T14:50:40.747Z"
   },
   {
    "duration": 27,
    "start_time": "2023-04-14T14:50:40.858Z"
   },
   {
    "duration": 68,
    "start_time": "2023-04-14T14:50:40.896Z"
   },
   {
    "duration": 96,
    "start_time": "2023-04-14T14:50:40.965Z"
   },
   {
    "duration": 4,
    "start_time": "2023-04-14T14:50:41.063Z"
   },
   {
    "duration": 28,
    "start_time": "2023-04-14T14:50:41.069Z"
   },
   {
    "duration": 28,
    "start_time": "2023-04-14T14:50:41.099Z"
   },
   {
    "duration": 4,
    "start_time": "2023-04-14T14:50:41.129Z"
   },
   {
    "duration": 14,
    "start_time": "2023-04-14T14:50:41.134Z"
   },
   {
    "duration": 9,
    "start_time": "2023-04-14T14:50:41.149Z"
   },
   {
    "duration": 27,
    "start_time": "2023-04-14T14:50:41.160Z"
   },
   {
    "duration": 10,
    "start_time": "2023-04-14T14:50:41.190Z"
   },
   {
    "duration": 7,
    "start_time": "2023-04-14T14:50:41.202Z"
   },
   {
    "duration": 6,
    "start_time": "2023-04-14T14:50:41.211Z"
   },
   {
    "duration": 7,
    "start_time": "2023-04-14T14:50:41.219Z"
   },
   {
    "duration": 17,
    "start_time": "2023-04-14T14:50:41.227Z"
   },
   {
    "duration": 24,
    "start_time": "2023-04-14T14:50:41.245Z"
   },
   {
    "duration": 11,
    "start_time": "2023-04-14T14:50:41.285Z"
   },
   {
    "duration": 14,
    "start_time": "2023-04-14T14:50:41.298Z"
   },
   {
    "duration": 14,
    "start_time": "2023-04-14T14:50:41.314Z"
   },
   {
    "duration": 14,
    "start_time": "2023-04-14T14:50:41.329Z"
   },
   {
    "duration": 1066,
    "start_time": "2023-04-14T16:07:19.688Z"
   },
   {
    "duration": 127,
    "start_time": "2023-04-14T16:07:20.756Z"
   },
   {
    "duration": 11,
    "start_time": "2023-04-14T16:07:20.885Z"
   },
   {
    "duration": 17,
    "start_time": "2023-04-14T16:07:20.898Z"
   },
   {
    "duration": 12,
    "start_time": "2023-04-14T16:07:20.916Z"
   },
   {
    "duration": 8,
    "start_time": "2023-04-14T16:07:20.930Z"
   },
   {
    "duration": 15,
    "start_time": "2023-04-14T16:07:20.939Z"
   },
   {
    "duration": 7,
    "start_time": "2023-04-14T16:07:20.956Z"
   },
   {
    "duration": 22,
    "start_time": "2023-04-14T16:07:20.964Z"
   },
   {
    "duration": 21,
    "start_time": "2023-04-14T16:07:20.989Z"
   },
   {
    "duration": 12,
    "start_time": "2023-04-14T16:07:21.011Z"
   },
   {
    "duration": 16,
    "start_time": "2023-04-14T16:07:21.025Z"
   },
   {
    "duration": 6,
    "start_time": "2023-04-14T16:07:21.043Z"
   },
   {
    "duration": 24,
    "start_time": "2023-04-14T16:07:21.051Z"
   },
   {
    "duration": 10,
    "start_time": "2023-04-14T16:07:21.084Z"
   },
   {
    "duration": 17,
    "start_time": "2023-04-14T16:07:21.096Z"
   },
   {
    "duration": 24,
    "start_time": "2023-04-14T16:07:21.114Z"
   },
   {
    "duration": 16,
    "start_time": "2023-04-14T16:07:21.140Z"
   },
   {
    "duration": 14,
    "start_time": "2023-04-14T16:07:21.158Z"
   },
   {
    "duration": 169,
    "start_time": "2023-04-14T16:07:21.173Z"
   },
   {
    "duration": 5,
    "start_time": "2023-04-14T16:07:21.343Z"
   },
   {
    "duration": 142,
    "start_time": "2023-04-14T16:07:21.350Z"
   },
   {
    "duration": 5,
    "start_time": "2023-04-14T16:07:21.495Z"
   },
   {
    "duration": 15,
    "start_time": "2023-04-14T16:07:21.502Z"
   },
   {
    "duration": 10,
    "start_time": "2023-04-14T16:07:21.519Z"
   },
   {
    "duration": 310,
    "start_time": "2023-04-14T16:07:21.531Z"
   },
   {
    "duration": 222,
    "start_time": "2023-04-14T16:07:21.843Z"
   },
   {
    "duration": 343,
    "start_time": "2023-04-14T16:07:22.068Z"
   },
   {
    "duration": 357,
    "start_time": "2023-04-14T16:07:22.412Z"
   },
   {
    "duration": 328,
    "start_time": "2023-04-14T16:07:22.771Z"
   },
   {
    "duration": 173,
    "start_time": "2023-04-14T16:07:23.101Z"
   },
   {
    "duration": 7,
    "start_time": "2023-04-14T16:07:23.282Z"
   },
   {
    "duration": 302,
    "start_time": "2023-04-14T16:07:23.291Z"
   },
   {
    "duration": 6,
    "start_time": "2023-04-14T16:07:23.595Z"
   },
   {
    "duration": 10,
    "start_time": "2023-04-14T16:07:23.603Z"
   },
   {
    "duration": 49,
    "start_time": "2023-04-14T16:07:23.615Z"
   },
   {
    "duration": 61,
    "start_time": "2023-04-14T16:07:23.666Z"
   },
   {
    "duration": 83,
    "start_time": "2023-04-14T16:07:23.729Z"
   },
   {
    "duration": 70,
    "start_time": "2023-04-14T16:07:23.813Z"
   },
   {
    "duration": 22,
    "start_time": "2023-04-14T16:07:23.885Z"
   },
   {
    "duration": 85,
    "start_time": "2023-04-14T16:07:23.909Z"
   },
   {
    "duration": 89,
    "start_time": "2023-04-14T16:07:23.996Z"
   },
   {
    "duration": 4,
    "start_time": "2023-04-14T16:07:24.087Z"
   },
   {
    "duration": 20,
    "start_time": "2023-04-14T16:07:24.093Z"
   },
   {
    "duration": 31,
    "start_time": "2023-04-14T16:07:24.115Z"
   },
   {
    "duration": 4,
    "start_time": "2023-04-14T16:07:24.148Z"
   },
   {
    "duration": 23,
    "start_time": "2023-04-14T16:07:24.154Z"
   },
   {
    "duration": 13,
    "start_time": "2023-04-14T16:07:24.178Z"
   },
   {
    "duration": 17,
    "start_time": "2023-04-14T16:07:24.192Z"
   },
   {
    "duration": 15,
    "start_time": "2023-04-14T16:07:24.211Z"
   },
   {
    "duration": 10,
    "start_time": "2023-04-14T16:07:24.228Z"
   },
   {
    "duration": 14,
    "start_time": "2023-04-14T16:07:24.239Z"
   },
   {
    "duration": 12,
    "start_time": "2023-04-14T16:07:24.255Z"
   },
   {
    "duration": 26,
    "start_time": "2023-04-14T16:07:24.268Z"
   },
   {
    "duration": 56,
    "start_time": "2023-04-14T16:07:24.296Z"
   },
   {
    "duration": 4,
    "start_time": "2023-04-14T16:07:24.354Z"
   },
   {
    "duration": 18,
    "start_time": "2023-04-14T16:07:24.360Z"
   },
   {
    "duration": 16,
    "start_time": "2023-04-14T16:07:24.380Z"
   },
   {
    "duration": 11,
    "start_time": "2023-04-14T16:07:24.398Z"
   },
   {
    "duration": 1011,
    "start_time": "2023-04-14T16:48:49.135Z"
   },
   {
    "duration": 104,
    "start_time": "2023-04-14T16:48:50.148Z"
   },
   {
    "duration": 11,
    "start_time": "2023-04-14T16:48:50.254Z"
   },
   {
    "duration": 16,
    "start_time": "2023-04-14T16:48:50.266Z"
   },
   {
    "duration": 22,
    "start_time": "2023-04-14T16:48:50.284Z"
   },
   {
    "duration": 15,
    "start_time": "2023-04-14T16:48:50.307Z"
   },
   {
    "duration": 13,
    "start_time": "2023-04-14T16:48:50.324Z"
   },
   {
    "duration": 9,
    "start_time": "2023-04-14T16:48:50.338Z"
   },
   {
    "duration": 29,
    "start_time": "2023-04-14T16:48:50.349Z"
   },
   {
    "duration": 19,
    "start_time": "2023-04-14T16:48:50.379Z"
   },
   {
    "duration": 15,
    "start_time": "2023-04-14T16:48:50.400Z"
   },
   {
    "duration": 22,
    "start_time": "2023-04-14T16:48:50.416Z"
   },
   {
    "duration": 19,
    "start_time": "2023-04-14T16:48:50.440Z"
   },
   {
    "duration": 7,
    "start_time": "2023-04-14T16:48:50.464Z"
   },
   {
    "duration": 6,
    "start_time": "2023-04-14T16:48:50.473Z"
   },
   {
    "duration": 17,
    "start_time": "2023-04-14T16:48:50.480Z"
   },
   {
    "duration": 10,
    "start_time": "2023-04-14T16:48:50.499Z"
   },
   {
    "duration": 7,
    "start_time": "2023-04-14T16:48:50.511Z"
   },
   {
    "duration": 12,
    "start_time": "2023-04-14T16:48:50.520Z"
   },
   {
    "duration": 176,
    "start_time": "2023-04-14T16:48:50.534Z"
   },
   {
    "duration": 4,
    "start_time": "2023-04-14T16:48:50.712Z"
   },
   {
    "duration": 127,
    "start_time": "2023-04-14T16:48:50.718Z"
   },
   {
    "duration": 21,
    "start_time": "2023-04-14T16:48:50.847Z"
   },
   {
    "duration": 13,
    "start_time": "2023-04-14T16:48:50.870Z"
   },
   {
    "duration": 8,
    "start_time": "2023-04-14T16:48:50.884Z"
   },
   {
    "duration": 276,
    "start_time": "2023-04-14T16:48:50.893Z"
   },
   {
    "duration": 206,
    "start_time": "2023-04-14T16:48:51.170Z"
   },
   {
    "duration": 324,
    "start_time": "2023-04-14T16:48:51.378Z"
   },
   {
    "duration": 300,
    "start_time": "2023-04-14T16:48:51.703Z"
   },
   {
    "duration": 299,
    "start_time": "2023-04-14T16:48:52.005Z"
   },
   {
    "duration": 153,
    "start_time": "2023-04-14T16:48:52.306Z"
   },
   {
    "duration": 6,
    "start_time": "2023-04-14T16:48:52.461Z"
   },
   {
    "duration": 305,
    "start_time": "2023-04-14T16:48:52.484Z"
   },
   {
    "duration": 5,
    "start_time": "2023-04-14T16:48:52.790Z"
   },
   {
    "duration": 6,
    "start_time": "2023-04-14T16:48:52.797Z"
   },
   {
    "duration": 44,
    "start_time": "2023-04-14T16:48:52.805Z"
   },
   {
    "duration": 72,
    "start_time": "2023-04-14T16:48:52.851Z"
   },
   {
    "duration": 69,
    "start_time": "2023-04-14T16:48:52.925Z"
   },
   {
    "duration": 60,
    "start_time": "2023-04-14T16:48:52.995Z"
   },
   {
    "duration": 38,
    "start_time": "2023-04-14T16:48:53.057Z"
   },
   {
    "duration": 101,
    "start_time": "2023-04-14T16:48:53.100Z"
   },
   {
    "duration": 100,
    "start_time": "2023-04-14T16:48:53.203Z"
   },
   {
    "duration": 6,
    "start_time": "2023-04-14T16:48:53.305Z"
   },
   {
    "duration": 7,
    "start_time": "2023-04-14T16:48:53.313Z"
   },
   {
    "duration": 29,
    "start_time": "2023-04-14T16:48:53.322Z"
   },
   {
    "duration": 3,
    "start_time": "2023-04-14T16:48:53.353Z"
   },
   {
    "duration": 33,
    "start_time": "2023-04-14T16:48:53.358Z"
   },
   {
    "duration": 15,
    "start_time": "2023-04-14T16:48:53.392Z"
   },
   {
    "duration": 8,
    "start_time": "2023-04-14T16:48:53.409Z"
   },
   {
    "duration": 22,
    "start_time": "2023-04-14T16:48:53.418Z"
   },
   {
    "duration": 15,
    "start_time": "2023-04-14T16:48:53.442Z"
   },
   {
    "duration": 6,
    "start_time": "2023-04-14T16:48:53.459Z"
   },
   {
    "duration": 10,
    "start_time": "2023-04-14T16:48:53.466Z"
   },
   {
    "duration": 10,
    "start_time": "2023-04-14T16:48:53.478Z"
   },
   {
    "duration": 23,
    "start_time": "2023-04-14T16:48:53.490Z"
   },
   {
    "duration": 4,
    "start_time": "2023-04-14T16:48:53.514Z"
   },
   {
    "duration": 11,
    "start_time": "2023-04-14T16:48:53.519Z"
   },
   {
    "duration": 24,
    "start_time": "2023-04-14T16:48:53.531Z"
   },
   {
    "duration": 3,
    "start_time": "2023-04-14T16:48:53.557Z"
   },
   {
    "duration": 8,
    "start_time": "2023-04-14T18:06:44.801Z"
   },
   {
    "duration": 11,
    "start_time": "2023-04-14T18:06:56.600Z"
   },
   {
    "duration": 9,
    "start_time": "2023-04-14T18:07:18.616Z"
   },
   {
    "duration": 11,
    "start_time": "2023-04-14T18:07:24.885Z"
   },
   {
    "duration": 7,
    "start_time": "2023-04-14T18:15:13.200Z"
   },
   {
    "duration": 7,
    "start_time": "2023-04-14T18:15:33.103Z"
   },
   {
    "duration": 7,
    "start_time": "2023-04-14T18:16:28.236Z"
   },
   {
    "duration": 8,
    "start_time": "2023-04-14T18:16:49.375Z"
   },
   {
    "duration": 3,
    "start_time": "2023-04-14T18:17:59.393Z"
   },
   {
    "duration": 104,
    "start_time": "2023-04-14T18:17:59.398Z"
   },
   {
    "duration": 10,
    "start_time": "2023-04-14T18:17:59.504Z"
   },
   {
    "duration": 22,
    "start_time": "2023-04-14T18:17:59.515Z"
   },
   {
    "duration": 12,
    "start_time": "2023-04-14T18:17:59.539Z"
   },
   {
    "duration": 7,
    "start_time": "2023-04-14T18:17:59.553Z"
   },
   {
    "duration": 8,
    "start_time": "2023-04-14T18:17:59.562Z"
   },
   {
    "duration": 9,
    "start_time": "2023-04-14T18:17:59.571Z"
   },
   {
    "duration": 10,
    "start_time": "2023-04-14T18:17:59.581Z"
   },
   {
    "duration": 20,
    "start_time": "2023-04-14T18:17:59.593Z"
   },
   {
    "duration": 11,
    "start_time": "2023-04-14T18:17:59.615Z"
   },
   {
    "duration": 16,
    "start_time": "2023-04-14T18:17:59.627Z"
   },
   {
    "duration": 9,
    "start_time": "2023-04-14T18:17:59.644Z"
   },
   {
    "duration": 12,
    "start_time": "2023-04-14T18:17:59.655Z"
   },
   {
    "duration": 17,
    "start_time": "2023-04-14T18:17:59.668Z"
   },
   {
    "duration": 7,
    "start_time": "2023-04-14T18:17:59.686Z"
   },
   {
    "duration": 13,
    "start_time": "2023-04-14T18:17:59.695Z"
   },
   {
    "duration": 13,
    "start_time": "2023-04-14T18:17:59.709Z"
   },
   {
    "duration": 10,
    "start_time": "2023-04-14T18:17:59.724Z"
   },
   {
    "duration": 197,
    "start_time": "2023-04-14T18:17:59.735Z"
   },
   {
    "duration": 4,
    "start_time": "2023-04-14T18:17:59.933Z"
   },
   {
    "duration": 133,
    "start_time": "2023-04-14T18:17:59.939Z"
   },
   {
    "duration": 12,
    "start_time": "2023-04-14T18:18:00.074Z"
   },
   {
    "duration": 28,
    "start_time": "2023-04-14T18:18:00.087Z"
   },
   {
    "duration": 12,
    "start_time": "2023-04-14T18:18:00.117Z"
   },
   {
    "duration": 217,
    "start_time": "2023-04-14T18:18:00.130Z"
   },
   {
    "duration": 223,
    "start_time": "2023-04-14T18:18:00.348Z"
   },
   {
    "duration": 331,
    "start_time": "2023-04-14T18:18:00.572Z"
   },
   {
    "duration": 342,
    "start_time": "2023-04-14T18:18:00.907Z"
   },
   {
    "duration": 355,
    "start_time": "2023-04-14T18:18:01.250Z"
   },
   {
    "duration": 141,
    "start_time": "2023-04-14T18:18:01.607Z"
   },
   {
    "duration": 6,
    "start_time": "2023-04-14T18:18:01.749Z"
   },
   {
    "duration": 382,
    "start_time": "2023-04-14T18:18:01.757Z"
   },
   {
    "duration": 6,
    "start_time": "2023-04-14T18:18:02.141Z"
   },
   {
    "duration": 47,
    "start_time": "2023-04-14T18:18:02.149Z"
   },
   {
    "duration": 85,
    "start_time": "2023-04-14T18:18:02.198Z"
   },
   {
    "duration": 67,
    "start_time": "2023-04-14T18:18:02.285Z"
   },
   {
    "duration": 85,
    "start_time": "2023-04-14T18:18:02.353Z"
   },
   {
    "duration": 68,
    "start_time": "2023-04-14T18:18:02.439Z"
   },
   {
    "duration": 21,
    "start_time": "2023-04-14T18:18:02.509Z"
   },
   {
    "duration": 79,
    "start_time": "2023-04-14T18:18:02.532Z"
   },
   {
    "duration": 83,
    "start_time": "2023-04-14T18:18:02.613Z"
   },
   {
    "duration": 4,
    "start_time": "2023-04-14T18:18:02.698Z"
   },
   {
    "duration": 31,
    "start_time": "2023-04-14T18:18:02.703Z"
   },
   {
    "duration": 58,
    "start_time": "2023-04-14T18:18:02.736Z"
   },
   {
    "duration": 18,
    "start_time": "2023-04-14T18:18:02.796Z"
   },
   {
    "duration": 34,
    "start_time": "2023-04-14T18:18:02.816Z"
   },
   {
    "duration": 67,
    "start_time": "2023-04-14T18:18:02.851Z"
   },
   {
    "duration": 77,
    "start_time": "2023-04-14T18:18:02.920Z"
   },
   {
    "duration": 36,
    "start_time": "2023-04-14T18:18:02.999Z"
   },
   {
    "duration": 40,
    "start_time": "2023-04-14T18:18:03.036Z"
   },
   {
    "duration": 48,
    "start_time": "2023-04-14T18:18:03.077Z"
   },
   {
    "duration": 38,
    "start_time": "2023-04-14T18:18:03.127Z"
   },
   {
    "duration": 66,
    "start_time": "2023-04-14T18:18:03.167Z"
   },
   {
    "duration": 49,
    "start_time": "2023-04-14T18:18:03.234Z"
   },
   {
    "duration": 21,
    "start_time": "2023-04-14T18:18:03.285Z"
   },
   {
    "duration": 29,
    "start_time": "2023-04-14T18:18:03.308Z"
   },
   {
    "duration": 51,
    "start_time": "2023-04-14T18:18:03.338Z"
   },
   {
    "duration": 27,
    "start_time": "2023-04-14T18:18:03.390Z"
   },
   {
    "duration": 63,
    "start_time": "2023-04-14T18:22:57.666Z"
   },
   {
    "duration": 10,
    "start_time": "2023-04-14T18:23:08.298Z"
   },
   {
    "duration": 3,
    "start_time": "2023-04-14T18:25:36.591Z"
   },
   {
    "duration": 79,
    "start_time": "2023-04-14T18:25:36.596Z"
   },
   {
    "duration": 10,
    "start_time": "2023-04-14T18:25:36.676Z"
   },
   {
    "duration": 12,
    "start_time": "2023-04-14T18:25:36.687Z"
   },
   {
    "duration": 17,
    "start_time": "2023-04-14T18:25:36.701Z"
   },
   {
    "duration": 18,
    "start_time": "2023-04-14T18:25:36.720Z"
   },
   {
    "duration": 21,
    "start_time": "2023-04-14T18:25:36.739Z"
   },
   {
    "duration": 7,
    "start_time": "2023-04-14T18:25:36.761Z"
   },
   {
    "duration": 12,
    "start_time": "2023-04-14T18:25:36.769Z"
   },
   {
    "duration": 28,
    "start_time": "2023-04-14T18:25:36.783Z"
   },
   {
    "duration": 11,
    "start_time": "2023-04-14T18:25:36.815Z"
   },
   {
    "duration": 12,
    "start_time": "2023-04-14T18:25:36.828Z"
   },
   {
    "duration": 7,
    "start_time": "2023-04-14T18:25:36.842Z"
   },
   {
    "duration": 33,
    "start_time": "2023-04-14T18:25:36.850Z"
   },
   {
    "duration": 5,
    "start_time": "2023-04-14T18:25:36.885Z"
   },
   {
    "duration": 18,
    "start_time": "2023-04-14T18:25:36.892Z"
   },
   {
    "duration": 37,
    "start_time": "2023-04-14T18:25:36.912Z"
   },
   {
    "duration": 23,
    "start_time": "2023-04-14T18:25:36.951Z"
   },
   {
    "duration": 15,
    "start_time": "2023-04-14T18:25:36.976Z"
   },
   {
    "duration": 157,
    "start_time": "2023-04-14T18:25:36.992Z"
   },
   {
    "duration": 5,
    "start_time": "2023-04-14T18:25:37.150Z"
   },
   {
    "duration": 145,
    "start_time": "2023-04-14T18:25:37.156Z"
   },
   {
    "duration": 20,
    "start_time": "2023-04-14T18:25:37.303Z"
   },
   {
    "duration": 67,
    "start_time": "2023-04-14T18:25:37.325Z"
   },
   {
    "duration": 18,
    "start_time": "2023-04-14T18:25:37.394Z"
   },
   {
    "duration": 230,
    "start_time": "2023-04-14T18:25:37.414Z"
   },
   {
    "duration": 227,
    "start_time": "2023-04-14T18:25:37.646Z"
   },
   {
    "duration": 314,
    "start_time": "2023-04-14T18:25:37.883Z"
   },
   {
    "duration": 313,
    "start_time": "2023-04-14T18:25:38.202Z"
   },
   {
    "duration": 281,
    "start_time": "2023-04-14T18:25:38.516Z"
   },
   {
    "duration": 137,
    "start_time": "2023-04-14T18:25:38.799Z"
   },
   {
    "duration": 6,
    "start_time": "2023-04-14T18:25:38.938Z"
   },
   {
    "duration": 285,
    "start_time": "2023-04-14T18:25:38.945Z"
   },
   {
    "duration": 6,
    "start_time": "2023-04-14T18:25:39.231Z"
   },
   {
    "duration": 14,
    "start_time": "2023-04-14T18:25:39.239Z"
   },
   {
    "duration": 61,
    "start_time": "2023-04-14T18:25:39.255Z"
   },
   {
    "duration": 57,
    "start_time": "2023-04-14T18:25:39.317Z"
   },
   {
    "duration": 66,
    "start_time": "2023-04-14T18:25:39.376Z"
   },
   {
    "duration": 71,
    "start_time": "2023-04-14T18:25:39.444Z"
   },
   {
    "duration": 22,
    "start_time": "2023-04-14T18:25:39.516Z"
   },
   {
    "duration": 93,
    "start_time": "2023-04-14T18:25:39.540Z"
   },
   {
    "duration": 90,
    "start_time": "2023-04-14T18:25:39.635Z"
   },
   {
    "duration": 4,
    "start_time": "2023-04-14T18:25:39.726Z"
   },
   {
    "duration": 21,
    "start_time": "2023-04-14T18:25:39.732Z"
   },
   {
    "duration": 49,
    "start_time": "2023-04-14T18:25:39.755Z"
   },
   {
    "duration": 10,
    "start_time": "2023-04-14T18:25:39.806Z"
   },
   {
    "duration": 44,
    "start_time": "2023-04-14T18:25:39.818Z"
   },
   {
    "duration": 33,
    "start_time": "2023-04-14T18:25:39.864Z"
   },
   {
    "duration": 38,
    "start_time": "2023-04-14T18:25:39.899Z"
   },
   {
    "duration": 31,
    "start_time": "2023-04-14T18:25:39.938Z"
   },
   {
    "duration": 23,
    "start_time": "2023-04-14T18:25:39.970Z"
   },
   {
    "duration": 31,
    "start_time": "2023-04-14T18:25:39.994Z"
   },
   {
    "duration": 30,
    "start_time": "2023-04-14T18:25:40.027Z"
   },
   {
    "duration": 45,
    "start_time": "2023-04-14T18:25:40.059Z"
   },
   {
    "duration": 51,
    "start_time": "2023-04-14T18:25:40.105Z"
   },
   {
    "duration": 6,
    "start_time": "2023-04-14T18:25:40.157Z"
   },
   {
    "duration": 34,
    "start_time": "2023-04-14T18:25:40.165Z"
   },
   {
    "duration": 43,
    "start_time": "2023-04-14T18:25:40.200Z"
   },
   {
    "duration": 23,
    "start_time": "2023-04-14T18:25:40.245Z"
   },
   {
    "duration": 70,
    "start_time": "2023-04-14T18:29:19.839Z"
   },
   {
    "duration": 86,
    "start_time": "2023-04-14T18:35:00.043Z"
   },
   {
    "duration": 181,
    "start_time": "2023-04-14T18:35:08.172Z"
   },
   {
    "duration": 140,
    "start_time": "2023-04-14T18:37:01.718Z"
   },
   {
    "duration": 1087,
    "start_time": "2023-04-15T06:58:30.375Z"
   },
   {
    "duration": 250,
    "start_time": "2023-04-15T06:58:31.465Z"
   },
   {
    "duration": 13,
    "start_time": "2023-04-15T06:58:31.716Z"
   },
   {
    "duration": 31,
    "start_time": "2023-04-15T06:58:31.730Z"
   },
   {
    "duration": 31,
    "start_time": "2023-04-15T06:58:31.763Z"
   },
   {
    "duration": 30,
    "start_time": "2023-04-15T06:58:31.796Z"
   },
   {
    "duration": 30,
    "start_time": "2023-04-15T06:58:31.828Z"
   },
   {
    "duration": 34,
    "start_time": "2023-04-15T06:58:31.859Z"
   },
   {
    "duration": 28,
    "start_time": "2023-04-15T06:58:31.895Z"
   },
   {
    "duration": 33,
    "start_time": "2023-04-15T06:58:31.925Z"
   },
   {
    "duration": 28,
    "start_time": "2023-04-15T06:58:31.960Z"
   },
   {
    "duration": 19,
    "start_time": "2023-04-15T06:58:31.990Z"
   },
   {
    "duration": 26,
    "start_time": "2023-04-15T06:58:32.011Z"
   },
   {
    "duration": 14,
    "start_time": "2023-04-15T06:58:32.041Z"
   },
   {
    "duration": 45,
    "start_time": "2023-04-15T06:58:32.057Z"
   },
   {
    "duration": 41,
    "start_time": "2023-04-15T06:58:32.104Z"
   },
   {
    "duration": 22,
    "start_time": "2023-04-15T06:58:32.147Z"
   },
   {
    "duration": 19,
    "start_time": "2023-04-15T06:58:32.171Z"
   },
   {
    "duration": 16,
    "start_time": "2023-04-15T06:58:32.193Z"
   },
   {
    "duration": 212,
    "start_time": "2023-04-15T06:58:32.212Z"
   },
   {
    "duration": 5,
    "start_time": "2023-04-15T06:58:32.426Z"
   },
   {
    "duration": 133,
    "start_time": "2023-04-15T06:58:32.433Z"
   },
   {
    "duration": 5,
    "start_time": "2023-04-15T06:58:32.568Z"
   },
   {
    "duration": 17,
    "start_time": "2023-04-15T06:58:32.574Z"
   },
   {
    "duration": 12,
    "start_time": "2023-04-15T06:58:32.593Z"
   },
   {
    "duration": 296,
    "start_time": "2023-04-15T06:58:32.608Z"
   },
   {
    "duration": 212,
    "start_time": "2023-04-15T06:58:32.905Z"
   },
   {
    "duration": 357,
    "start_time": "2023-04-15T06:58:33.119Z"
   },
   {
    "duration": 322,
    "start_time": "2023-04-15T06:58:33.478Z"
   },
   {
    "duration": 326,
    "start_time": "2023-04-15T06:58:33.802Z"
   },
   {
    "duration": 147,
    "start_time": "2023-04-15T06:58:34.130Z"
   },
   {
    "duration": 6,
    "start_time": "2023-04-15T06:58:34.279Z"
   },
   {
    "duration": 295,
    "start_time": "2023-04-15T06:58:34.286Z"
   },
   {
    "duration": 6,
    "start_time": "2023-04-15T06:58:34.583Z"
   },
   {
    "duration": 6,
    "start_time": "2023-04-15T06:58:34.591Z"
   },
   {
    "duration": 61,
    "start_time": "2023-04-15T06:58:34.599Z"
   },
   {
    "duration": 58,
    "start_time": "2023-04-15T06:58:34.662Z"
   },
   {
    "duration": 97,
    "start_time": "2023-04-15T06:58:34.722Z"
   },
   {
    "duration": 59,
    "start_time": "2023-04-15T06:58:34.821Z"
   },
   {
    "duration": 73,
    "start_time": "2023-04-15T06:58:34.882Z"
   },
   {
    "duration": 68,
    "start_time": "2023-04-15T06:58:34.959Z"
   },
   {
    "duration": 82,
    "start_time": "2023-04-15T06:58:35.030Z"
   },
   {
    "duration": 6,
    "start_time": "2023-04-15T06:58:35.114Z"
   },
   {
    "duration": 6,
    "start_time": "2023-04-15T06:58:35.121Z"
   },
   {
    "duration": 42,
    "start_time": "2023-04-15T06:58:35.129Z"
   },
   {
    "duration": 3,
    "start_time": "2023-04-15T06:58:35.173Z"
   },
   {
    "duration": 12,
    "start_time": "2023-04-15T06:58:35.178Z"
   },
   {
    "duration": 10,
    "start_time": "2023-04-15T06:58:35.192Z"
   },
   {
    "duration": 20,
    "start_time": "2023-04-15T06:58:35.204Z"
   },
   {
    "duration": 8,
    "start_time": "2023-04-15T06:58:35.226Z"
   },
   {
    "duration": 23,
    "start_time": "2023-04-15T06:58:35.236Z"
   },
   {
    "duration": 11,
    "start_time": "2023-04-15T06:58:35.261Z"
   },
   {
    "duration": 8,
    "start_time": "2023-04-15T06:58:35.275Z"
   },
   {
    "duration": 30,
    "start_time": "2023-04-15T06:58:35.285Z"
   },
   {
    "duration": 38,
    "start_time": "2023-04-15T06:58:35.318Z"
   },
   {
    "duration": 5,
    "start_time": "2023-04-15T06:58:35.358Z"
   },
   {
    "duration": 9,
    "start_time": "2023-04-15T06:58:35.365Z"
   },
   {
    "duration": 45,
    "start_time": "2023-04-15T06:58:35.376Z"
   },
   {
    "duration": 24,
    "start_time": "2023-04-15T06:58:35.422Z"
   },
   {
    "duration": 1036,
    "start_time": "2023-04-15T06:59:49.257Z"
   },
   {
    "duration": 104,
    "start_time": "2023-04-15T06:59:50.295Z"
   },
   {
    "duration": 12,
    "start_time": "2023-04-15T06:59:50.402Z"
   },
   {
    "duration": 4,
    "start_time": "2023-04-15T06:59:50.416Z"
   },
   {
    "duration": 25,
    "start_time": "2023-04-15T06:59:50.422Z"
   },
   {
    "duration": 5,
    "start_time": "2023-04-15T06:59:50.449Z"
   },
   {
    "duration": 22,
    "start_time": "2023-04-15T06:59:50.456Z"
   },
   {
    "duration": 5,
    "start_time": "2023-04-15T06:59:50.480Z"
   },
   {
    "duration": 12,
    "start_time": "2023-04-15T06:59:50.487Z"
   },
   {
    "duration": 24,
    "start_time": "2023-04-15T06:59:50.501Z"
   },
   {
    "duration": 29,
    "start_time": "2023-04-15T06:59:50.527Z"
   },
   {
    "duration": 10,
    "start_time": "2023-04-15T06:59:50.558Z"
   },
   {
    "duration": 8,
    "start_time": "2023-04-15T06:59:50.570Z"
   },
   {
    "duration": 12,
    "start_time": "2023-04-15T06:59:50.581Z"
   },
   {
    "duration": 12,
    "start_time": "2023-04-15T06:59:50.594Z"
   },
   {
    "duration": 19,
    "start_time": "2023-04-15T06:59:50.608Z"
   },
   {
    "duration": 35,
    "start_time": "2023-04-15T06:59:50.629Z"
   },
   {
    "duration": 37,
    "start_time": "2023-04-15T06:59:50.666Z"
   },
   {
    "duration": 17,
    "start_time": "2023-04-15T06:59:50.705Z"
   },
   {
    "duration": 209,
    "start_time": "2023-04-15T06:59:50.724Z"
   },
   {
    "duration": 5,
    "start_time": "2023-04-15T06:59:50.935Z"
   },
   {
    "duration": 146,
    "start_time": "2023-04-15T06:59:50.942Z"
   },
   {
    "duration": 5,
    "start_time": "2023-04-15T06:59:51.090Z"
   },
   {
    "duration": 15,
    "start_time": "2023-04-15T06:59:51.096Z"
   },
   {
    "duration": 23,
    "start_time": "2023-04-15T06:59:51.112Z"
   },
   {
    "duration": 310,
    "start_time": "2023-04-15T06:59:51.137Z"
   },
   {
    "duration": 233,
    "start_time": "2023-04-15T06:59:51.449Z"
   },
   {
    "duration": 316,
    "start_time": "2023-04-15T06:59:51.683Z"
   },
   {
    "duration": 332,
    "start_time": "2023-04-15T06:59:52.000Z"
   },
   {
    "duration": 322,
    "start_time": "2023-04-15T06:59:52.334Z"
   },
   {
    "duration": 144,
    "start_time": "2023-04-15T06:59:52.658Z"
   },
   {
    "duration": 6,
    "start_time": "2023-04-15T06:59:52.804Z"
   },
   {
    "duration": 326,
    "start_time": "2023-04-15T06:59:52.813Z"
   },
   {
    "duration": 15,
    "start_time": "2023-04-15T06:59:53.141Z"
   },
   {
    "duration": 6,
    "start_time": "2023-04-15T06:59:53.158Z"
   },
   {
    "duration": 54,
    "start_time": "2023-04-15T06:59:53.166Z"
   },
   {
    "duration": 76,
    "start_time": "2023-04-15T06:59:53.222Z"
   },
   {
    "duration": 78,
    "start_time": "2023-04-15T06:59:53.300Z"
   },
   {
    "duration": 91,
    "start_time": "2023-04-15T06:59:53.380Z"
   },
   {
    "duration": 23,
    "start_time": "2023-04-15T06:59:53.473Z"
   },
   {
    "duration": 94,
    "start_time": "2023-04-15T06:59:53.501Z"
   },
   {
    "duration": 87,
    "start_time": "2023-04-15T06:59:53.597Z"
   },
   {
    "duration": 5,
    "start_time": "2023-04-15T06:59:53.686Z"
   },
   {
    "duration": 9,
    "start_time": "2023-04-15T06:59:53.693Z"
   },
   {
    "duration": 24,
    "start_time": "2023-04-15T06:59:53.703Z"
   },
   {
    "duration": 4,
    "start_time": "2023-04-15T06:59:53.729Z"
   },
   {
    "duration": 11,
    "start_time": "2023-04-15T06:59:53.757Z"
   },
   {
    "duration": 11,
    "start_time": "2023-04-15T06:59:53.770Z"
   },
   {
    "duration": 8,
    "start_time": "2023-04-15T06:59:53.783Z"
   },
   {
    "duration": 7,
    "start_time": "2023-04-15T06:59:53.793Z"
   },
   {
    "duration": 6,
    "start_time": "2023-04-15T06:59:53.802Z"
   },
   {
    "duration": 5,
    "start_time": "2023-04-15T06:59:53.810Z"
   },
   {
    "duration": 8,
    "start_time": "2023-04-15T06:59:53.856Z"
   },
   {
    "duration": 23,
    "start_time": "2023-04-15T06:59:53.866Z"
   },
   {
    "duration": 36,
    "start_time": "2023-04-15T06:59:53.892Z"
   },
   {
    "duration": 5,
    "start_time": "2023-04-15T06:59:53.931Z"
   },
   {
    "duration": 22,
    "start_time": "2023-04-15T06:59:53.938Z"
   },
   {
    "duration": 15,
    "start_time": "2023-04-15T06:59:53.962Z"
   },
   {
    "duration": 16,
    "start_time": "2023-04-15T06:59:53.980Z"
   }
  ],
  "kernelspec": {
   "display_name": "Python 3 (ipykernel)",
   "language": "python",
   "name": "python3"
  },
  "language_info": {
   "codemirror_mode": {
    "name": "ipython",
    "version": 3
   },
   "file_extension": ".py",
   "mimetype": "text/x-python",
   "name": "python",
   "nbconvert_exporter": "python",
   "pygments_lexer": "ipython3",
   "version": "3.9.13"
  },
  "toc": {
   "base_numbering": 1,
   "nav_menu": {},
   "number_sections": true,
   "sideBar": true,
   "skip_h1_title": true,
   "title_cell": "Table of Contents",
   "title_sidebar": "Contents",
   "toc_cell": false,
   "toc_position": {},
   "toc_section_display": true,
   "toc_window_display": false
  }
 },
 "nbformat": 4,
 "nbformat_minor": 2
}
